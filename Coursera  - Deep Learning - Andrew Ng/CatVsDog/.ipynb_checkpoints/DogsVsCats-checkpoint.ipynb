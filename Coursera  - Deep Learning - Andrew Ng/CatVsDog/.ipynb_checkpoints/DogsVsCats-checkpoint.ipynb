{
 "cells": [
  {
   "cell_type": "code",
   "execution_count": 4,
   "metadata": {},
   "outputs": [
    {
     "name": "stderr",
     "output_type": "stream",
     "text": [
      "Traceback (most recent call last):\n",
      "  File \"c:\\users\\user\\anaconda3\\envs\\lfi\\lib\\runpy.py\", line 193, in _run_module_as_main\n",
      "    \"__main__\", mod_spec)\n",
      "  File \"c:\\users\\user\\anaconda3\\envs\\lfi\\lib\\runpy.py\", line 85, in _run_code\n",
      "    exec(code, run_globals)\n",
      "  File \"C:\\Users\\User\\Anaconda3\\envs\\lfi\\Scripts\\kaggle.exe\\__main__.py\", line 5, in <module>\n",
      "  File \"c:\\users\\user\\anaconda3\\envs\\lfi\\lib\\site-packages\\kaggle\\__init__.py\", line 23, in <module>\n",
      "    api.authenticate()\n",
      "  File \"c:\\users\\user\\anaconda3\\envs\\lfi\\lib\\site-packages\\kaggle\\api\\kaggle_api_extended.py\", line 149, in authenticate\n",
      "    self.config_file, self.config_dir))\n",
      "OSError: Could not find kaggle.json. Make sure it's located in C:\\Users\\User\\.kaggle. Or use the environment method.\n"
     ]
    }
   ],
   "source": [
    "import numpy as np\n",
    "\n",
    "!kaggle competitions download -c dogs-vs-cats\n",
    "\n",
    "# Forward Prop\n",
    "z = w@X + b\n",
    "a = sig(z)\n",
    "\n",
    "# Backprop\n",
    "J = y*log(a) + (1-y)*log(a-1)\n",
    "da = a-y\n",
    "dw = da*X\n",
    "db = 1 #?\n",
    "\n",
    "w+= alpha*dw\n",
    "b+= alpha*db"
   ]
  },
  {
   "cell_type": "code",
   "execution_count": null,
   "metadata": {},
   "outputs": [],
   "source": [
    "Z1 = W1@X+b1\n",
    "A1 = sig(Z1)\n",
    "Z2 = W2@A1+b2\n",
    "A2 = sig(Z2)"
   ]
  }
 ],
 "metadata": {
  "kernelspec": {
   "display_name": "Python 3",
   "language": "python",
   "name": "python3"
  },
  "language_info": {
   "codemirror_mode": {
    "name": "ipython",
    "version": 3
   },
   "file_extension": ".py",
   "mimetype": "text/x-python",
   "name": "python",
   "nbconvert_exporter": "python",
   "pygments_lexer": "ipython3",
   "version": "3.7.4"
  }
 },
 "nbformat": 4,
 "nbformat_minor": 2
}
