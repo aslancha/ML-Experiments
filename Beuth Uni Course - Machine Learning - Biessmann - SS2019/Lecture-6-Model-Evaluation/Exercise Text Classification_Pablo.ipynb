{
 "cells": [
  {
   "cell_type": "markdown",
   "metadata": {},
   "source": [
    "# Text Classification\n",
    "\n",
    "In dieser Aufgabe werden Sie eine Text Classification Pipeline bauen, die Partei gegeben einen Text vorhersagt. \n",
    "Statt der Parlamentsdebatten koennen Sie auch gerne einen anderen Text Datensatz nehmen, wenn Sie einen guten finden.\n",
    "Stellen Sie aber sicher, dass Ihre Kollegen Zugriff auf die Daten haben fuer die Korrektur. "
   ]
  },
  {
   "cell_type": "code",
   "execution_count": 1,
   "metadata": {},
   "outputs": [],
   "source": [
    "import os, gzip\n",
    "import pandas as pd\n",
    "import numpy as np\n",
    "import urllib.request\n",
    "\n",
    "import warnings\n",
    "warnings.filterwarnings('ignore')\n",
    "\n",
    "DATADIR = \"data\"\n",
    "\n",
    "if not os.path.exists(DATADIR): \n",
    "    os.mkdir(DATADIR)\n",
    "\n",
    "file_name = os.path.join(DATADIR, 'bundestags_parlamentsprotokolle.csv.gzip')\n",
    "if not os.path.exists(file_name):\n",
    "    url_data = 'https://www.dropbox.com/s/1nlbfehnrwwa2zj/bundestags_parlamentsprotokolle.csv.gzip?dl=1'\n",
    "    urllib.request.urlretrieve(url_data, file_name)\n",
    "\n",
    "df = pd.read_csv(gzip.open(file_name), index_col=0).sample(frac=1)"
   ]
  },
  {
   "cell_type": "markdown",
   "metadata": {},
   "source": [
    "Ein Auszug der Parlamentsdebatten"
   ]
  },
  {
   "cell_type": "code",
   "execution_count": 2,
   "metadata": {
    "scrolled": true
   },
   "outputs": [
    {
     "data": {
      "text/html": [
       "<div>\n",
       "<style scoped>\n",
       "    .dataframe tbody tr th:only-of-type {\n",
       "        vertical-align: middle;\n",
       "    }\n",
       "\n",
       "    .dataframe tbody tr th {\n",
       "        vertical-align: top;\n",
       "    }\n",
       "\n",
       "    .dataframe thead th {\n",
       "        text-align: right;\n",
       "    }\n",
       "</style>\n",
       "<table border=\"1\" class=\"dataframe\">\n",
       "  <thead>\n",
       "    <tr style=\"text-align: right;\">\n",
       "      <th></th>\n",
       "      <th>sitzung</th>\n",
       "      <th>wahlperiode</th>\n",
       "      <th>sprecher</th>\n",
       "      <th>text</th>\n",
       "      <th>partei</th>\n",
       "    </tr>\n",
       "  </thead>\n",
       "  <tbody>\n",
       "    <tr>\n",
       "      <th>15304</th>\n",
       "      <td>176</td>\n",
       "      <td>17</td>\n",
       "      <td>Johannes Vogel</td>\n",
       "      <td>Herr Präsident! Liebe Kolleginnen und Kollegen...</td>\n",
       "      <td>fdp</td>\n",
       "    </tr>\n",
       "    <tr>\n",
       "      <th>10444</th>\n",
       "      <td>124</td>\n",
       "      <td>17</td>\n",
       "      <td>Georg Schirmbeck</td>\n",
       "      <td>Meine Damen und Herren, auch wenn wir eine frö...</td>\n",
       "      <td>cducsu</td>\n",
       "    </tr>\n",
       "    <tr>\n",
       "      <th>31206</th>\n",
       "      <td>87</td>\n",
       "      <td>18</td>\n",
       "      <td>Franz-Josef Holzenkamp</td>\n",
       "      <td>zeigt die Tatsache, dass Frau Aigner bereits i...</td>\n",
       "      <td>cducsu</td>\n",
       "    </tr>\n",
       "    <tr>\n",
       "      <th>42263</th>\n",
       "      <td>228</td>\n",
       "      <td>18</td>\n",
       "      <td>Dr. Johannes Fechner</td>\n",
       "      <td>Wir haben noch vor der letzten Sommerpause mit...</td>\n",
       "      <td>spd</td>\n",
       "    </tr>\n",
       "  </tbody>\n",
       "</table>\n",
       "</div>"
      ],
      "text/plain": [
       "       sitzung  wahlperiode                sprecher  \\\n",
       "15304      176           17          Johannes Vogel   \n",
       "10444      124           17        Georg Schirmbeck   \n",
       "31206       87           18  Franz-Josef Holzenkamp   \n",
       "42263      228           18    Dr. Johannes Fechner   \n",
       "\n",
       "                                                    text  partei  \n",
       "15304  Herr Präsident! Liebe Kolleginnen und Kollegen...     fdp  \n",
       "10444  Meine Damen und Herren, auch wenn wir eine frö...  cducsu  \n",
       "31206  zeigt die Tatsache, dass Frau Aigner bereits i...  cducsu  \n",
       "42263  Wir haben noch vor der letzten Sommerpause mit...     spd  "
      ]
     },
     "execution_count": 2,
     "metadata": {},
     "output_type": "execute_result"
    }
   ],
   "source": [
    "df[:4]"
   ]
  },
  {
   "cell_type": "markdown",
   "metadata": {},
   "source": [
    "Splitten Sie die Daten in Train (80%) und Test (20%), dafuer koennen sie die sklearn train_test_split function benutzen. \n",
    "\n",
    "Dann trainieren Sie eine Pipeline mit einem geeigneten Vectorizer und einem sklearn Modell Ihrer Wahl. \n",
    "\n",
    "Vergleichen Sie die Precision/Recall/F1 und Accuracy auf dem Train und Test set. "
   ]
  },
  {
   "cell_type": "code",
   "execution_count": 3,
   "metadata": {},
   "outputs": [],
   "source": [
    "from sklearn.feature_extraction.text import TfidfVectorizer\n",
    "from sklearn.model_selection import train_test_split, GridSearchCV\n",
    "from sklearn.neighbors import NearestCentroid\n",
    "from sklearn.linear_model import SGDClassifier\n",
    "from sklearn.pipeline import Pipeline\n",
    "from sklearn.metrics import confusion_matrix, classification_report\n",
    "\n",
    "\n",
    "train_data, test_data, train_labels, test_labels = train_test_split(df['text'], df['partei'], test_size=0.3)\n",
    "\n",
    "ncc_clf = Pipeline([('vect', TfidfVectorizer(max_features=int(1e8))),\n",
    "                            ('clf', NearestCentroid())]).fit(train_data, train_labels)\n",
    "\n",
    "logreg_clf = Pipeline([('vect', TfidfVectorizer(max_features=int(1e8))),\n",
    "                        ('clf', SGDClassifier())]).fit(train_data, train_labels)"
   ]
  },
  {
   "cell_type": "code",
   "execution_count": 4,
   "metadata": {},
   "outputs": [
    {
     "name": "stdout",
     "output_type": "stream",
     "text": [
      "              precision    recall  f1-score   support\n",
      "\n",
      "      cducsu       0.49      0.65      0.56      8440\n",
      "         fdp       0.44      0.22      0.30      4579\n",
      "      gruene       0.46      0.35      0.40      5850\n",
      "       linke       0.61      0.37      0.46      7005\n",
      "         spd       0.28      0.50      0.36      4701\n",
      "\n",
      "    accuracy                           0.44     30575\n",
      "   macro avg       0.46      0.42      0.42     30575\n",
      "weighted avg       0.47      0.44      0.44     30575\n",
      "\n",
      "              precision    recall  f1-score   support\n",
      "\n",
      "      cducsu       0.48      0.62      0.54      3758\n",
      "         fdp       0.35      0.18      0.23      2032\n",
      "      gruene       0.39      0.31      0.34      2302\n",
      "       linke       0.57      0.35      0.44      2936\n",
      "         spd       0.27      0.46      0.34      2076\n",
      "\n",
      "    accuracy                           0.41     13104\n",
      "   macro avg       0.41      0.39      0.38     13104\n",
      "weighted avg       0.43      0.41      0.40     13104\n",
      "\n"
     ]
    }
   ],
   "source": [
    "##Evaluating NCC on Training Data\n",
    "\n",
    "ncc_predictions = ncc_clf.predict(train_data)\n",
    "print(classification_report(ncc_predictions, train_labels))\n",
    "\n",
    "## Evaluating NCC on Test Data\n",
    "\n",
    "ncc_predictions_test = ncc_clf.predict(test_data)\n",
    "print(classification_report(ncc_predictions_test, test_labels))\n",
    "\n"
   ]
  },
  {
   "cell_type": "code",
   "execution_count": 5,
   "metadata": {},
   "outputs": [
    {
     "name": "stdout",
     "output_type": "stream",
     "text": [
      "              precision    recall  f1-score   support\n",
      "\n",
      "      cducsu       0.96      0.69      0.80     15729\n",
      "         fdp       0.33      0.99      0.50       790\n",
      "      gruene       0.73      0.96      0.83      3359\n",
      "       linke       0.90      0.87      0.89      4378\n",
      "         spd       0.66      0.87      0.75      6319\n",
      "\n",
      "    accuracy                           0.79     30575\n",
      "   macro avg       0.72      0.88      0.75     30575\n",
      "weighted avg       0.85      0.79      0.80     30575\n",
      "\n",
      "              precision    recall  f1-score   support\n",
      "\n",
      "      cducsu       0.90      0.57      0.69      7681\n",
      "         fdp       0.05      0.58      0.10        95\n",
      "      gruene       0.29      0.60      0.39       901\n",
      "       linke       0.66      0.61      0.63      1995\n",
      "         spd       0.40      0.59      0.47      2432\n",
      "\n",
      "    accuracy                           0.58     13104\n",
      "   macro avg       0.46      0.59      0.46     13104\n",
      "weighted avg       0.72      0.58      0.62     13104\n",
      "\n"
     ]
    }
   ],
   "source": [
    "## Evaluating Logistic Regression on Training Data\n",
    "\n",
    "logreg_predictions = logreg_clf.predict(train_data)\n",
    "print(classification_report(logreg_predictions, train_labels))\n",
    "\n",
    "## Evaluating Logistic Regression on Training Data\n",
    "\n",
    "logreg_predictions_test = logreg_clf.predict(test_data)\n",
    "print(classification_report(logreg_predictions_test, test_labels))"
   ]
  },
  {
   "cell_type": "code",
   "execution_count": null,
   "metadata": {},
   "outputs": [],
   "source": []
  }
 ],
 "metadata": {
  "kernelspec": {
   "display_name": "Python 3",
   "language": "python",
   "name": "python3"
  },
  "language_info": {
   "codemirror_mode": {
    "name": "ipython",
    "version": 3
   },
   "file_extension": ".py",
   "mimetype": "text/x-python",
   "name": "python",
   "nbconvert_exporter": "python",
   "pygments_lexer": "ipython3",
   "version": "3.6.5"
  }
 },
 "nbformat": 4,
 "nbformat_minor": 2
}
