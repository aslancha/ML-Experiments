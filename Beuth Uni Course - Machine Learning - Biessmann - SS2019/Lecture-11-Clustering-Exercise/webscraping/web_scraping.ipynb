{
 "cells": [
  {
   "cell_type": "markdown",
   "metadata": {
    "slideshow": {
     "slide_type": "slide"
    }
   },
   "source": [
    "# Python for Data Science\n",
    "\n",
    "Getting Web Data: Web Scraping and Rest APIs\n"
   ]
  },
  {
   "cell_type": "markdown",
   "metadata": {
    "slideshow": {
     "slide_type": "slide"
    }
   },
   "source": [
    "- Reading large file collections\n",
    "- Getting tabular data from web pages with ``pandas``\n",
    "- Scraping data with \n",
    " - BeautifulSoup\n",
    " - Scrapy\n",
    "- Data from REST APIs\n",
    "- Building your own REST API with flask"
   ]
  },
  {
   "cell_type": "markdown",
   "metadata": {
    "slideshow": {
     "slide_type": "slide"
    }
   },
   "source": [
    "# Reading Large File Collections\n",
    "\n",
    "- Data from large files (or collections thereof) often does not fit in memory\n",
    "- But computations on such data can be performed in a streaming fashion\n",
    "- For complex computations libraries that support streaming are useful (e.g. ``pandas.read_csv`` with chunksize arg)\n",
    "- Plain python also supports lazy evaluations and computations with a small memory footprint\n",
    "- The general principle is the same, for plain python or libraries"
   ]
  },
  {
   "cell_type": "code",
   "execution_count": 9,
   "metadata": {
    "slideshow": {
     "slide_type": "slide"
    }
   },
   "outputs": [
    {
     "data": {
      "text/plain": [
       "[[0], [98], [172], [22], [162]]"
      ]
     },
     "execution_count": 9,
     "metadata": {},
     "output_type": "execute_result"
    }
   ],
   "source": [
    "import glob\n",
    "import os\n",
    "import itertools\n",
    "\n",
    "# finds all csv files in data/random_numbers\n",
    "files = glob.glob(os.path.join(\"data\",'random_numbers','*.csv'))\n",
    "\n",
    "# return an iterator of lines over all files\n",
    "lines = itertools.chain(*map(open,files))\n",
    "\n",
    "def process_line(line):\n",
    "    return [int(c) * 2 for c in line.split(\",\")]\n",
    "\n",
    "# this could be done without a list comprehension (which loads the data in memory), \n",
    "# e.g. to store computations immediately in another file\n",
    "numbers = [process_line(l) for l in lines]\n",
    "numbers[:5]"
   ]
  },
  {
   "cell_type": "markdown",
   "metadata": {
    "slideshow": {
     "slide_type": "slide"
    }
   },
   "source": [
    "# Getting tabular data from web pages with ``pandas``\n",
    "\n",
    "- Birth statistics from [Berlin data portal](https://daten.berlin.de/datensaetze)\n",
    "- [https://en.wikipedia.org/wiki/Berlin_population_statistics](https://en.wikipedia.org/wiki/Berlin_population_statistics)\n"
   ]
  },
  {
   "cell_type": "markdown",
   "metadata": {
    "slideshow": {
     "slide_type": "slide"
    }
   },
   "source": [
    "## Birth statistics of Berlin\n",
    "\n",
    "Birth statistics can be obtained through the [Berlin data portal](https://daten.berlin.de/datensaetze)\n",
    "\n",
    "E.g. [https://www.berlin.de/daten/liste-der-vornamen-2014/charlottenburg-wilmersdorf.csv](https://www.berlin.de/daten/liste-der-vornamen-2014/charlottenburg-wilmersdorf.csv)\n",
    "\n",
    "```\n",
    "vorname;anzahl;geschlecht\n",
    "Marie;118;w\n",
    "Sophie;92;w\n",
    "Charlotte;76;w\n",
    "Maria;73;w\n",
    "Maximilian;66;m\n",
    "Alexander;53;m\n",
    "Emilia;52;w\n",
    "```\n"
   ]
  },
  {
   "cell_type": "code",
   "execution_count": 3,
   "metadata": {
    "slideshow": {
     "slide_type": "fragment"
    }
   },
   "outputs": [],
   "source": [
    "import pandas as pd\n",
    "import urllib\n",
    "import os\n",
    "%matplotlib inline\n",
    "import matplotlib.pyplot as plt\n",
    "import warnings\n",
    "warnings.filterwarnings(\"ignore\", message=\"numpy.dtype size changed\")"
   ]
  },
  {
   "cell_type": "code",
   "execution_count": 4,
   "metadata": {
    "slideshow": {
     "slide_type": "slide"
    }
   },
   "outputs": [],
   "source": [
    "basedir = os.path.join(\"data\",\"vornamen\")\n",
    "os.makedirs(basedir, exist_ok=True)\n",
    "\n",
    "base_url = \"https://www.berlin.de/daten/liste-der-vornamen-{}/{}.csv\"\n",
    "\n",
    "boroughs = [\n",
    "\"charlottenburg-wilmersdorf\",\n",
    "\"friedrichshain-kreuzberg\",\n",
    "\"lichtenberg\",\n",
    "\"marzahn-hellersdorf\",\n",
    "\"mitte\",\n",
    "\"neukoelln\",\n",
    "\"pankow\",\n",
    "\"reinickendorf\",\n",
    "\"spandau\",\n",
    "\"steglitz-zehlendorf\",\n",
    "\"tempelhof-schoeneberg\",\n",
    "\"treptow-koepenick\"\n",
    "]\n",
    "\n",
    "years = range(2013,2018)"
   ]
  },
  {
   "cell_type": "code",
   "execution_count": 6,
   "metadata": {
    "slideshow": {
     "slide_type": "slide"
    }
   },
   "outputs": [],
   "source": [
    "import pandas as pd\n",
    "# download all name files from Berlin open data portal\n",
    "all_names = []\n",
    "\n",
    "for borough in boroughs:\n",
    "    for year in years:\n",
    "        try:\n",
    "            url = base_url.format(year, borough)\n",
    "            filename = os.path.join(basedir, \"{}-{}.csv\".format(year,borough))\n",
    "            urllib.request.urlretrieve(url, filename)\n",
    "            df_vornamen_stadtteil = pd.read_csv(filename,sep=';',error_bad_lines=False)\n",
    "            df_vornamen_stadtteil['borough'] = borough\n",
    "            df_vornamen_stadtteil['year'] = year\n",
    "            all_names.append(df_vornamen_stadtteil)\n",
    "        except:\n",
    "            print(\"File {} not found\".format(url))\n",
    "\n",
    "# concatenate DataFrames\n",
    "all_names_df = pd.concat(all_names, sort=True)"
   ]
  },
  {
   "cell_type": "code",
   "execution_count": 8,
   "metadata": {
    "slideshow": {
     "slide_type": "slide"
    }
   },
   "outputs": [
    {
     "data": {
      "text/html": [
       "<div>\n",
       "<style scoped>\n",
       "    .dataframe tbody tr th:only-of-type {\n",
       "        vertical-align: middle;\n",
       "    }\n",
       "\n",
       "    .dataframe tbody tr th {\n",
       "        vertical-align: top;\n",
       "    }\n",
       "\n",
       "    .dataframe thead th {\n",
       "        text-align: right;\n",
       "    }\n",
       "</style>\n",
       "<table border=\"1\" class=\"dataframe\">\n",
       "  <thead>\n",
       "    <tr style=\"text-align: right;\">\n",
       "      <th></th>\n",
       "      <th>anzahl</th>\n",
       "      <th>borough</th>\n",
       "      <th>geschlecht</th>\n",
       "      <th>position</th>\n",
       "      <th>vorname</th>\n",
       "      <th>year</th>\n",
       "    </tr>\n",
       "  </thead>\n",
       "  <tbody>\n",
       "    <tr>\n",
       "      <th>3723</th>\n",
       "      <td>1</td>\n",
       "      <td>charlottenburg-wilmersdorf</td>\n",
       "      <td>m</td>\n",
       "      <td>1.0</td>\n",
       "      <td>Loi-Loan</td>\n",
       "      <td>2017</td>\n",
       "    </tr>\n",
       "    <tr>\n",
       "      <th>1062</th>\n",
       "      <td>1</td>\n",
       "      <td>spandau</td>\n",
       "      <td>m</td>\n",
       "      <td>NaN</td>\n",
       "      <td>Curtis</td>\n",
       "      <td>2014</td>\n",
       "    </tr>\n",
       "    <tr>\n",
       "      <th>1718</th>\n",
       "      <td>1</td>\n",
       "      <td>spandau</td>\n",
       "      <td>w</td>\n",
       "      <td>2.0</td>\n",
       "      <td>Paola</td>\n",
       "      <td>2017</td>\n",
       "    </tr>\n",
       "    <tr>\n",
       "      <th>281</th>\n",
       "      <td>6</td>\n",
       "      <td>pankow</td>\n",
       "      <td>m</td>\n",
       "      <td>NaN</td>\n",
       "      <td>Luka</td>\n",
       "      <td>2016</td>\n",
       "    </tr>\n",
       "    <tr>\n",
       "      <th>3439</th>\n",
       "      <td>1</td>\n",
       "      <td>mitte</td>\n",
       "      <td>w</td>\n",
       "      <td>NaN</td>\n",
       "      <td>Shahed</td>\n",
       "      <td>2016</td>\n",
       "    </tr>\n",
       "    <tr>\n",
       "      <th>3187</th>\n",
       "      <td>1</td>\n",
       "      <td>friedrichshain-kreuzberg</td>\n",
       "      <td>m</td>\n",
       "      <td>NaN</td>\n",
       "      <td>Émile</td>\n",
       "      <td>2015</td>\n",
       "    </tr>\n",
       "    <tr>\n",
       "      <th>2459</th>\n",
       "      <td>1</td>\n",
       "      <td>mitte</td>\n",
       "      <td>w</td>\n",
       "      <td>NaN</td>\n",
       "      <td>Medine</td>\n",
       "      <td>2013</td>\n",
       "    </tr>\n",
       "    <tr>\n",
       "      <th>561</th>\n",
       "      <td>3</td>\n",
       "      <td>friedrichshain-kreuzberg</td>\n",
       "      <td>m</td>\n",
       "      <td>NaN</td>\n",
       "      <td>Pierre</td>\n",
       "      <td>2014</td>\n",
       "    </tr>\n",
       "    <tr>\n",
       "      <th>449</th>\n",
       "      <td>1</td>\n",
       "      <td>marzahn-hellersdorf</td>\n",
       "      <td>w</td>\n",
       "      <td>NaN</td>\n",
       "      <td>Cleo</td>\n",
       "      <td>2015</td>\n",
       "    </tr>\n",
       "    <tr>\n",
       "      <th>2429</th>\n",
       "      <td>1</td>\n",
       "      <td>friedrichshain-kreuzberg</td>\n",
       "      <td>w</td>\n",
       "      <td>NaN</td>\n",
       "      <td>Madita</td>\n",
       "      <td>2016</td>\n",
       "    </tr>\n",
       "  </tbody>\n",
       "</table>\n",
       "</div>"
      ],
      "text/plain": [
       "      anzahl                     borough geschlecht  position   vorname  year\n",
       "3723       1  charlottenburg-wilmersdorf          m       1.0  Loi-Loan  2017\n",
       "1062       1                     spandau          m       NaN    Curtis  2014\n",
       "1718       1                     spandau          w       2.0     Paola  2017\n",
       "281        6                      pankow          m       NaN      Luka  2016\n",
       "3439       1                       mitte          w       NaN    Shahed  2016\n",
       "3187       1    friedrichshain-kreuzberg          m       NaN     Émile  2015\n",
       "2459       1                       mitte          w       NaN    Medine  2013\n",
       "561        3    friedrichshain-kreuzberg          m       NaN    Pierre  2014\n",
       "449        1         marzahn-hellersdorf          w       NaN      Cleo  2015\n",
       "2429       1    friedrichshain-kreuzberg          w       NaN    Madita  2016"
      ]
     },
     "execution_count": 8,
     "metadata": {},
     "output_type": "execute_result"
    }
   ],
   "source": [
    "all_names_df.sample(n=10)"
   ]
  },
  {
   "cell_type": "markdown",
   "metadata": {
    "slideshow": {
     "slide_type": "slide"
    }
   },
   "source": [
    "# Getting tabular data from Wikipedia\n",
    "\n",
    "Let's look at [some population data from Wikipedia](https://en.wikipedia.org/wiki/Berlin_population_statistics)\n"
   ]
  },
  {
   "cell_type": "code",
   "execution_count": 26,
   "metadata": {
    "slideshow": {
     "slide_type": "slide"
    }
   },
   "outputs": [
    {
     "data": {
      "text/html": [
       "<div>\n",
       "<table border=\"1\" class=\"dataframe\">\n",
       "  <thead>\n",
       "    <tr style=\"text-align: right;\">\n",
       "      <th></th>\n",
       "      <th>Population 30 September 2010</th>\n",
       "      <th>Area in km²</th>\n",
       "      <th>Largest Non-German ethnic groups</th>\n",
       "    </tr>\n",
       "    <tr>\n",
       "      <th>Borough</th>\n",
       "      <th></th>\n",
       "      <th></th>\n",
       "      <th></th>\n",
       "    </tr>\n",
       "  </thead>\n",
       "  <tbody>\n",
       "    <tr>\n",
       "      <th>Mitte</th>\n",
       "      <td>332100</td>\n",
       "      <td>39.47</td>\n",
       "      <td>Turks, Arabs, Kurds, many Asians, Africans and...</td>\n",
       "    </tr>\n",
       "    <tr>\n",
       "      <th>Friedrichshain-Kreuzberg</th>\n",
       "      <td>268831</td>\n",
       "      <td>20.16</td>\n",
       "      <td>Turks, Arabs, African, Kurds, Chinese</td>\n",
       "    </tr>\n",
       "    <tr>\n",
       "      <th>Pankow</th>\n",
       "      <td>368956</td>\n",
       "      <td>103.01</td>\n",
       "      <td>Poles, Italians, French, Americans, Vietnamese...</td>\n",
       "    </tr>\n",
       "    <tr>\n",
       "      <th>Charlottenburg-Wilmersdorf</th>\n",
       "      <td>320014</td>\n",
       "      <td>64.72</td>\n",
       "      <td>Turks, Africans, Russians, Arabs, others.</td>\n",
       "    </tr>\n",
       "    <tr>\n",
       "      <th>Spandau</th>\n",
       "      <td>225420</td>\n",
       "      <td>91.91</td>\n",
       "      <td>Turks, Africans, Russians, Arabs, others.</td>\n",
       "    </tr>\n",
       "    <tr>\n",
       "      <th>Steglitz-Zehlendorf</th>\n",
       "      <td>293989</td>\n",
       "      <td>102.50</td>\n",
       "      <td>Poles, Turks, Croats, Serbs, Koreans</td>\n",
       "    </tr>\n",
       "    <tr>\n",
       "      <th>Tempelhof-Schöneberg</th>\n",
       "      <td>335060</td>\n",
       "      <td>53.09</td>\n",
       "      <td>Turks, Croats, Serbs, Koreans, Africans</td>\n",
       "    </tr>\n",
       "    <tr>\n",
       "      <th>Neukölln</th>\n",
       "      <td>310283</td>\n",
       "      <td>44.93</td>\n",
       "      <td>Arabs, Turks, Kurds, Russians, Africans, Poles</td>\n",
       "    </tr>\n",
       "    <tr>\n",
       "      <th>Treptow-Köpenick</th>\n",
       "      <td>241335</td>\n",
       "      <td>168.42</td>\n",
       "      <td>Russians, Poles, Ukrainians, Vietnamese</td>\n",
       "    </tr>\n",
       "    <tr>\n",
       "      <th>Marzahn-Hellersdorf</th>\n",
       "      <td>248264</td>\n",
       "      <td>61.74</td>\n",
       "      <td>Russians, Vietnamese, several other Eastern Eu...</td>\n",
       "    </tr>\n",
       "    <tr>\n",
       "      <th>Lichtenberg</th>\n",
       "      <td>259881</td>\n",
       "      <td>52.29</td>\n",
       "      <td>Vietnamese, Russians, Ukrainians, Poles, Chinese</td>\n",
       "    </tr>\n",
       "  </tbody>\n",
       "</table>\n",
       "</div>"
      ],
      "text/plain": [
       "                            Population 30 September 2010  Area in km²  \\\n",
       "Borough                                                                 \n",
       "Mitte                                             332100        39.47   \n",
       "Friedrichshain-Kreuzberg                          268831        20.16   \n",
       "Pankow                                            368956       103.01   \n",
       "Charlottenburg-Wilmersdorf                        320014        64.72   \n",
       "Spandau                                           225420        91.91   \n",
       "Steglitz-Zehlendorf                               293989       102.50   \n",
       "Tempelhof-Schöneberg                              335060        53.09   \n",
       "Neukölln                                          310283        44.93   \n",
       "Treptow-Köpenick                                  241335       168.42   \n",
       "Marzahn-Hellersdorf                               248264        61.74   \n",
       "Lichtenberg                                       259881        52.29   \n",
       "\n",
       "                                             Largest Non-German ethnic groups  \n",
       "Borough                                                                        \n",
       "Mitte                       Turks, Arabs, Kurds, many Asians, Africans and...  \n",
       "Friedrichshain-Kreuzberg                Turks, Arabs, African, Kurds, Chinese  \n",
       "Pankow                      Poles, Italians, French, Americans, Vietnamese...  \n",
       "Charlottenburg-Wilmersdorf          Turks, Africans, Russians, Arabs, others.  \n",
       "Spandau                             Turks, Africans, Russians, Arabs, others.  \n",
       "Steglitz-Zehlendorf                      Poles, Turks, Croats, Serbs, Koreans  \n",
       "Tempelhof-Schöneberg                  Turks, Croats, Serbs, Koreans, Africans  \n",
       "Neukölln                       Arabs, Turks, Kurds, Russians, Africans, Poles  \n",
       "Treptow-Köpenick                      Russians, Poles, Ukrainians, Vietnamese  \n",
       "Marzahn-Hellersdorf         Russians, Vietnamese, several other Eastern Eu...  \n",
       "Lichtenberg                  Vietnamese, Russians, Ukrainians, Poles, Chinese  "
      ]
     },
     "execution_count": 26,
     "metadata": {},
     "output_type": "execute_result"
    }
   ],
   "source": [
    "berlin_population = pd.read_html(\n",
    "    \"https://en.wikipedia.org/wiki/Berlin_population_statistics\", header=0)\n",
    "df_berlin_population = berlin_population[0][:11].set_index('Borough')\n",
    "df_berlin_population"
   ]
  },
  {
   "cell_type": "code",
   "execution_count": 40,
   "metadata": {
    "slideshow": {
     "slide_type": "slide"
    }
   },
   "outputs": [
    {
     "data": {
      "image/png": "[encoded data removed]",
      "text/plain": [
       "<Figure size 432x288 with 1 Axes>"
      ]
     },
     "metadata": {
      "needs_background": "light"
     },
     "output_type": "display_data"
    }
   ],
   "source": [
    "%matplotlib inline\n",
    "# concatenate all tables on population statistics\n",
    "overall_population = pd.concat(berlin_population[2:5])\n",
    "# extract the years\n",
    "overall_population.Year = overall_population.Year.str.extract('(\\d{4})', expand=False)\n",
    "# set the index to the year column, so plotting is nicer\n",
    "overall_population = overall_population.set_index(\"Year\")\n",
    "overall_population.plot();"
   ]
  },
  {
   "cell_type": "markdown",
   "metadata": {
    "slideshow": {
     "slide_type": "slide"
    }
   },
   "source": [
    "# Beautiful Soup for Web Scraping\n",
    "\n",
    "- HTML pages are often not well structured\n",
    "- [Beautiful Soup](https://www.crummy.com/software/BeautifulSoup/)\n",
    "    - tidies up dirty HTML\n",
    "    - allows for convenient parsing of HTML\n"
   ]
  },
  {
   "cell_type": "markdown",
   "metadata": {
    "slideshow": {
     "slide_type": "slide"
    }
   },
   "source": [
    "## A Simple Webpage\n",
    "\n"
   ]
  },
  {
   "cell_type": "code",
   "execution_count": 79,
   "metadata": {
    "slideshow": {
     "slide_type": "fragment"
    }
   },
   "outputs": [],
   "source": [
    "a_simple_webpage = \\\n",
    "\"\"\"<html>\n",
    "    <head>\n",
    "    </head>\n",
    "    <body>\n",
    "        <p>\n",
    "            A paragraph\n",
    "        </p>\n",
    "        <p id=\"second_paragraph\">\n",
    "           Another paragraph with a <a href=\"https://de.wikipedia.org/wiki/Beuth_(Lokomotive)\">link</a>\n",
    "        </p>\n",
    "    </body>\n",
    "</html>\"\"\""
   ]
  },
  {
   "cell_type": "code",
   "execution_count": 83,
   "metadata": {
    "slideshow": {
     "slide_type": "slide"
    }
   },
   "outputs": [],
   "source": [
    "from bs4 import BeautifulSoup\n",
    "soup = BeautifulSoup(a_simple_webpage, 'html.parser')"
   ]
  },
  {
   "cell_type": "code",
   "execution_count": 84,
   "metadata": {
    "slideshow": {
     "slide_type": "fragment"
    }
   },
   "outputs": [
    {
     "data": {
      "text/plain": [
       "[<html>\n",
       " <head>\n",
       " </head>\n",
       " <body>\n",
       " <p>\n",
       "             A paragraph\n",
       "         </p>\n",
       " <p id=\"second_paragraph\">\n",
       "            Another paragraph with a <a href=\"https://de.wikipedia.org/wiki/Beuth_(Lokomotive)\">link</a>\n",
       " </p>\n",
       " </body>\n",
       " </html>]"
      ]
     },
     "execution_count": 84,
     "metadata": {},
     "output_type": "execute_result"
    }
   ],
   "source": [
    "list(soup.children)\n"
   ]
  },
  {
   "cell_type": "markdown",
   "metadata": {
    "slideshow": {
     "slide_type": "slide"
    }
   },
   "source": [
    "## DOM Elements\n",
    "\n",
    "![HTML DOM Model](figures/DOM-model.png)"
   ]
  },
  {
   "cell_type": "markdown",
   "metadata": {
    "slideshow": {
     "slide_type": "slide"
    }
   },
   "source": [
    "### Extracting Texts"
   ]
  },
  {
   "cell_type": "code",
   "execution_count": 85,
   "metadata": {
    "slideshow": {
     "slide_type": "fragment"
    }
   },
   "outputs": [
    {
     "data": {
      "text/plain": [
       "[<p>\n",
       "             A paragraph\n",
       "         </p>, <p id=\"second_paragraph\">\n",
       "            Another paragraph with a <a href=\"https://de.wikipedia.org/wiki/Beuth_(Lokomotive)\">link</a>\n",
       " </p>]"
      ]
     },
     "execution_count": 85,
     "metadata": {},
     "output_type": "execute_result"
    }
   ],
   "source": [
    "paragraphs = soup.find_all('p')\n",
    "paragraphs"
   ]
  },
  {
   "cell_type": "code",
   "execution_count": 86,
   "metadata": {
    "slideshow": {
     "slide_type": "fragment"
    }
   },
   "outputs": [
    {
     "data": {
      "text/plain": [
       "['A paragraph', 'Another paragraph with a link']"
      ]
     },
     "execution_count": 86,
     "metadata": {},
     "output_type": "execute_result"
    }
   ],
   "source": [
    "[p.get_text().strip() for p in paragraphs]"
   ]
  },
  {
   "cell_type": "markdown",
   "metadata": {
    "slideshow": {
     "slide_type": "slide"
    }
   },
   "source": [
    "### Extracting Links"
   ]
  },
  {
   "cell_type": "code",
   "execution_count": 87,
   "metadata": {
    "slideshow": {
     "slide_type": "fragment"
    }
   },
   "outputs": [
    {
     "data": {
      "text/plain": [
       "[<a href=\"https://de.wikipedia.org/wiki/Beuth_(Lokomotive)\">link</a>]"
      ]
     },
     "execution_count": 87,
     "metadata": {},
     "output_type": "execute_result"
    }
   ],
   "source": [
    "links = soup.find_all('a')\n",
    "links"
   ]
  },
  {
   "cell_type": "code",
   "execution_count": 88,
   "metadata": {
    "slideshow": {
     "slide_type": "slide"
    }
   },
   "outputs": [
    {
     "data": {
      "text/plain": [
       "'https://de.wikipedia.org/wiki/Beuth_(Lokomotive)'"
      ]
     },
     "execution_count": 88,
     "metadata": {},
     "output_type": "execute_result"
    }
   ],
   "source": [
    "links[0].get('href')"
   ]
  },
  {
   "cell_type": "markdown",
   "metadata": {
    "slideshow": {
     "slide_type": "slide"
    }
   },
   "source": [
    "### Extracting Arbitrary Elements"
   ]
  },
  {
   "cell_type": "code",
   "execution_count": 94,
   "metadata": {
    "slideshow": {
     "slide_type": "fragment"
    }
   },
   "outputs": [
    {
     "data": {
      "text/plain": [
       "['Another paragraph with a link']"
      ]
     },
     "execution_count": 94,
     "metadata": {},
     "output_type": "execute_result"
    }
   ],
   "source": [
    "[x.get_text().strip() for x in soup.find_all(id=\"second_paragraph\")]"
   ]
  },
  {
   "cell_type": "markdown",
   "metadata": {
    "slideshow": {
     "slide_type": "slide"
    }
   },
   "source": [
    "## Example: Downloading Some Data from Wikipedia\n",
    "\n",
    "Let's find out what was going on with [Christian Peter Beuth](https://de.wikipedia.org/wiki/Peter_Beuth_(Ministerialbeamter)) and [August Borsig](https://de.wikipedia.org/wiki/August_Borsig), or: Why is a steam locomotive and your university named after Beuth? "
   ]
  },
  {
   "cell_type": "code",
   "execution_count": 95,
   "metadata": {
    "slideshow": {
     "slide_type": "slide"
    }
   },
   "outputs": [],
   "source": [
    "import requests # for downloading web pages\n",
    "\n",
    "url = \"https://de.wikipedia.org/wiki/Beuth_(Lokomotive)\"\n",
    "\n",
    "page = requests.get(url)"
   ]
  },
  {
   "cell_type": "markdown",
   "metadata": {
    "slideshow": {
     "slide_type": "slide"
    }
   },
   "source": [
    "### Excursion: HTML Status Codes\n",
    " \n",
    "| Code | Type | Meaning |\n",
    "|------|------|---------|\n",
    "|1xx | Informational | The request was received, continuing process|\n",
    "|2xx |Successful | The request was successfully received, understood, and accepted|\n",
    "|3xx |Redirection| Further action needs to be taken in order to complete the request|\n",
    "|4xx |Client Error| The request contains bad syntax or cannot be fulfilled|\n",
    "|5xx |Server Error| The server failed to fulfill an apparently valid request|"
   ]
  },
  {
   "cell_type": "code",
   "execution_count": 97,
   "metadata": {
    "slideshow": {
     "slide_type": "slide"
    }
   },
   "outputs": [
    {
     "data": {
      "text/plain": [
       "b'<!DOCTYPE html>\\n<html class=\"client-nojs\" lang=\"de\" dir=\"ltr\">\\n<head>\\n<meta charset=\"UTF-8\"/>\\n<title>Beuth (Lokomotive) \\xe2\\x80\\x93 Wikipedia</title>\\n<script>document.documentElement.className = document.documentElement.className.replace( /(^|\\\\s)client-nojs(\\\\s|$)/, \"$1client-js$2\" );</script>\\n<script>(window.RLQ=window.RLQ||[]).push(function(){mw.config.set({\"wgCanonicalNamespace\":\"\",\"wgCanonicalSpecialPageName\":false,\"wgNamespaceNumber\":0,\"wgPageName\":\"Beuth_(Lokomotive)\",\"wgTitle\":\"Beuth (Lokomotive)\"'"
      ]
     },
     "execution_count": 97,
     "metadata": {},
     "output_type": "execute_result"
    }
   ],
   "source": [
    "page.content[:500]"
   ]
  },
  {
   "cell_type": "code",
   "execution_count": 102,
   "metadata": {
    "slideshow": {
     "slide_type": "slide"
    }
   },
   "outputs": [
    {
     "name": "stdout",
     "output_type": "stream",
     "text": [
      "Die von August Borsig 1844 konstruierte Lokomotive BEUTH mit Werknummer 24 gilt als die erste eigenständig in Deutschland entwickelte Dampflokomotive. Vorher baute Borsig Lokomotiven nach amerikanischen Vorbildern nach. Die Lok gewann ein Wettrennen gegen ein Modell von Stephenson mit etwa zehn Minuten Vorsprung und galt für die folgenden zehn Jahre als Prototyp schneller deutscher Lokomotivkonstruktionen. Eine angetriebene Achse und zwei Laufachsen sowie ein Stehkessel sorgten für vergleichsweise hohe Geschwindigkeiten. Sie bekam ihren Namen nach dem Leiter der preußischen Gewerbeakademie Christian Peter Wilhelm Beuth, der August Borsig prophezeit hatte, dass aus ihm nie etwas werden würde. Ein Nachbau der Lok ist heute im Deutschen Technikmuseum Berlin ausgestellt.\n",
      "\n"
     ]
    }
   ],
   "source": [
    "# let beautiful soup parse the html\n",
    "soup = BeautifulSoup(page.content, 'html.parser')\n",
    "# find a paragraph in which both beuth (the persion, not the steam locomotive) and borsig are mentioned\n",
    "for p in soup.find_all('p'):\n",
    "    if 'christian peter wilhelm beuth' in p.get_text().lower() \\\n",
    "        and 'borsig' in p.get_text().lower():\n",
    "        print(p.get_text())"
   ]
  },
  {
   "cell_type": "markdown",
   "metadata": {
    "slideshow": {
     "slide_type": "slide"
    }
   },
   "source": [
    "# Crawling Data from Web Pages with [``scrapy``](https://doc.scrapy.org)\n",
    "\n",
    "- Beautiful Soup is great for extracting information from *single webpages*\n",
    "- Often web sites have multiple pages\n",
    "- Writing a custom 'spider' to crawl those websites can be tedious\n",
    "- Dedicated libraries like [``scrapy``](https://doc.scrapy.org) help to scrape data from larger websites efficiently\n"
   ]
  },
  {
   "cell_type": "markdown",
   "metadata": {
    "slideshow": {
     "slide_type": "slide"
    }
   },
   "source": [
    "## Crawling Data First Steps\n",
    "\n",
    "Find relevant Document Object Model (DOM) elements of website:\n",
    "\n",
    "- Browse to website and right-click ```Inspect``` (Chrome) or ```Inspect Element``` (Firefox)\n",
    "- Remember the class / id of elements you are interested in\n"
   ]
  },
  {
   "cell_type": "markdown",
   "metadata": {
    "slideshow": {
     "slide_type": "slide"
    }
   },
   "source": [
    "## Example: Finding a Flat in Berlin\n",
    "\n",
    "Let's scrape flat data from [immoscout](https://www.immobilienscout24.de/Suche/S-T/Wohnung-Miete/Berlin/Berlin/-/-/-/-/true)\n",
    "\n",
    "- Find and remember ```class``` of DOM element of each listing\n",
    "- For each listing, find relevant flat attributes\n",
    "    - price\n",
    "    - size\n",
    "    - location\n",
    "\n",
    "Then we'll use that information to build our own spider for scrapy\n",
    "\n"
   ]
  },
  {
   "cell_type": "markdown",
   "metadata": {
    "slideshow": {
     "slide_type": "slide"
    }
   },
   "source": [
    "## Example: Finding a Flat in Berlin\n",
    "\n",
    "Let's scrape flat data from [immoscout](https://www.immobilienscout24.de/Suche/S-T/Wohnung-Miete/Berlin/Berlin/-/-/-/-/true)\n"
   ]
  },
  {
   "cell_type": "markdown",
   "metadata": {
    "slideshow": {
     "slide_type": "slide"
    }
   },
   "source": [
    "### Some Imports and Relevant DOM Elements\n",
    "\n",
    "```python\n",
    "from scrapy.spiders import CrawlSpider, Rule\n",
    "from scrapy.linkextractors.lxmlhtml import LxmlLinkExtractor\n",
    "from scrapy.selector import Selector\n",
    "from scrapy.item import Item, Field\n",
    "from scrapy.http.request import Request\n",
    "\n",
    "listings_class = \"result-list-entry__brand-title-container\"\n",
    "allowed_domain = \"immobilienscout24.de\"\n",
    "start_url = \"https://www.immobilienscout24.de/Suche/S-T/Wohnung-Miete/Berlin/Berlin/-/-/-/-/true\"\n",
    "\n",
    "attributes = [\n",
    "    'is24qa-etage',\n",
    "    'is24qa-flaeche',\n",
    "    'is24qa-zi',\n",
    "    'is24qa-bezugsfrei-ab',\n",
    "    'is24qa-kaltmiete',\n",
    "    'is24qa-nebenkosten'\n",
    "]\n",
    "```"
   ]
  },
  {
   "cell_type": "markdown",
   "metadata": {
    "slideshow": {
     "slide_type": "slide"
    }
   },
   "source": [
    "### A Simple Data Model\n",
    "\n",
    "```python\n",
    "class ISItem(Item):\n",
    "    url = Field()\n",
    "\n",
    "    # allgemein\n",
    "    is24qa_etage = Field()\n",
    "    is24qa_flaeche = Field()\n",
    "    is24qa_zi = Field()\n",
    "    is24qa_bezugsfrei_ab = Field()\n",
    "\n",
    "    # kosten\n",
    "    is24qa_kaltmiete = Field()\n",
    "    is24qa_nebenkosten = Field()\n",
    "\n",
    "    lat = Field()\n",
    "    lng = Field()\n",
    "    address = Field()\n",
    "    zip_region_country = Field()\n",
    "```"
   ]
  },
  {
   "cell_type": "markdown",
   "metadata": {
    "slideshow": {
     "slide_type": "slide"
    }
   },
   "source": [
    "### The ```scrapy``` Spider File\n",
    "\n",
    "```python\n",
    "\n",
    "class DetailsPageSpider(CrawlSpider):\n",
    "    name = \"is24\"\n",
    "    allowed_domains = [allowed_domain]\n",
    "    start_urls = [ start_url ]\n",
    "    rules = (\n",
    "        # Extract links for next pages\n",
    "        Rule(LxmlLinkExtractor(\n",
    "            allow=(),\n",
    "            restrict_xpaths=(\".//*[@id='pager']//div//a\")),\n",
    "            callback='parse_listings',\n",
    "            follow=True\n",
    "        ),\n",
    "    )\n",
    "\n",
    "    def parse_start_url(self, response):\n",
    "        return self.parse_listings(response)\n",
    "\n",
    "    def parse_listings(self, response):\n",
    "        sel = Selector(response)\n",
    "        print(\"listing page\", response.url)\n",
    "        links = sel.xpath(\".//*[@class='{}']\".format(listing_class))\n",
    "        for link in links:\n",
    "            print(\"=\"*100)\n",
    "            link = \"https://www.immobilienscout24.de\" + link.xpath(\"@href\").extract()[0]\n",
    "            print(link)\n",
    "            yield Request(link, callback=self.parse_details)\n",
    "...\n",
    "```"
   ]
  },
  {
   "cell_type": "markdown",
   "metadata": {
    "slideshow": {
     "slide_type": "slide"
    }
   },
   "source": [
    "### Parsing Single Listings\n",
    "\n",
    "```python\n",
    "\n",
    "class DetailsPageSpider(CrawlSpider):\n",
    "...\n",
    "    def parse_details(self, response):\n",
    "\n",
    "        sel = Selector(response)\n",
    "        print(\"details\", response.url)\n",
    "        item = ISItem()\n",
    "        item['url'] = response.url\n",
    "\n",
    "        for attribute in attributes:\n",
    "            try:\n",
    "                item[attribute.replace(\"-\", \"_\")] = sel.css('.{}::text'.format(attribute)).extract()[0].strip()\n",
    "            except Exception as e:\n",
    "                item[attribute.replace(\"-\", \"_\")] = None\n",
    "```"
   ]
  },
  {
   "cell_type": "markdown",
   "metadata": {
    "slideshow": {
     "slide_type": "slide"
    }
   },
   "source": [
    "### Running the spider:\n",
    "\n",
    "Type \n",
    "```\n",
    "scrapy runspider is24_spider.py -o mietwohnungen.csv -t csv -L WARN\n",
    "```\n",
    "in your command line"
   ]
  },
  {
   "cell_type": "code",
   "execution_count": 10,
   "metadata": {
    "slideshow": {
     "slide_type": "slide"
    }
   },
   "outputs": [
    {
     "data": {
      "text/html": [
       "<div>\n",
       "<style scoped>\n",
       "    .dataframe tbody tr th:only-of-type {\n",
       "        vertical-align: middle;\n",
       "    }\n",
       "\n",
       "    .dataframe tbody tr th {\n",
       "        vertical-align: top;\n",
       "    }\n",
       "\n",
       "    .dataframe thead th {\n",
       "        text-align: right;\n",
       "    }\n",
       "</style>\n",
       "<table border=\"1\" class=\"dataframe\">\n",
       "  <thead>\n",
       "    <tr style=\"text-align: right;\">\n",
       "      <th></th>\n",
       "      <th>address</th>\n",
       "      <th>is24qa_bezugsfrei_ab</th>\n",
       "      <th>is24qa_etage</th>\n",
       "      <th>is24qa_flaeche</th>\n",
       "      <th>is24qa_kaltmiete</th>\n",
       "      <th>is24qa_nebenkosten</th>\n",
       "      <th>is24qa_zi</th>\n",
       "      <th>lat</th>\n",
       "      <th>lng</th>\n",
       "      <th>url</th>\n",
       "      <th>zip_region_country</th>\n",
       "      <th>rent_per_qm</th>\n",
       "    </tr>\n",
       "  </thead>\n",
       "  <tbody>\n",
       "    <tr>\n",
       "      <th>3321</th>\n",
       "      <td>Chemnitzer Straße 11,</td>\n",
       "      <td>ab sofort</td>\n",
       "      <td>4</td>\n",
       "      <td>482.0</td>\n",
       "      <td>1493.70</td>\n",
       "      <td>NaN</td>\n",
       "      <td>3</td>\n",
       "      <td>52.50431814189261,</td>\n",
       "      <td>13.581778</td>\n",
       "      <td>https://www.immobilienscout24.de/expose/103502657</td>\n",
       "      <td>12621 Berlin, Kaulsdorf (Hellersdorf)</td>\n",
       "      <td>3.098963</td>\n",
       "    </tr>\n",
       "    <tr>\n",
       "      <th>694</th>\n",
       "      <td>Sandstraße 64a,</td>\n",
       "      <td>sofort</td>\n",
       "      <td>11</td>\n",
       "      <td>60.0</td>\n",
       "      <td>312.94</td>\n",
       "      <td>NaN</td>\n",
       "      <td>2</td>\n",
       "      <td>52.51939542525069,</td>\n",
       "      <td>13.171378</td>\n",
       "      <td>https://www.immobilienscout24.de/expose/108497983</td>\n",
       "      <td>13593 Berlin, Staaken (Spandau)</td>\n",
       "      <td>5.215667</td>\n",
       "    </tr>\n",
       "    <tr>\n",
       "      <th>736</th>\n",
       "      <td>Sandstr. 64b,</td>\n",
       "      <td>sofort</td>\n",
       "      <td>8</td>\n",
       "      <td>58.0</td>\n",
       "      <td>303.39</td>\n",
       "      <td>NaN</td>\n",
       "      <td>2</td>\n",
       "      <td>52.51958769930993,</td>\n",
       "      <td>13.171705</td>\n",
       "      <td>https://www.immobilienscout24.de/expose/108602455</td>\n",
       "      <td>13593 Berlin, Staaken (Spandau)</td>\n",
       "      <td>5.230862</td>\n",
       "    </tr>\n",
       "    <tr>\n",
       "      <th>2539</th>\n",
       "      <td>Wiclefstraße 42,</td>\n",
       "      <td>sofort</td>\n",
       "      <td>NaN</td>\n",
       "      <td>130.0</td>\n",
       "      <td>700.00</td>\n",
       "      <td>NaN</td>\n",
       "      <td>1</td>\n",
       "      <td>52.530806644275785,</td>\n",
       "      <td>13.330809</td>\n",
       "      <td>https://www.immobilienscout24.de/expose/108097130</td>\n",
       "      <td>10551 Berlin, Tiergarten (Tiergarten)</td>\n",
       "      <td>5.384615</td>\n",
       "    </tr>\n",
       "    <tr>\n",
       "      <th>1285</th>\n",
       "      <td>Marzahner Chaussee 194,</td>\n",
       "      <td>sofort</td>\n",
       "      <td>4</td>\n",
       "      <td>58.0</td>\n",
       "      <td>318.42</td>\n",
       "      <td>NaN</td>\n",
       "      <td>2</td>\n",
       "      <td>52.52430857597931,</td>\n",
       "      <td>13.534668</td>\n",
       "      <td>https://www.immobilienscout24.de/expose/108665411</td>\n",
       "      <td>12681 Berlin, Marzahn (Marzahn)</td>\n",
       "      <td>5.490000</td>\n",
       "    </tr>\n",
       "    <tr>\n",
       "      <th>2141</th>\n",
       "      <td>Maulbeerallee 49,</td>\n",
       "      <td>sofort</td>\n",
       "      <td>1 von 6</td>\n",
       "      <td>89.0</td>\n",
       "      <td>490.00</td>\n",
       "      <td>NaN</td>\n",
       "      <td>3</td>\n",
       "      <td>52.523074993438286,</td>\n",
       "      <td>13.163599</td>\n",
       "      <td>https://www.immobilienscout24.de/expose/108379014</td>\n",
       "      <td>13593 Berlin, Staaken (Spandau)</td>\n",
       "      <td>5.505618</td>\n",
       "    </tr>\n",
       "    <tr>\n",
       "      <th>1491</th>\n",
       "      <td>Ribnitzer Str 19,</td>\n",
       "      <td>Nach Vereinbarung</td>\n",
       "      <td>10 von 11</td>\n",
       "      <td>70.0</td>\n",
       "      <td>389.78</td>\n",
       "      <td>NaN</td>\n",
       "      <td>3</td>\n",
       "      <td>52.56937485558645,</td>\n",
       "      <td>13.496459</td>\n",
       "      <td>https://www.immobilienscout24.de/expose/108624980</td>\n",
       "      <td>13051 Berlin, Neu-Hohenschönhausen (Hohenschön...</td>\n",
       "      <td>5.568286</td>\n",
       "    </tr>\n",
       "    <tr>\n",
       "      <th>2008</th>\n",
       "      <td>Erich-Kästner-Straße 19,</td>\n",
       "      <td>sofort</td>\n",
       "      <td>4 von 5</td>\n",
       "      <td>70.0</td>\n",
       "      <td>391.15</td>\n",
       "      <td>NaN</td>\n",
       "      <td>3</td>\n",
       "      <td>52.527856075499464,</td>\n",
       "      <td>13.592260</td>\n",
       "      <td>https://www.immobilienscout24.de/expose/108441291</td>\n",
       "      <td>12619 Berlin, Kaulsdorf (Hellersdorf)</td>\n",
       "      <td>5.587857</td>\n",
       "    </tr>\n",
       "    <tr>\n",
       "      <th>2675</th>\n",
       "      <td>Altenhofer Str. 40,</td>\n",
       "      <td>sofort</td>\n",
       "      <td>8 von 18</td>\n",
       "      <td>61.0</td>\n",
       "      <td>345.00</td>\n",
       "      <td>NaN</td>\n",
       "      <td>2</td>\n",
       "      <td>52.53585643100882,</td>\n",
       "      <td>13.484577</td>\n",
       "      <td>https://www.immobilienscout24.de/expose/107934956</td>\n",
       "      <td>13055 Berlin, Alt-Hohenschönhausen (Hohenschön...</td>\n",
       "      <td>5.655738</td>\n",
       "    </tr>\n",
       "    <tr>\n",
       "      <th>1254</th>\n",
       "      <td>Märkische Allee 280,</td>\n",
       "      <td>01.01.2019</td>\n",
       "      <td>18 von 21</td>\n",
       "      <td>62.0</td>\n",
       "      <td>357.73</td>\n",
       "      <td>NaN</td>\n",
       "      <td>3</td>\n",
       "      <td>52.55813472218006,</td>\n",
       "      <td>13.556239</td>\n",
       "      <td>https://www.immobilienscout24.de/expose/108669708</td>\n",
       "      <td>12687 Berlin, Marzahn (Marzahn)</td>\n",
       "      <td>5.769839</td>\n",
       "    </tr>\n",
       "  </tbody>\n",
       "</table>\n",
       "</div>"
      ],
      "text/plain": [
       "                       address is24qa_bezugsfrei_ab is24qa_etage  \\\n",
       "3321     Chemnitzer Straße 11,            ab sofort            4   \n",
       "694            Sandstraße 64a,               sofort           11   \n",
       "736              Sandstr. 64b,               sofort            8   \n",
       "2539          Wiclefstraße 42,               sofort          NaN   \n",
       "1285   Marzahner Chaussee 194,               sofort            4   \n",
       "2141         Maulbeerallee 49,               sofort      1 von 6   \n",
       "1491         Ribnitzer Str 19,    Nach Vereinbarung    10 von 11   \n",
       "2008  Erich-Kästner-Straße 19,               sofort      4 von 5   \n",
       "2675       Altenhofer Str. 40,               sofort     8 von 18   \n",
       "1254      Märkische Allee 280,           01.01.2019    18 von 21   \n",
       "\n",
       "      is24qa_flaeche  is24qa_kaltmiete  is24qa_nebenkosten is24qa_zi  \\\n",
       "3321           482.0           1493.70                 NaN         3   \n",
       "694             60.0            312.94                 NaN         2   \n",
       "736             58.0            303.39                 NaN         2   \n",
       "2539           130.0            700.00                 NaN         1   \n",
       "1285            58.0            318.42                 NaN         2   \n",
       "2141            89.0            490.00                 NaN         3   \n",
       "1491            70.0            389.78                 NaN         3   \n",
       "2008            70.0            391.15                 NaN         3   \n",
       "2675            61.0            345.00                 NaN         2   \n",
       "1254            62.0            357.73                 NaN         3   \n",
       "\n",
       "                      lat        lng  \\\n",
       "3321   52.50431814189261,  13.581778   \n",
       "694    52.51939542525069,  13.171378   \n",
       "736    52.51958769930993,  13.171705   \n",
       "2539  52.530806644275785,  13.330809   \n",
       "1285   52.52430857597931,  13.534668   \n",
       "2141  52.523074993438286,  13.163599   \n",
       "1491   52.56937485558645,  13.496459   \n",
       "2008  52.527856075499464,  13.592260   \n",
       "2675   52.53585643100882,  13.484577   \n",
       "1254   52.55813472218006,  13.556239   \n",
       "\n",
       "                                                    url  \\\n",
       "3321  https://www.immobilienscout24.de/expose/103502657   \n",
       "694   https://www.immobilienscout24.de/expose/108497983   \n",
       "736   https://www.immobilienscout24.de/expose/108602455   \n",
       "2539  https://www.immobilienscout24.de/expose/108097130   \n",
       "1285  https://www.immobilienscout24.de/expose/108665411   \n",
       "2141  https://www.immobilienscout24.de/expose/108379014   \n",
       "1491  https://www.immobilienscout24.de/expose/108624980   \n",
       "2008  https://www.immobilienscout24.de/expose/108441291   \n",
       "2675  https://www.immobilienscout24.de/expose/107934956   \n",
       "1254  https://www.immobilienscout24.de/expose/108669708   \n",
       "\n",
       "                                     zip_region_country  rent_per_qm  \n",
       "3321              12621 Berlin, Kaulsdorf (Hellersdorf)     3.098963  \n",
       "694                     13593 Berlin, Staaken (Spandau)     5.215667  \n",
       "736                     13593 Berlin, Staaken (Spandau)     5.230862  \n",
       "2539              10551 Berlin, Tiergarten (Tiergarten)     5.384615  \n",
       "1285                    12681 Berlin, Marzahn (Marzahn)     5.490000  \n",
       "2141                    13593 Berlin, Staaken (Spandau)     5.505618  \n",
       "1491  13051 Berlin, Neu-Hohenschönhausen (Hohenschön...     5.568286  \n",
       "2008              12619 Berlin, Kaulsdorf (Hellersdorf)     5.587857  \n",
       "2675  13055 Berlin, Alt-Hohenschönhausen (Hohenschön...     5.655738  \n",
       "1254                    12687 Berlin, Marzahn (Marzahn)     5.769839  "
      ]
     },
     "execution_count": 10,
     "metadata": {},
     "output_type": "execute_result"
    }
   ],
   "source": [
    "import pandas as pd\n",
    "flats_df = pd.read_csv('data/mietwohnungen.csv')\n",
    "flats_df['is24qa_kaltmiete'] = flats_df['is24qa_kaltmiete'].str.replace('[.€]','').str.replace(',','.').astype(float)\n",
    "flats_df['is24qa_flaeche'] = flats_df['is24qa_flaeche'].str.replace(',','.').str.extract('(\\d+[.\\d+])').astype(float)\n",
    "flats_df['rent_per_qm'] = flats_df['is24qa_kaltmiete'].astype(float) / flats_df['is24qa_flaeche']\n",
    "flats_df.sort_values(by='rent_per_qm')[:10]"
   ]
  },
  {
   "cell_type": "code",
   "execution_count": 76,
   "metadata": {
    "slideshow": {
     "slide_type": "slide"
    }
   },
   "outputs": [
    {
     "data": {
      "image/png": "[encoded data removed]",
      "text/plain": [
       "<Figure size 4500x1200 with 1 Axes>"
      ]
     },
     "metadata": {},
     "output_type": "display_data"
    }
   ],
   "source": [
    "plt.figure(figsize=[15,4],dpi=300)\n",
    "plt.style.use('ggplot')\n",
    "flats_df.rent_per_qm[flats_df.rent_per_qm<50].plot.hist(20);\n",
    "plt.plot([5.5,5.5],[0,2000],'k--',label='10% Percentile Mietspiegel')\n",
    "plt.plot([7.5,7.5],[0,2000],'k:',label='50% Percentile Mietspiegel')\n",
    "plt.plot([10,10],[0,2000],'k-.',label='90% Percentile Mietspiegel')\n",
    "plt.ylim([0,1000]);\n",
    "plt.xlim([3,40]);\n",
    "plt.legend()\n",
    "plt.xlabel(\"Rent in Euro per m$^2$\");"
   ]
  },
  {
   "cell_type": "markdown",
   "metadata": {
    "slideshow": {
     "slide_type": "slide"
    }
   },
   "source": [
    "# Getting Data From REST APIs\n",
    "\n",
    "[Representational State Transfer (REST)](https://en.wikipedia.org/wiki/Representational_state_transfer) is a software architectural style for creating web services\n",
    "\n",
    "RESTful web services allow to access and manipulate web resources through a uniform and predefined set of stateless operations"
   ]
  },
  {
   "cell_type": "markdown",
   "metadata": {
    "slideshow": {
     "slide_type": "slide"
    }
   },
   "source": [
    "## Example: Air Quality Data from AQICN\n",
    "\n",
    "- Air quality is an important topic\n",
    "- You can query recent worldwide air quality data through an API at [http://aqicn.org/](http://aqicn.org/)\n",
    "- For example: \n",
    "    - [Air Quality Data Berlin](https://aqicn.org/city/germany/berlin)\n",
    "    - For accessing the API, get an access token\n",
    "    - then you can query the data for Berlin by requesting (in a browser or in a programmatic fashion)\n",
    "        ``http://api.waqi.info/feed/berlin/?token=[accessToken]``\n",
    "    - e.g. [http://api.waqi.info/feed/berlin/?token=my_access_token](http://api.waqi.info/feed/berlin/?token=7672327f1d6675ef5d2d554b63b6175afec9fe77)\n",
    "\n",
    "\n"
   ]
  },
  {
   "cell_type": "code",
   "execution_count": 106,
   "metadata": {
    "slideshow": {
     "slide_type": "slide"
    }
   },
   "outputs": [
    {
     "data": {
      "text/plain": [
       "{'aqi': 40,\n",
       " 'attributions': [{'name': 'Berlin Air Quality - (Luftqualität in Berlin)',\n",
       "   'url': 'http://www.stadtentwicklung.berlin.de/umwelt/luftqualitaet/'},\n",
       "  {'name': 'World Air Quality Index Project', 'url': 'https://waqi.info/'}],\n",
       " 'city': {'geo': [52.5200066, 13.404954],\n",
       "  'name': 'Berlin, Germany',\n",
       "  'url': 'https://aqicn.org/city/germany/berlin'},\n",
       " 'debug': {'sync': '2018-12-02T01:34:46+09:00'},\n",
       " 'dominentpol': 'pm10',\n",
       " 'iaqi': {'no2': {'v': 37.1},\n",
       "  'o3': {'v': 2.1},\n",
       "  'p': {'v': 996.9},\n",
       "  'pm10': {'v': 40},\n",
       "  't': {'v': 6.1}},\n",
       " 'idx': 6132,\n",
       " 'time': {'s': '2018-12-01 17:00:00', 'tz': '+01:00', 'v': 1543683600}}"
      ]
     },
     "execution_count": 106,
     "metadata": {},
     "output_type": "execute_result"
    }
   ],
   "source": [
    "import requests\n",
    "\n",
    "def get_air_quality_data(city, accesstoken='7672327f1d6675ef5d2d554b63b6175afec9fe77'):\n",
    "    # build request\n",
    "    url = 'http://api.waqi.info/feed/'+city+'/?token=' + accesstoken\n",
    "    # get data\n",
    "    r = requests.get(url, auth=('user', 'pass'))\n",
    "    # check status code and return data\n",
    "    if r.status_code == 200:\n",
    "        data = r.json()\n",
    "        return data['data']\n",
    "\n",
    "get_air_quality_data('berlin')"
   ]
  },
  {
   "cell_type": "code",
   "execution_count": 108,
   "metadata": {
    "slideshow": {
     "slide_type": "slide"
    }
   },
   "outputs": [
    {
     "data": {
      "text/plain": [
       "{'aqi': 23,\n",
       " 'attributions': [{'name': 'New York State Department of Environmental Conservation (NYSDEC)',\n",
       "   'url': 'http://www.dec.ny.gov/'},\n",
       "  {'name': 'Air Now - US EPA', 'url': 'http://www.airnow.gov/'},\n",
       "  {'name': 'World Air Quality Index Project', 'url': 'https://waqi.info/'}],\n",
       " 'city': {'geo': [40.7127837, -74.0059413],\n",
       "  'name': 'New York',\n",
       "  'url': 'https://aqicn.org/city/newyork'},\n",
       " 'debug': {'sync': '2018-12-02T01:21:43+09:00'},\n",
       " 'dominentpol': 'pm25',\n",
       " 'iaqi': {'co': {'v': 2.4},\n",
       "  'h': {'v': 70.2},\n",
       "  'no2': {'v': 10.7},\n",
       "  'o3': {'v': 12.8},\n",
       "  'p': {'v': 1023.3},\n",
       "  'pm25': {'v': 23},\n",
       "  't': {'v': 7.5}},\n",
       " 'idx': 3309,\n",
       " 'time': {'s': '2018-12-01 11:00:00', 'tz': '-05:00', 'v': 1543662000}}"
      ]
     },
     "execution_count": 108,
     "metadata": {},
     "output_type": "execute_result"
    }
   ],
   "source": [
    "get_air_quality_data('newyork')"
   ]
  },
  {
   "cell_type": "code",
   "execution_count": 110,
   "metadata": {
    "slideshow": {
     "slide_type": "slide"
    }
   },
   "outputs": [
    {
     "data": {
      "text/plain": [
       "{'aqi': 112,\n",
       " 'attributions': [{'name': 'South Air Korea Environment Corporation (대기오염실시간공개시스템)',\n",
       "   'url': 'http://www.airkorea.or.kr/'},\n",
       "  {'name': 'Seoul Clean Air Pollution Information (서울특별시 기후대기환경정보)',\n",
       "   'url': 'http://cleanair.seoul.go.kr/'},\n",
       "  {'name': 'World Air Quality Index Project', 'url': 'https://waqi.info/'}],\n",
       " 'city': {'geo': [37.566535, 126.9779692],\n",
       "  'name': 'Seoul (서울)',\n",
       "  'url': 'https://aqicn.org/city/seoul'},\n",
       " 'debug': {'sync': '2018-12-02T01:25:10+09:00'},\n",
       " 'dominentpol': 'pm25',\n",
       " 'iaqi': {'co': {'v': 11.2},\n",
       "  'h': {'v': 44},\n",
       "  'no2': {'v': 64.2},\n",
       "  'o3': {'v': 1.6},\n",
       "  'p': {'v': 1028.2},\n",
       "  'pm10': {'v': 61},\n",
       "  'pm25': {'v': 112},\n",
       "  'r': {'v': 9.6},\n",
       "  'so2': {'v': 8.6},\n",
       "  'w': {'v': 0.2},\n",
       "  'wd': {'v': 112.5}},\n",
       " 'idx': 5508,\n",
       " 'time': {'s': '2018-12-02 01:00:00', 'tz': '+09:00', 'v': 1543712400}}"
      ]
     },
     "execution_count": 110,
     "metadata": {},
     "output_type": "execute_result"
    }
   ],
   "source": [
    "get_air_quality_data('seoul')"
   ]
  },
  {
   "cell_type": "markdown",
   "metadata": {
    "slideshow": {
     "slide_type": "slide"
    }
   },
   "source": [
    "# Building your own REST API with ``flask``\n",
    "\n",
    "- [``flask``](http://flask.pocoo.org/) is a microframework for web development in python\n",
    "- We will build a simple REST API with flask\n"
   ]
  },
  {
   "cell_type": "code",
   "execution_count": null,
   "metadata": {
    "slideshow": {
     "slide_type": "skip"
    }
   },
   "outputs": [],
   "source": [
    "!pip install newspaper3k\n",
    "!pip install Flask"
   ]
  },
  {
   "cell_type": "code",
   "execution_count": 2,
   "metadata": {
    "slideshow": {
     "slide_type": "slide"
    }
   },
   "outputs": [],
   "source": [
    "import newspaper, json\n",
    "newspapers = {  \n",
    "    'zeit': 'http://zeit.de', \n",
    "    'tagesspiegel': 'https://www.tagesspiegel.de/'\n",
    "}\n",
    "\n",
    "def process_article(article):\n",
    "    try:\n",
    "        article.download()\n",
    "        article.parse()\n",
    "        return {\n",
    "                'title': article.title,\n",
    "                'url': article.url,\n",
    "        }\n",
    "    except: \n",
    "        pass\n",
    "    \n",
    "def process_newspaper(newspaper_url):\n",
    "    articles = newspaper.build(newspaper_url).articles\n",
    "    return [process_article(a) for a in articles]\n",
    "\n",
    "def download_and_save_news(save_path='news.json'):\n",
    "    news = {n:process_newspaper(url) for n,url in newspapers.items()}\n",
    "    json.dump(news, open(save_path, 'wt'))\n",
    "\n",
    "# download_and_save_news()"
   ]
  },
  {
   "cell_type": "code",
   "execution_count": 3,
   "metadata": {
    "slideshow": {
     "slide_type": "slide"
    }
   },
   "outputs": [
    {
     "data": {
      "text/plain": [
       "{'tagesspiegel': [{'title': 'IT-Systemadministrator (m/w)',\n",
       "   'url': 'https://karriere.tagesspiegel.de/stellenangebot/2563936/IT_Systemadministrator_(m_w)_Neubrandenburg_Hochs'},\n",
       "  {'title': 'Büromitarbeiter/-in',\n",
       "   'url': 'https://karriere.tagesspiegel.de/stellenangebot/2539229/B%C3%BCromitarbeiter__in_Berlin_Sensible_Osteopathie'},\n",
       "  {'title': 'Sekretärin/Sekretär',\n",
       "   'url': 'https://karriere.tagesspiegel.de/stellenangebot/2539233/Sekret%C3%A4rin_Sekret%C3%A4r_Berlin_Kampmann_Architekten_G'},\n",
       "  {'title': 'Mitarbeiterin für Privatsekretariat',\n",
       "   'url': 'https://karriere.tagesspiegel.de/stellenangebot/2572190/Mitarbeiterin_f%C3%BCr_Privatsekretariat_Berlin_Dr__We'},\n",
       "  {'title': 'Lehrkraft (w/m/d)',\n",
       "   'url': 'https://karriere.tagesspiegel.de/stellenangebot/2558134/Lehrkraft_(w_m_d)_Schwielowsee_Ev__Jugendhilfe_Ge'}],\n",
       " 'zeit': [{'title': 'Nachrichten, Hintergründe und Debatten',\n",
       "   'url': 'http://zeit.de/\\n        https:/www.brandeins.de/magazine/brand-eins-wirtschaftsmagazin/2018/lebensmittel/was-waere-wenn-die-europaeische-union-sich-aufloeste?utm_source=zeit&utm_medium=parkett\\n      '},\n",
       "  {'title': 'Nachrichten, Hintergründe und Debatten',\n",
       "   'url': 'http://zeit.de/\\n        https:/www.brandeins.de/magazine/brand-eins-wirtschaftsmagazin/2018/lebensmittel/food-start-ups-was-mit-essen?utm_source=zeit&utm_medium=parkett\\n      '},\n",
       "  {'title': 'Nachrichten, Hintergründe und Debatten',\n",
       "   'url': 'http://www.zeit.de/\\n        https:/www.brandeins.de/magazine/brand-eins-wirtschaftsmagazin/2018/lebensmittel/was-waere-wenn-die-europaeische-union-sich-aufloeste?utm_source=zeit&utm_medium=parkett\\n      '},\n",
       "  {'title': 'Nachrichten, Hintergründe und Debatten',\n",
       "   'url': 'http://www.zeit.de/\\n        https:/www.brandeins.de/magazine/brand-eins-wirtschaftsmagazin/2018/lebensmittel/food-start-ups-was-mit-essen?utm_source=zeit&utm_medium=parkett\\n      '},\n",
       "  {'title': 'Nachrichten, Hintergründe und Debatten',\n",
       "   'url': 'https://www.zeit.de/\\n        https:/www.brandeins.de/magazine/brand-eins-wirtschaftsmagazin/2018/lebensmittel/was-waere-wenn-die-europaeische-union-sich-aufloeste?utm_source=zeit&utm_medium=parkett\\n      '},\n",
       "  {'title': 'Nachrichten, Hintergründe und Debatten',\n",
       "   'url': 'https://www.zeit.de/\\n        https:/www.brandeins.de/magazine/brand-eins-wirtschaftsmagazin/2018/lebensmittel/food-start-ups-was-mit-essen?utm_source=zeit&utm_medium=parkett\\n      '}]}"
      ]
     },
     "execution_count": 3,
     "metadata": {},
     "output_type": "execute_result"
    }
   ],
   "source": [
    "news = json.load(open('news.json'))\n",
    "news"
   ]
  },
  {
   "cell_type": "markdown",
   "metadata": {
    "slideshow": {
     "slide_type": "slide"
    }
   },
   "source": [
    "## A Minimal Flask API\n",
    "\n",
    "in ``newsapi.py``:\n",
    "\n",
    "```python\n",
    "\n",
    "from flask import Flask, jsonify\n",
    "import json\n",
    "\n",
    "app = Flask(__name__)\n",
    "\n",
    "### API\n",
    "\n",
    "@app.route('/newsapi/<newspaper_id>')\n",
    "def get_news_by_newspaper(newspaper_id):\n",
    "    # return the news of a newspaper\n",
    "    return jsonify(news.get(newspaper_id, {}))\n",
    "\n",
    "if __name__ == \"__main__\":\n",
    "    port = 5001\n",
    "    # load some previously downloaded news \n",
    "    news = json.load(open('news.json'))\n",
    "    app.run(host='0.0.0.0', port = port)\n",
    "\n",
    "```"
   ]
  },
  {
   "cell_type": "markdown",
   "metadata": {
    "slideshow": {
     "slide_type": "slide"
    }
   },
   "source": [
    "Now start the server by typing in the commandline\n",
    "\n",
    "```\n",
    "python newsapi.py\n",
    "```\n",
    "\n",
    "Opening a browser and navigating to ```http://0.0.0.0:5001/newsapi/zeit``` will yield\n",
    "```\n",
    "[{\"title\":\"Nachrichten, Hintergr\\u00fcnde und Debatten\",\"url\":\"http://zeit.de/\\n        https:/www.brandeins.de/magazine/brand-eins-wirtschaftsmagazin/2018/lebensmittel/was-waere-wenn-die-europaeische-union-sich-aufloeste?utm_source=zeit&utm_medium=parkett\\n      \"},{\"title\":\"Nachrichten, Hintergr\\u00fcnde und Debatten\",\"url\":\"http://zeit.de/\\n        https:/www.brandeins.de/magazine/brand-eins-wirtschaftsmagazin/2018/lebensmittel/food-start-ups-was-mit-essen?utm_source=zeit&utm_medium=parkett\\n      \"},{\"title\":\"Nachrichten, Hintergr\\u00fcnde und Debatten\",\"url\":\"http://www.zeit.de/\\n        https:/www.brandeins.de/magazine/brand-eins-wirtschaftsmagazin/2018/lebensmittel/was-waere-wenn-die-europaeische-union-sich-aufloeste?utm_source=zeit&utm_medium=parkett\\n      \"},{\"title\":\"Nachrichten, Hintergr\\u00fcnde und Debatten\",\"url\":\"http://www.zeit.de/\\n        https:/www.brandeins.de/magazine/brand-eins-wirtschaftsmagazin/2018/lebensmittel/food-start-ups-was-mit-essen?utm_source=zeit&utm_medium=parkett\\n      \"},{\"title\":\"Nachrichten, Hintergr\\u00fcnde und Debatten\",\"url\":\"https://www.zeit.de/\\n        https:/www.brandeins.de/magazine/brand-eins-wirtschaftsmagazin/2018/lebensmittel/was-waere-wenn-die-europaeische-union-sich-aufloeste?utm_source=zeit&utm_medium=parkett\\n      \"},{\"title\":\"Nachrichten, Hintergr\\u00fcnde und Debatten\",\"url\":\"https://www.zeit.de/\\n        https:/www.brandeins.de/magazine/brand-eins-wirtschaftsmagazin/2018/lebensmittel/food-start-ups-was-mit-essen?utm_source=zeit&utm_medium=parkett\\n      \"}]```"
   ]
  },
  {
   "cell_type": "markdown",
   "metadata": {
    "slideshow": {
     "slide_type": "slide"
    }
   },
   "source": [
    "# Exercises\n"
   ]
  },
  {
   "cell_type": "markdown",
   "metadata": {
    "slideshow": {
     "slide_type": "slide"
    }
   },
   "source": [
    "## Assignment 01\n",
    "\n",
    "Write a function ``assignment_06_01`` that reads the random numbers in the files with `csv` extension under ``data/random_numbers``, sums up all values and returns the result. Try to avoid reading the entire file in memory and avoid using a library like pandas or numpy.  \n",
    "\n",
    "```python\n",
    "\n",
    "import glob\n",
    "import os\n",
    "import itertools\n",
    "\n",
    "\n",
    "def assignment_06_01():\n",
    "    # finds all csv files in data/random_numbers\n",
    "    files = glob.glob(os.path.join(\"data\",'random_numbers','*.csv'))\n",
    "    #...\n",
    "    return sum_of_values\n",
    "\n",
    "```\n"
   ]
  },
  {
   "cell_type": "markdown",
   "metadata": {
    "slideshow": {
     "slide_type": "slide"
    }
   },
   "source": [
    "## Assignment 02\n",
    "\n",
    "Write a function ``assignment_06_02`` that reads Wikipedia html pages and extracts the infobox key-value pairs as strings. The infobox is the blue table in the top right of wikipedia pages.\n",
    "\n",
    "```python\n",
    "import bs4 as BeautifulSoup\n",
    "import requests\n",
    "\n",
    "def assignment_06_02(url):\n",
    "    page = requests.get(url)\n",
    "    soup = BeautifulSoup(page.content, 'html.parser')\n",
    "    infobox = {}\n",
    "    \n",
    "    #...\n",
    "    \n",
    "    return infobox\n",
    "\n",
    "```\n"
   ]
  },
  {
   "cell_type": "markdown",
   "metadata": {
    "slideshow": {
     "slide_type": "slide"
    }
   },
   "source": [
    "## Assignment 03\n",
    "\n",
    "Write a function ``assignment_06_03`` that reads the information about all Christmas markets in Berlin and returns the name of the district that has most registered Christmas markets.\n",
    "\n",
    "```python\n",
    "import json\n",
    "import requests\n",
    "\n",
    "def assignment_06_03():\n",
    "    christmas_market_url = \"https://www.berlin.de/sen/web/service/\" + \\\n",
    "    \"maerkte-feste/weihnachtsmaerkte/index.php/index/all.json?q=\"\n",
    "    data = json.loads(requests.get(christmas_market_url).content)\n",
    "    \n",
    "    #...\n",
    "    \n",
    "    return district_with_most_christmas_markets\n",
    "\n",
    "```\n"
   ]
  }
 ],
 "metadata": {
  "celltoolbar": "Slideshow",
  "kernelspec": {
   "display_name": "Python 3",
   "language": "python",
   "name": "python3"
  },
  "language_info": {
   "codemirror_mode": {
    "name": "ipython",
    "version": 3
   },
   "file_extension": ".py",
   "mimetype": "text/x-python",
   "name": "python",
   "nbconvert_exporter": "python",
   "pygments_lexer": "ipython3",
   "version": "3.7.0"
  }
 },
 "nbformat": 4,
 "nbformat_minor": 2
}
