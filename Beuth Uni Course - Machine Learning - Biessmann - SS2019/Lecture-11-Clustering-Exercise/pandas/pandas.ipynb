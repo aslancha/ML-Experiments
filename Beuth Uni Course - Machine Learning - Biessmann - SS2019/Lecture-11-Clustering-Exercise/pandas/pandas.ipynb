{
 "cells": [
  {
   "cell_type": "markdown",
   "metadata": {
    "slideshow": {
     "slide_type": "slide"
    }
   },
   "source": [
    "# Python for Data Science\n",
    "\n",
    "``pandas``\n"
   ]
  },
  {
   "cell_type": "markdown",
   "metadata": {
    "slideshow": {
     "slide_type": "slide"
    }
   },
   "source": [
    "# Pandas\n",
    "\n",
    "- Etymology: **pan**el **da**ta\n",
    "- Written by [Wes McKinney](http://wesmckinney.com/)\n",
    "- DataFrames for Python\n",
    "- Read/Write for many formats\n",
    "- Very efficient operations (much more efficient than plain python)\n",
    "- Database-like API\n",
    "- Very popular amongst Data Scientists\n"
   ]
  },
  {
   "cell_type": "markdown",
   "metadata": {
    "slideshow": {
     "slide_type": "slide"
    }
   },
   "source": [
    "## Pandas - Why Python is booming\n",
    "\n",
    "<img src=\"figures/pandas_popularity.png\" width=500px/>\n",
    "\n",
    "[Stackoverflow Blog: Why is Python Growing So Quickly?](https://stackoverflow.blog/2017/09/14/python-growing-quickly/)"
   ]
  },
  {
   "cell_type": "markdown",
   "metadata": {
    "slideshow": {
     "slide_type": "slide"
    }
   },
   "source": [
    "# Pandas Data Structures\n",
    "\n",
    "\n",
    "- ``Series``: \n",
    "    one-dimensional array of indexed data (*think: column of a table/database*)\n",
    "- ``DataFrame``: \n",
    "    table (*think: data base*)\n"
   ]
  },
  {
   "cell_type": "markdown",
   "metadata": {
    "slideshow": {
     "slide_type": "slide"
    }
   },
   "source": [
    "# The Pandas Series Object\n",
    "\n",
    "Pandas ``Series``: one-dimensional array of indexed data\n"
   ]
  },
  {
   "cell_type": "code",
   "execution_count": 2,
   "metadata": {
    "slideshow": {
     "slide_type": "slide"
    }
   },
   "outputs": [
    {
     "data": {
      "text/plain": [
       "0    0.25\n",
       "1    0.50\n",
       "2    0.75\n",
       "3    1.00\n",
       "dtype: float64"
      ]
     },
     "execution_count": 2,
     "metadata": {},
     "output_type": "execute_result"
    }
   ],
   "source": [
    "import pandas as pd\n",
    "import warnings\n",
    "warnings.filterwarnings(\"ignore\", message=\"numpy.dtype size changed\")\n",
    "warnings.filterwarnings(\"ignore\", message=\"numpy.ufunc size changed\")\n",
    " \n",
    "# create a pandas Series\n",
    "series_a = pd.Series([0.25, 0.5, 0.75, 1.0])\n",
    "series_a"
   ]
  },
  {
   "cell_type": "code",
   "execution_count": 4,
   "metadata": {
    "slideshow": {
     "slide_type": "fragment"
    }
   },
   "outputs": [
    {
     "data": {
      "text/plain": [
       "RangeIndex(start=0, stop=4, step=1)"
      ]
     },
     "execution_count": 4,
     "metadata": {},
     "output_type": "execute_result"
    }
   ],
   "source": [
    "series_a.index"
   ]
  },
  {
   "cell_type": "code",
   "execution_count": 5,
   "metadata": {
    "slideshow": {
     "slide_type": "fragment"
    }
   },
   "outputs": [
    {
     "data": {
      "text/plain": [
       "array([0.25, 0.5 , 0.75, 1.  ])"
      ]
     },
     "execution_count": 5,
     "metadata": {},
     "output_type": "execute_result"
    }
   ],
   "source": [
    "series_a.values"
   ]
  },
  {
   "cell_type": "markdown",
   "metadata": {
    "slideshow": {
     "slide_type": "slide"
    }
   },
   "source": [
    "## Generating Pandas Series\n",
    "\n",
    "Pandas ``Series`` can be created from most python collections.\n",
    "\n",
    "This also means that they support all content types that python collections support.\n"
   ]
  },
  {
   "cell_type": "code",
   "execution_count": 6,
   "metadata": {
    "slideshow": {
     "slide_type": "slide"
    }
   },
   "outputs": [
    {
     "data": {
      "text/plain": [
       "0      one\n",
       "1      two\n",
       "2    three\n",
       "dtype: object"
      ]
     },
     "execution_count": 6,
     "metadata": {},
     "output_type": "execute_result"
    }
   ],
   "source": [
    "# a list\n",
    "list_a = ['one','two','three']\n",
    "\n",
    "series_b = pd.Series(list_a)\n",
    "series_b"
   ]
  },
  {
   "cell_type": "code",
   "execution_count": 7,
   "metadata": {
    "slideshow": {
     "slide_type": "slide"
    }
   },
   "outputs": [
    {
     "data": {
      "text/plain": [
       "index_one        one\n",
       "index_two        two\n",
       "index_three    three\n",
       "dtype: object"
      ]
     },
     "execution_count": 7,
     "metadata": {},
     "output_type": "execute_result"
    }
   ],
   "source": [
    "# a list with indices\n",
    "list_a = ['one','two','three']\n",
    "list_b = ['index_one','index_two','index_three']\n",
    "\n",
    "series_c = pd.Series(data=list_a, index=list_b)\n",
    "series_c"
   ]
  },
  {
   "cell_type": "code",
   "execution_count": 8,
   "metadata": {
    "slideshow": {
     "slide_type": "slide"
    }
   },
   "outputs": [
    {
     "data": {
      "text/plain": [
       "100    5\n",
       "200    5\n",
       "300    5\n",
       "dtype: int64"
      ]
     },
     "execution_count": 8,
     "metadata": {},
     "output_type": "execute_result"
    }
   ],
   "source": [
    "# creating Series with same value\n",
    "pd.Series(5, index=[100, 200, 300])"
   ]
  },
  {
   "cell_type": "markdown",
   "metadata": {
    "slideshow": {
     "slide_type": "slide"
    }
   },
   "source": [
    "## Why is this helpful? \n",
    "\n",
    "There are many reasons why these indexed structures are helpful. Most of them are related to speed. But many are related to convenience:\n"
   ]
  },
  {
   "cell_type": "code",
   "execution_count": 12,
   "metadata": {
    "slideshow": {
     "slide_type": "fragment"
    }
   },
   "outputs": [
    {
     "data": {
      "text/plain": [
       "apples     2\n",
       "bananas    7\n",
       "lemons     3\n",
       "oranges    0\n",
       "dtype: int64"
      ]
     },
     "execution_count": 12,
     "metadata": {},
     "output_type": "execute_result"
    }
   ],
   "source": [
    "fruits = pd.Series([1,0,2,2], index=['apples','oranges','bananas','lemons'])\n",
    "more_fruits = pd.Series([1,0,1,5], index=['lemons','oranges','apples','bananas'])\n",
    "\n",
    "fruits + more_fruits"
   ]
  },
  {
   "cell_type": "markdown",
   "metadata": {
    "slideshow": {
     "slide_type": "slide"
    }
   },
   "source": [
    "## Some More Examples\n"
   ]
  },
  {
   "cell_type": "code",
   "execution_count": 32,
   "metadata": {
    "slideshow": {
     "slide_type": "fragment"
    }
   },
   "outputs": [],
   "source": [
    "berlin_population_dict = {\n",
    " '1917': 1681916,\n",
    " '1919': 1902509,\n",
    " '1925': 4024286,\n",
    " '1933': 4242501,\n",
    " '1939': 4338756,\n",
    " '1945': 2807405,\n",
    " '1946': 3170832,\n",
    " '1950': 3336026,\n",
    " '1960': 3274016,\n",
    " '1970': 3208719,\n",
    " '1980': 3048759,\n",
    " '1990': 3433695,\n",
    " '2000': 3382169,\n",
    " '2005': 3394000,\n",
    " '2010': 3460725}\n",
    "\n",
    "population = pd.Series(berlin_population_dict)"
   ]
  },
  {
   "cell_type": "code",
   "execution_count": 38,
   "metadata": {
    "slideshow": {
     "slide_type": "slide"
    }
   },
   "outputs": [
    {
     "data": {
      "text/plain": [
       "Text(0.5,0,'Year')"
      ]
     },
     "execution_count": 38,
     "metadata": {},
     "output_type": "execute_result"
    },
    {
     "data": {
      "image/png": "[encoded data removed]",
      "text/plain": [
       "<Figure size 864x288 with 1 Axes>"
      ]
     },
     "metadata": {},
     "output_type": "display_data"
    }
   ],
   "source": [
    "%matplotlib inline\n",
    "import matplotlib.pyplot as plt\n",
    "import seaborn; seaborn.set()  # set plot style\n",
    "plt.figure(figsize=[12,4])\n",
    "plt.plot(population)\n",
    "plt.ylabel(\"Population\")\n",
    "plt.xlabel(\"Year\")"
   ]
  },
  {
   "cell_type": "markdown",
   "metadata": {
    "slideshow": {
     "slide_type": "slide"
    }
   },
   "source": [
    "## Indexing Pandas Series\n"
   ]
  },
  {
   "cell_type": "code",
   "execution_count": 30,
   "metadata": {
    "slideshow": {
     "slide_type": "fragment"
    }
   },
   "outputs": [
    {
     "data": {
      "text/plain": [
       "Year\n",
       "1917    1681916\n",
       "1919    1902509\n",
       "1925    4024286\n",
       "1933    4242501\n",
       "1939    4338756\n",
       "1945    2807405\n",
       "1946    3170832\n",
       "1950    3336026\n",
       "1960    3274016\n",
       "1970    3208719\n",
       "1980    3048759\n",
       "1990    3433695\n",
       "2000    3382169\n",
       "2005    3394000\n",
       "2010    3460725\n",
       "Name: Population, dtype: int64"
      ]
     },
     "execution_count": 30,
     "metadata": {},
     "output_type": "execute_result"
    }
   ],
   "source": [
    "population.name = 'Population'\n",
    "population.index.name = 'Year'\n",
    "# note that the indices are strings\n",
    "population"
   ]
  },
  {
   "cell_type": "code",
   "execution_count": 16,
   "metadata": {
    "slideshow": {
     "slide_type": "slide"
    }
   },
   "outputs": [
    {
     "data": {
      "text/plain": [
       "1681916"
      ]
     },
     "execution_count": 16,
     "metadata": {},
     "output_type": "execute_result"
    }
   ],
   "source": [
    "population['1917']"
   ]
  },
  {
   "cell_type": "code",
   "execution_count": 17,
   "metadata": {
    "slideshow": {
     "slide_type": "fragment"
    }
   },
   "outputs": [
    {
     "data": {
      "text/plain": [
       "Year\n",
       "1917    1681916\n",
       "1925    4024286\n",
       "1945    2807405\n",
       "2010    3460725\n",
       "Name: Population, dtype: int64"
      ]
     },
     "execution_count": 17,
     "metadata": {},
     "output_type": "execute_result"
    }
   ],
   "source": [
    "population[['1917','1925','1945','2010']]"
   ]
  },
  {
   "cell_type": "code",
   "execution_count": 18,
   "metadata": {
    "slideshow": {
     "slide_type": "fragment"
    }
   },
   "outputs": [
    {
     "data": {
      "text/plain": [
       "Year\n",
       "1925    4024286\n",
       "1933    4242501\n",
       "1939    4338756\n",
       "1945    2807405\n",
       "1946    3170832\n",
       "1950    3336026\n",
       "Name: Population, dtype: int64"
      ]
     },
     "execution_count": 18,
     "metadata": {},
     "output_type": "execute_result"
    }
   ],
   "source": [
    "population['1925':'1950']"
   ]
  },
  {
   "cell_type": "code",
   "execution_count": 19,
   "metadata": {
    "slideshow": {
     "slide_type": "slide"
    }
   },
   "outputs": [
    {
     "data": {
      "text/plain": [
       "Year\n",
       "1917    False\n",
       "1919    False\n",
       "1925     True\n",
       "1933     True\n",
       "1939     True\n",
       "1945    False\n",
       "1946     True\n",
       "1950     True\n",
       "1960     True\n",
       "1970     True\n",
       "1980     True\n",
       "1990     True\n",
       "2000     True\n",
       "2005     True\n",
       "2010     True\n",
       "Name: Population, dtype: bool"
      ]
     },
     "execution_count": 19,
     "metadata": {},
     "output_type": "execute_result"
    }
   ],
   "source": [
    "population > 3e6"
   ]
  },
  {
   "cell_type": "code",
   "execution_count": 20,
   "metadata": {
    "slideshow": {
     "slide_type": "fragment"
    }
   },
   "outputs": [
    {
     "data": {
      "text/plain": [
       "Year\n",
       "1925    4024286\n",
       "1933    4242501\n",
       "1939    4338756\n",
       "1946    3170832\n",
       "1950    3336026\n",
       "1960    3274016\n",
       "1970    3208719\n",
       "1980    3048759\n",
       "1990    3433695\n",
       "2000    3382169\n",
       "2005    3394000\n",
       "2010    3460725\n",
       "Name: Population, dtype: int64"
      ]
     },
     "execution_count": 20,
     "metadata": {},
     "output_type": "execute_result"
    }
   ],
   "source": [
    "population[population > 3e6]"
   ]
  },
  {
   "cell_type": "code",
   "execution_count": 21,
   "metadata": {
    "slideshow": {
     "slide_type": "slide"
    }
   },
   "outputs": [
    {
     "data": {
      "text/plain": [
       "Year\n",
       "1917                    1681916\n",
       "1919                    1902509\n",
       "1925    more than three million\n",
       "1933    more than three million\n",
       "1939    more than three million\n",
       "1945                    2807405\n",
       "1946    more than three million\n",
       "1950    more than three million\n",
       "1960    more than three million\n",
       "1970    more than three million\n",
       "1980    more than three million\n",
       "1990    more than three million\n",
       "2000    more than three million\n",
       "2005    more than three million\n",
       "2010    more than three million\n",
       "Name: Population, dtype: object"
      ]
     },
     "execution_count": 21,
     "metadata": {},
     "output_type": "execute_result"
    }
   ],
   "source": [
    "population_ = population.copy() # copy is important here\n",
    "population_[population_ > 3e6] = \"more than three million\"\n",
    "population_"
   ]
  },
  {
   "cell_type": "code",
   "execution_count": 22,
   "metadata": {
    "slideshow": {
     "slide_type": "fragment"
    }
   },
   "outputs": [
    {
     "data": {
      "text/plain": [
       "Year\n",
       "1917    1681916\n",
       "Name: Population, dtype: int64"
      ]
     },
     "execution_count": 22,
     "metadata": {},
     "output_type": "execute_result"
    }
   ],
   "source": [
    "population[population==1681916]"
   ]
  },
  {
   "cell_type": "code",
   "execution_count": 23,
   "metadata": {
    "slideshow": {
     "slide_type": "fragment"
    }
   },
   "outputs": [
    {
     "data": {
      "text/plain": [
       "Year\n",
       "1917    1681916\n",
       "2010    3460725\n",
       "Name: Population, dtype: int64"
      ]
     },
     "execution_count": 23,
     "metadata": {},
     "output_type": "execute_result"
    }
   ],
   "source": [
    "population[(population==1681916) | (population==3460725)]"
   ]
  },
  {
   "cell_type": "markdown",
   "metadata": {
    "slideshow": {
     "slide_type": "slide"
    }
   },
   "source": [
    "## Explicit and Positional Indexing\n",
    "\n",
    "- Pandas objects can be indexed in different ways:\n",
    " - explicit indices: what you define as index\n",
    " - positional index: the row number\n",
    "- Depending on how you access values in a ``pandas`` object, explicit or positional indexing is used. \n",
    "- To avoid confusion, specify the type of indexing with ``loc`` (explicit indexing) or ``iloc`` (positional indexing)\n"
   ]
  },
  {
   "cell_type": "code",
   "execution_count": 17,
   "metadata": {
    "slideshow": {
     "slide_type": "fragment"
    }
   },
   "outputs": [
    {
     "data": {
      "text/plain": [
       "1    a\n",
       "3    b\n",
       "5    c\n",
       "dtype: object"
      ]
     },
     "execution_count": 17,
     "metadata": {},
     "output_type": "execute_result"
    }
   ],
   "source": [
    "data = pd.Series(['a', 'b', 'c'], index=[1, 3, 5])\n",
    "data"
   ]
  },
  {
   "cell_type": "code",
   "execution_count": 18,
   "metadata": {
    "slideshow": {
     "slide_type": "slide"
    }
   },
   "outputs": [
    {
     "data": {
      "text/plain": [
       "'a'"
      ]
     },
     "execution_count": 18,
     "metadata": {},
     "output_type": "execute_result"
    }
   ],
   "source": [
    "data = pd.Series(['a', 'b', 'c'], index=[1, 3, 5])\n",
    "# explicit index when indexing\n",
    "data[1]"
   ]
  },
  {
   "cell_type": "code",
   "execution_count": 5,
   "metadata": {
    "slideshow": {
     "slide_type": "fragment"
    }
   },
   "outputs": [
    {
     "data": {
      "text/plain": [
       "1    a\n",
       "3    b\n",
       "dtype: object"
      ]
     },
     "execution_count": 5,
     "metadata": {},
     "output_type": "execute_result"
    }
   ],
   "source": [
    "data = pd.Series(['a', 'b', 'c'], index=[1, 3, 5])\n",
    "# explicit index when fancy-indexing\n",
    "data[[1,3]]"
   ]
  },
  {
   "cell_type": "code",
   "execution_count": 19,
   "metadata": {
    "slideshow": {
     "slide_type": "fragment"
    }
   },
   "outputs": [
    {
     "data": {
      "text/plain": [
       "3    b\n",
       "5    c\n",
       "dtype: object"
      ]
     },
     "execution_count": 19,
     "metadata": {},
     "output_type": "execute_result"
    }
   ],
   "source": [
    "data = pd.Series(['a', 'b', 'c'], index=[1, 3, 5])\n",
    "# positional index when slicing\n",
    "data[1:3]"
   ]
  },
  {
   "cell_type": "code",
   "execution_count": 31,
   "metadata": {
    "slideshow": {
     "slide_type": "fragment"
    }
   },
   "outputs": [
    {
     "data": {
      "text/plain": [
       "'b'"
      ]
     },
     "execution_count": 31,
     "metadata": {},
     "output_type": "execute_result"
    }
   ],
   "source": [
    "data = pd.Series(['a', 'b', 'c'], index=['1', '3', '5'])\n",
    "# positional index when actual index is not integer valued\n",
    "data[1]"
   ]
  },
  {
   "cell_type": "markdown",
   "metadata": {
    "slideshow": {
     "slide_type": "slide"
    }
   },
   "source": [
    "### Explicit Indexing with ``loc``"
   ]
  },
  {
   "cell_type": "code",
   "execution_count": 20,
   "metadata": {
    "slideshow": {
     "slide_type": "fragment"
    }
   },
   "outputs": [
    {
     "data": {
      "text/plain": [
       "'a'"
      ]
     },
     "execution_count": 20,
     "metadata": {},
     "output_type": "execute_result"
    }
   ],
   "source": [
    "data = pd.Series(['a', 'b', 'c'], index=[1, 3, 5])\n",
    "data.loc[1]"
   ]
  },
  {
   "cell_type": "code",
   "execution_count": 21,
   "metadata": {
    "slideshow": {
     "slide_type": "fragment"
    }
   },
   "outputs": [
    {
     "data": {
      "text/plain": [
       "1    a\n",
       "3    b\n",
       "dtype: object"
      ]
     },
     "execution_count": 21,
     "metadata": {},
     "output_type": "execute_result"
    }
   ],
   "source": [
    "data = pd.Series(['a', 'b', 'c'], index=[1, 3, 5])\n",
    "#  loc for explicit indexing\n",
    "data.loc[1:3]"
   ]
  },
  {
   "cell_type": "markdown",
   "metadata": {
    "slideshow": {
     "slide_type": "slide"
    }
   },
   "source": [
    "### Positional Indexing with ``iloc``"
   ]
  },
  {
   "cell_type": "code",
   "execution_count": 22,
   "metadata": {
    "slideshow": {
     "slide_type": "fragment"
    }
   },
   "outputs": [
    {
     "data": {
      "text/plain": [
       "'b'"
      ]
     },
     "execution_count": 22,
     "metadata": {},
     "output_type": "execute_result"
    }
   ],
   "source": [
    "data = pd.Series(['a', 'b', 'c'], index=[1, 3, 5])\n",
    "data.iloc[1]"
   ]
  },
  {
   "cell_type": "code",
   "execution_count": 23,
   "metadata": {
    "slideshow": {
     "slide_type": "fragment"
    }
   },
   "outputs": [
    {
     "data": {
      "text/plain": [
       "3    b\n",
       "5    c\n",
       "dtype: object"
      ]
     },
     "execution_count": 23,
     "metadata": {},
     "output_type": "execute_result"
    }
   ],
   "source": [
    "data = pd.Series(['a', 'b', 'c'], index=[1, 3, 5])\n",
    "data.iloc[1:3]"
   ]
  },
  {
   "cell_type": "markdown",
   "metadata": {
    "slideshow": {
     "slide_type": "slide"
    }
   },
   "source": [
    "## Operations on Pandas Series\n",
    "\n",
    "- Efficient arithmetic and aggregation operations\n",
    "- Compatible with ``numpy``"
   ]
  },
  {
   "cell_type": "code",
   "execution_count": 24,
   "metadata": {
    "slideshow": {
     "slide_type": "fragment"
    }
   },
   "outputs": [
    {
     "data": {
      "text/plain": [
       "Year\n",
       "1917    1.681916\n",
       "1919    1.902509\n",
       "1925    4.024286\n",
       "1933    4.242501\n",
       "1939    4.338756\n",
       "1945    2.807405\n",
       "1946    3.170832\n",
       "1950    3.336026\n",
       "1960    3.274016\n",
       "1970    3.208719\n",
       "1980    3.048759\n",
       "1990    3.433695\n",
       "2000    3.382169\n",
       "2005    3.394000\n",
       "2010    3.460725\n",
       "Name: Population, dtype: float64"
      ]
     },
     "execution_count": 24,
     "metadata": {},
     "output_type": "execute_result"
    }
   ],
   "source": [
    "population_in_millions = population / 1e6\n",
    "population_in_millions"
   ]
  },
  {
   "cell_type": "code",
   "execution_count": 27,
   "metadata": {
    "slideshow": {
     "slide_type": "slide"
    }
   },
   "outputs": [
    {
     "data": {
      "text/plain": [
       "3    9\n",
       "4    3\n",
       "1    2\n",
       "2    1\n",
       "Name: Population, dtype: int64"
      ]
     },
     "execution_count": 27,
     "metadata": {},
     "output_type": "execute_result"
    }
   ],
   "source": [
    "# histograms\n",
    "population_in_millions.value_counts()"
   ]
  },
  {
   "cell_type": "code",
   "execution_count": 28,
   "metadata": {
    "slideshow": {
     "slide_type": "subslide"
    }
   },
   "outputs": [
    {
     "data": {
      "text/plain": [
       "Year\n",
       "1917    1681916\n",
       "1919    1902509\n",
       "1945    2807405\n",
       "1980    3048759\n",
       "1946    3170832\n",
       "1970    3208719\n",
       "1960    3274016\n",
       "1950    3336026\n",
       "2000    3382169\n",
       "2005    3394000\n",
       "1990    3433695\n",
       "2010    3460725\n",
       "1925    4024286\n",
       "1933    4242501\n",
       "1939    4338756\n",
       "Name: Population, dtype: int64"
      ]
     },
     "execution_count": 28,
     "metadata": {},
     "output_type": "execute_result"
    }
   ],
   "source": [
    "# sorting \n",
    "population.sort_values()"
   ]
  },
  {
   "cell_type": "code",
   "execution_count": 31,
   "metadata": {
    "slideshow": {
     "slide_type": "subslide"
    }
   },
   "outputs": [
    {
     "data": {
      "text/plain": [
       "count    1.500000e+01\n",
       "mean     3.247088e+06\n",
       "std      7.276748e+05\n",
       "min      1.681916e+06\n",
       "25%      3.109796e+06\n",
       "50%      3.336026e+06\n",
       "75%      3.447210e+06\n",
       "max      4.338756e+06\n",
       "Name: Population, dtype: float64"
      ]
     },
     "execution_count": 31,
     "metadata": {},
     "output_type": "execute_result"
    }
   ],
   "source": [
    "# basic stats\n",
    "population.describe()"
   ]
  },
  {
   "cell_type": "markdown",
   "metadata": {
    "slideshow": {
     "slide_type": "slide"
    }
   },
   "source": [
    "## Applying Arbitrary Functions"
   ]
  },
  {
   "cell_type": "code",
   "execution_count": 32,
   "metadata": {
    "slideshow": {
     "slide_type": "fragment"
    }
   },
   "outputs": [
    {
     "data": {
      "text/plain": [
       "35"
      ]
     },
     "execution_count": 32,
     "metadata": {},
     "output_type": "execute_result"
    }
   ],
   "source": [
    "# apply custom functions\n",
    "\n",
    "def some_function(v):\n",
    "    '''\n",
    "    Divides number by a million and returns its integer representation\n",
    "    '''\n",
    "    return int(v / 1e6)\n",
    "\n",
    "some_function(35 * 1e6)\n"
   ]
  },
  {
   "cell_type": "code",
   "execution_count": 33,
   "metadata": {
    "slideshow": {
     "slide_type": "slide"
    }
   },
   "outputs": [
    {
     "data": {
      "text/plain": [
       "Year\n",
       "1917    1\n",
       "1919    1\n",
       "1925    4\n",
       "1933    4\n",
       "1939    4\n",
       "1945    2\n",
       "1946    3\n",
       "1950    3\n",
       "1960    3\n",
       "1970    3\n",
       "1980    3\n",
       "1990    3\n",
       "2000    3\n",
       "2005    3\n",
       "2010    3\n",
       "Name: Population, dtype: int64"
      ]
     },
     "execution_count": 33,
     "metadata": {},
     "output_type": "execute_result"
    }
   ],
   "source": [
    "population.apply(some_function)"
   ]
  },
  {
   "cell_type": "code",
   "execution_count": 34,
   "metadata": {
    "slideshow": {
     "slide_type": "slide"
    }
   },
   "outputs": [
    {
     "name": "stdout",
     "output_type": "stream",
     "text": [
      "1 loop, best of 3: 926 ms per loop\n"
     ]
    }
   ],
   "source": [
    "s = pd.Series(range(int(1e6)))\n",
    "%timeit s.apply(some_function)"
   ]
  },
  {
   "cell_type": "code",
   "execution_count": 35,
   "metadata": {
    "slideshow": {
     "slide_type": "fragment"
    }
   },
   "outputs": [
    {
     "name": "stdout",
     "output_type": "stream",
     "text": [
      "The slowest run took 10.75 times longer than the fastest. This could mean that an intermediate result is being cached.\n",
      "100 loops, best of 3: 10.1 ms per loop\n"
     ]
    }
   ],
   "source": [
    "%timeit (s / 1e6).astype(int)"
   ]
  },
  {
   "cell_type": "markdown",
   "metadata": {
    "slideshow": {
     "slide_type": "slide"
    }
   },
   "source": [
    "# Missing Values\n",
    "\n"
   ]
  },
  {
   "cell_type": "markdown",
   "metadata": {
    "slideshow": {
     "slide_type": "fragment"
    }
   },
   "source": [
    "There are three main options how to deal with missing values:\n",
    "\n",
    "- drop rows with missing values\n",
    "- replace missing values with placeholder symbol\n",
    "- impute missing values with some ML model\n",
    "\n"
   ]
  },
  {
   "cell_type": "code",
   "execution_count": 37,
   "metadata": {
    "slideshow": {
     "slide_type": "slide"
    }
   },
   "outputs": [
    {
     "data": {
      "text/plain": [
       "1945    2807405.0\n",
       "1950    3336026.0\n",
       "1955          NaN\n",
       "1960    3274016.0\n",
       "1965          NaN\n",
       "1970    3208719.0\n",
       "dtype: float64"
      ]
     },
     "execution_count": 37,
     "metadata": {},
     "output_type": "execute_result"
    }
   ],
   "source": [
    "berlin_population_dict = {\n",
    " '1945': 2807405,\n",
    " '1950': 3336026,\n",
    " '1955': None,                         \n",
    " '1960': 3274016,\n",
    " '1965': np.nan,                         \n",
    " '1970': 3208719}\n",
    "\n",
    "population_w_nans = pd.Series(berlin_population_dict)\n",
    "population_w_nans"
   ]
  },
  {
   "cell_type": "markdown",
   "metadata": {
    "slideshow": {
     "slide_type": "slide"
    }
   },
   "source": [
    "## Dropping rows\n"
   ]
  },
  {
   "cell_type": "code",
   "execution_count": 38,
   "metadata": {
    "slideshow": {
     "slide_type": "fragment"
    }
   },
   "outputs": [
    {
     "data": {
      "text/plain": [
       "1945    False\n",
       "1950    False\n",
       "1955     True\n",
       "1960    False\n",
       "1965     True\n",
       "1970    False\n",
       "dtype: bool"
      ]
     },
     "execution_count": 38,
     "metadata": {},
     "output_type": "execute_result"
    }
   ],
   "source": [
    "population_w_nans.isnull()"
   ]
  },
  {
   "cell_type": "code",
   "execution_count": 39,
   "metadata": {
    "slideshow": {
     "slide_type": "fragment"
    }
   },
   "outputs": [
    {
     "data": {
      "text/plain": [
       "1945    2807405.0\n",
       "1950    3336026.0\n",
       "1960    3274016.0\n",
       "1970    3208719.0\n",
       "dtype: float64"
      ]
     },
     "execution_count": 39,
     "metadata": {},
     "output_type": "execute_result"
    }
   ],
   "source": [
    "population_w_nans[~population_w_nans.isnull()]"
   ]
  },
  {
   "cell_type": "code",
   "execution_count": 40,
   "metadata": {
    "slideshow": {
     "slide_type": "fragment"
    }
   },
   "outputs": [
    {
     "data": {
      "text/plain": [
       "1945    2807405.0\n",
       "1950    3336026.0\n",
       "1960    3274016.0\n",
       "1970    3208719.0\n",
       "dtype: float64"
      ]
     },
     "execution_count": 40,
     "metadata": {},
     "output_type": "execute_result"
    }
   ],
   "source": [
    "population_w_nans.dropna()"
   ]
  },
  {
   "cell_type": "markdown",
   "metadata": {
    "slideshow": {
     "slide_type": "slide"
    }
   },
   "source": [
    "## Filling with Placeholder\n"
   ]
  },
  {
   "cell_type": "code",
   "execution_count": 41,
   "metadata": {
    "slideshow": {
     "slide_type": "fragment"
    }
   },
   "outputs": [
    {
     "data": {
      "text/plain": [
       "1945    2807405.0\n",
       "1950    3336026.0\n",
       "1955    3336026.0\n",
       "1960    3274016.0\n",
       "1965    3274016.0\n",
       "1970    3208719.0\n",
       "dtype: float64"
      ]
     },
     "execution_count": 41,
     "metadata": {},
     "output_type": "execute_result"
    }
   ],
   "source": [
    "population_w_nans.fillna(method='ffill')"
   ]
  },
  {
   "cell_type": "code",
   "execution_count": 42,
   "metadata": {
    "slideshow": {
     "slide_type": "fragment"
    }
   },
   "outputs": [
    {
     "data": {
      "text/plain": [
       "1945    2807405.0\n",
       "1950    3336026.0\n",
       "1955    3241367.5\n",
       "1960    3274016.0\n",
       "1965    3241367.5\n",
       "1970    3208719.0\n",
       "dtype: float64"
      ]
     },
     "execution_count": 42,
     "metadata": {},
     "output_type": "execute_result"
    }
   ],
   "source": [
    "population_w_nans.fillna(value=population_w_nans.median())"
   ]
  },
  {
   "cell_type": "markdown",
   "metadata": {
    "slideshow": {
     "slide_type": "slide"
    }
   },
   "source": [
    "# The Pandas DataFrame Object\n",
    "\n",
    "Pandas ``Dataframe``: **a table** (or DataBase - i.e. one or more Series concatenated)\n"
   ]
  },
  {
   "cell_type": "markdown",
   "metadata": {
    "slideshow": {
     "slide_type": "slide"
    }
   },
   "source": [
    "## Generating Pandas DataFrames\n"
   ]
  },
  {
   "cell_type": "code",
   "execution_count": 43,
   "metadata": {
    "slideshow": {
     "slide_type": "fragment"
    }
   },
   "outputs": [
    {
     "data": {
      "text/plain": [
       "array([[0, 1, 2],\n",
       "       [3, 4, 5],\n",
       "       [6, 7, 8]])"
      ]
     },
     "execution_count": 43,
     "metadata": {},
     "output_type": "execute_result"
    }
   ],
   "source": [
    "some_numpy_array = np.arange(9).reshape((3, 3))\n",
    "some_numpy_array"
   ]
  },
  {
   "cell_type": "code",
   "execution_count": 44,
   "metadata": {
    "slideshow": {
     "slide_type": "fragment"
    }
   },
   "outputs": [
    {
     "data": {
      "text/html": [
       "<div>\n",
       "<style scoped>\n",
       "    .dataframe tbody tr th:only-of-type {\n",
       "        vertical-align: middle;\n",
       "    }\n",
       "\n",
       "    .dataframe tbody tr th {\n",
       "        vertical-align: top;\n",
       "    }\n",
       "\n",
       "    .dataframe thead th {\n",
       "        text-align: right;\n",
       "    }\n",
       "</style>\n",
       "<table border=\"1\" class=\"dataframe\">\n",
       "  <thead>\n",
       "    <tr style=\"text-align: right;\">\n",
       "      <th></th>\n",
       "      <th>Ohio</th>\n",
       "      <th>Texas</th>\n",
       "      <th>California</th>\n",
       "    </tr>\n",
       "  </thead>\n",
       "  <tbody>\n",
       "    <tr>\n",
       "      <th>a</th>\n",
       "      <td>0</td>\n",
       "      <td>1</td>\n",
       "      <td>2</td>\n",
       "    </tr>\n",
       "    <tr>\n",
       "      <th>c</th>\n",
       "      <td>3</td>\n",
       "      <td>4</td>\n",
       "      <td>5</td>\n",
       "    </tr>\n",
       "    <tr>\n",
       "      <th>d</th>\n",
       "      <td>6</td>\n",
       "      <td>7</td>\n",
       "      <td>8</td>\n",
       "    </tr>\n",
       "  </tbody>\n",
       "</table>\n",
       "</div>"
      ],
      "text/plain": [
       "   Ohio  Texas  California\n",
       "a     0      1           2\n",
       "c     3      4           5\n",
       "d     6      7           8"
      ]
     },
     "execution_count": 44,
     "metadata": {},
     "output_type": "execute_result"
    }
   ],
   "source": [
    "df = pd.DataFrame(some_numpy_array,\n",
    "                        index=['a', 'c', 'd'],\n",
    "                        columns=['Ohio', 'Texas', 'California'])\n",
    "df\n"
   ]
  },
  {
   "cell_type": "markdown",
   "metadata": {
    "slideshow": {
     "slide_type": "slide"
    }
   },
   "source": [
    "### Pandas DataFrame Constructors\n",
    "\n",
    "|Type | Notes|\n",
    "|-----|------|\n",
    "|2D ndarray|A matrix of data, passing optional row and column labels|\n",
    "|dict of arrays, lists, or tuples|Each sequence becomes a column in the DataFrame; all sequences must be the same length|\n",
    "|NumPy structured/record array|Treated as the “dict of arrays” case\n",
    "|dict of Series|Each value becomes a column|\n",
    "|dict of dicts|Each inner dict becomes a column|\n",
    "|List of dicts or Series|Each item becomes a row in the DataFrame|\n",
    "|List of lists or tuples|Treated as the “2D ndarray” case|\n",
    "|Another DataFrame|The DataFrame’s indexes are used unless different ones are passed|\n",
    "|NumPy MaskedArray|Like the “2D ndarray” case except masked values become NA/missing in the DataFrame result|\n",
    "\n"
   ]
  },
  {
   "cell_type": "code",
   "execution_count": 14,
   "metadata": {
    "slideshow": {
     "slide_type": "slide"
    }
   },
   "outputs": [],
   "source": [
    "# a DataFrame from a csv file\n",
    "import os\n",
    "df_from_csv = pd.read_csv(os.path.join(\"data\",\"berlin_population.csv\"))\n"
   ]
  },
  {
   "cell_type": "markdown",
   "metadata": {
    "slideshow": {
     "slide_type": "slide"
    }
   },
   "source": [
    "### Pandas DataFrame IO \n",
    "\n",
    "'<table border=\"1\" class=\"dataframe\">  <thead>    <tr style=\"text-align: right;\">      <th>Format Type</th>      <th>Data Description</th>      <th>Reader</th>      <th>Writer</th>    </tr>  </thead>  <tbody>    <tr>      <td>text</td>      <td>CSV</td>      <td>read_csv</td>      <td>to_csv</td>    </tr>    <tr>      <td>text</td>      <td>JSON</td>      <td>read_json</td>      <td>to_json</td>    </tr>    <tr>      <td>text</td>      <td>HTML</td>      <td>read_html</td>      <td>to_html</td>    </tr>    <tr>      <td>text</td>      <td>Local clipboard</td>      <td>read_clipboard</td>      <td>to_clipboard</td>    </tr>    <tr>      <td>binary</td>      <td>MS Excel</td>      <td>read_excel</td>      <td>to_excel</td>    </tr>    <tr>      <td>binary</td>      <td>HDF5 Format</td>      <td>read_hdf</td>      <td>to_hdf</td>    </tr>    <tr>      <td>binary</td>      <td>Feather Format</td>      <td>read_feather</td>      <td>to_feather</td>    </tr>    <tr>      <td>binary</td>      <td>Parquet Format</td>      <td>read_parquet</td>      <td>to_parquet</td>    </tr>    <tr>      <td>binary</td>      <td>Msgpack</td>      <td>read_msgpack</td>      <td>to_msgpack</td>    </tr>    <tr>      <td>binary</td>      <td>Stata</td>      <td>read_stata</td>      <td>to_stata</td>    </tr>    <tr>      <td>binary</td>      <td>SAS</td>      <td>read_sas</td>      <td></td>    </tr>    <tr>      <td>binary</td>      <td>Python Pickle Format</td>      <td>read_pickle</td>      <td>to_pickle</td>    </tr>    <tr>      <td>SQL</td>      <td>SQL</td>      <td>read_sql</td>      <td>to_sql</td>    </tr>    <tr>      <td>SQL</td>      <td>Google Big Query</td>      <td>read_gbq</td>      <td>to_gbq</td>    </tr>  </tbody></table>'"
   ]
  },
  {
   "cell_type": "markdown",
   "metadata": {
    "slideshow": {
     "slide_type": "slide"
    }
   },
   "source": [
    "## Accessing Values in Pandas Data Frames\n"
   ]
  },
  {
   "cell_type": "code",
   "execution_count": 16,
   "metadata": {
    "slideshow": {
     "slide_type": "slide"
    }
   },
   "outputs": [],
   "source": [
    "# some data\n",
    "berlin_population_by_borough = {\n",
    "  'Area in km²': {\n",
    "    'Charlottenburg-Wilmersdorf': 64.72,\n",
    "    'Friedrichshain-Kreuzberg': 20.16,\n",
    "    'Lichtenberg': 52.29,\n",
    "    'Marzahn-Hellersdorf': 61.74,\n",
    "    'Mitte': 39.47,\n",
    "    'Neukölln': 44.93,\n",
    "    'Pankow': 103.01,\n",
    "    'Spandau': 91.91,\n",
    "    'Steglitz-Zehlendorf': 102.5,\n",
    "    'Tempelhof-Schöneberg': 53.09,\n",
    "    'Treptow-Köpenick': 168.42},\n",
    " 'Population 30 September 2010': {\n",
    "    'Charlottenburg-Wilmersdorf': 320014,\n",
    "    'Friedrichshain-Kreuzberg': 268831,\n",
    "    'Lichtenberg': 259881,\n",
    "    'Marzahn-Hellersdorf': 248264,\n",
    "    'Mitte': 332100,\n",
    "    'Neukölln': 310283,\n",
    "    'Pankow': 368956,\n",
    "    'Spandau': 225420,\n",
    "    'Steglitz-Zehlendorf': 293989,\n",
    "    'Tempelhof-Schöneberg': 335060,\n",
    "    'Treptow-Köpenick': 241335}}\n"
   ]
  },
  {
   "cell_type": "code",
   "execution_count": 17,
   "metadata": {
    "slideshow": {
     "slide_type": "slide"
    }
   },
   "outputs": [
    {
     "data": {
      "text/html": [
       "<div>\n",
       "<style scoped>\n",
       "    .dataframe tbody tr th:only-of-type {\n",
       "        vertical-align: middle;\n",
       "    }\n",
       "\n",
       "    .dataframe tbody tr th {\n",
       "        vertical-align: top;\n",
       "    }\n",
       "\n",
       "    .dataframe thead th {\n",
       "        text-align: right;\n",
       "    }\n",
       "</style>\n",
       "<table border=\"1\" class=\"dataframe\">\n",
       "  <thead>\n",
       "    <tr style=\"text-align: right;\">\n",
       "      <th></th>\n",
       "      <th>Area in km²</th>\n",
       "      <th>Population 30 September 2010</th>\n",
       "    </tr>\n",
       "  </thead>\n",
       "  <tbody>\n",
       "    <tr>\n",
       "      <th>Charlottenburg-Wilmersdorf</th>\n",
       "      <td>64.72</td>\n",
       "      <td>320014</td>\n",
       "    </tr>\n",
       "    <tr>\n",
       "      <th>Friedrichshain-Kreuzberg</th>\n",
       "      <td>20.16</td>\n",
       "      <td>268831</td>\n",
       "    </tr>\n",
       "    <tr>\n",
       "      <th>Lichtenberg</th>\n",
       "      <td>52.29</td>\n",
       "      <td>259881</td>\n",
       "    </tr>\n",
       "    <tr>\n",
       "      <th>Marzahn-Hellersdorf</th>\n",
       "      <td>61.74</td>\n",
       "      <td>248264</td>\n",
       "    </tr>\n",
       "    <tr>\n",
       "      <th>Mitte</th>\n",
       "      <td>39.47</td>\n",
       "      <td>332100</td>\n",
       "    </tr>\n",
       "    <tr>\n",
       "      <th>Neukölln</th>\n",
       "      <td>44.93</td>\n",
       "      <td>310283</td>\n",
       "    </tr>\n",
       "    <tr>\n",
       "      <th>Pankow</th>\n",
       "      <td>103.01</td>\n",
       "      <td>368956</td>\n",
       "    </tr>\n",
       "    <tr>\n",
       "      <th>Spandau</th>\n",
       "      <td>91.91</td>\n",
       "      <td>225420</td>\n",
       "    </tr>\n",
       "    <tr>\n",
       "      <th>Steglitz-Zehlendorf</th>\n",
       "      <td>102.50</td>\n",
       "      <td>293989</td>\n",
       "    </tr>\n",
       "    <tr>\n",
       "      <th>Tempelhof-Schöneberg</th>\n",
       "      <td>53.09</td>\n",
       "      <td>335060</td>\n",
       "    </tr>\n",
       "    <tr>\n",
       "      <th>Treptow-Köpenick</th>\n",
       "      <td>168.42</td>\n",
       "      <td>241335</td>\n",
       "    </tr>\n",
       "  </tbody>\n",
       "</table>\n",
       "</div>"
      ],
      "text/plain": [
       "                            Area in km²  Population 30 September 2010\n",
       "Charlottenburg-Wilmersdorf        64.72                        320014\n",
       "Friedrichshain-Kreuzberg          20.16                        268831\n",
       "Lichtenberg                       52.29                        259881\n",
       "Marzahn-Hellersdorf               61.74                        248264\n",
       "Mitte                             39.47                        332100\n",
       "Neukölln                          44.93                        310283\n",
       "Pankow                           103.01                        368956\n",
       "Spandau                           91.91                        225420\n",
       "Steglitz-Zehlendorf              102.50                        293989\n",
       "Tempelhof-Schöneberg              53.09                        335060\n",
       "Treptow-Köpenick                 168.42                        241335"
      ]
     },
     "execution_count": 17,
     "metadata": {},
     "output_type": "execute_result"
    }
   ],
   "source": [
    "# a DataFrame from a dictionary of dictionaries\n",
    "df = pd.DataFrame(berlin_population_by_borough)\n",
    "df"
   ]
  },
  {
   "cell_type": "code",
   "execution_count": 18,
   "metadata": {
    "slideshow": {
     "slide_type": "fragment"
    }
   },
   "outputs": [
    {
     "data": {
      "text/plain": [
       "Index(['Charlottenburg-Wilmersdorf', 'Friedrichshain-Kreuzberg', 'Lichtenberg',\n",
       "       'Marzahn-Hellersdorf', 'Mitte', 'Neukölln', 'Pankow', 'Spandau',\n",
       "       'Steglitz-Zehlendorf', 'Tempelhof-Schöneberg', 'Treptow-Köpenick'],\n",
       "      dtype='object')"
      ]
     },
     "execution_count": 18,
     "metadata": {},
     "output_type": "execute_result"
    }
   ],
   "source": [
    "# like Series (and tables in DBs) DataFrames have indices\n",
    "df.index"
   ]
  },
  {
   "cell_type": "code",
   "execution_count": 19,
   "metadata": {
    "slideshow": {
     "slide_type": "fragment"
    }
   },
   "outputs": [
    {
     "data": {
      "text/plain": [
       "20.16"
      ]
     },
     "execution_count": 19,
     "metadata": {},
     "output_type": "execute_result"
    }
   ],
   "source": [
    "# Accessing by row and column index\n",
    "df.loc['Friedrichshain-Kreuzberg','Area in km²']"
   ]
  },
  {
   "cell_type": "code",
   "execution_count": 20,
   "metadata": {
    "slideshow": {
     "slide_type": "slide"
    }
   },
   "outputs": [
    {
     "data": {
      "text/plain": [
       "Charlottenburg-Wilmersdorf     64.72\n",
       "Friedrichshain-Kreuzberg       20.16\n",
       "Lichtenberg                    52.29\n",
       "Marzahn-Hellersdorf            61.74\n",
       "Mitte                          39.47\n",
       "Neukölln                       44.93\n",
       "Pankow                        103.01\n",
       "Spandau                        91.91\n",
       "Steglitz-Zehlendorf           102.50\n",
       "Tempelhof-Schöneberg           53.09\n",
       "Treptow-Köpenick              168.42\n",
       "Name: Area in km², dtype: float64"
      ]
     },
     "execution_count": 20,
     "metadata": {},
     "output_type": "execute_result"
    }
   ],
   "source": [
    "# Accessing an entire column\n",
    "df.loc[:,'Area in km²']"
   ]
  },
  {
   "cell_type": "code",
   "execution_count": 21,
   "metadata": {
    "slideshow": {
     "slide_type": "fragment"
    }
   },
   "outputs": [
    {
     "data": {
      "text/plain": [
       "Charlottenburg-Wilmersdorf     64.72\n",
       "Friedrichshain-Kreuzberg       20.16\n",
       "Lichtenberg                    52.29\n",
       "Marzahn-Hellersdorf            61.74\n",
       "Mitte                          39.47\n",
       "Neukölln                       44.93\n",
       "Pankow                        103.01\n",
       "Spandau                        91.91\n",
       "Steglitz-Zehlendorf           102.50\n",
       "Tempelhof-Schöneberg           53.09\n",
       "Treptow-Köpenick              168.42\n",
       "Name: Area in km², dtype: float64"
      ]
     },
     "execution_count": 21,
     "metadata": {},
     "output_type": "execute_result"
    }
   ],
   "source": [
    "# Accessing an entire column\n",
    "df['Area in km²']"
   ]
  },
  {
   "cell_type": "code",
   "execution_count": 22,
   "metadata": {
    "slideshow": {
     "slide_type": "slide"
    }
   },
   "outputs": [
    {
     "data": {
      "text/plain": [
       "['Friedrichshain-Kreuzberg', 'Lichtenberg', 'Tempelhof-Schöneberg']"
      ]
     },
     "execution_count": 22,
     "metadata": {},
     "output_type": "execute_result"
    }
   ],
   "source": [
    "[b for b in df.index if 'berg' in b.lower()]"
   ]
  },
  {
   "cell_type": "code",
   "execution_count": 23,
   "metadata": {
    "slideshow": {
     "slide_type": "fragment"
    }
   },
   "outputs": [
    {
     "data": {
      "text/html": [
       "<div>\n",
       "<style scoped>\n",
       "    .dataframe tbody tr th:only-of-type {\n",
       "        vertical-align: middle;\n",
       "    }\n",
       "\n",
       "    .dataframe tbody tr th {\n",
       "        vertical-align: top;\n",
       "    }\n",
       "\n",
       "    .dataframe thead th {\n",
       "        text-align: right;\n",
       "    }\n",
       "</style>\n",
       "<table border=\"1\" class=\"dataframe\">\n",
       "  <thead>\n",
       "    <tr style=\"text-align: right;\">\n",
       "      <th></th>\n",
       "      <th>Area in km²</th>\n",
       "      <th>Population 30 September 2010</th>\n",
       "    </tr>\n",
       "  </thead>\n",
       "  <tbody>\n",
       "    <tr>\n",
       "      <th>Friedrichshain-Kreuzberg</th>\n",
       "      <td>20.16</td>\n",
       "      <td>268831</td>\n",
       "    </tr>\n",
       "    <tr>\n",
       "      <th>Lichtenberg</th>\n",
       "      <td>52.29</td>\n",
       "      <td>259881</td>\n",
       "    </tr>\n",
       "    <tr>\n",
       "      <th>Tempelhof-Schöneberg</th>\n",
       "      <td>53.09</td>\n",
       "      <td>335060</td>\n",
       "    </tr>\n",
       "  </tbody>\n",
       "</table>\n",
       "</div>"
      ],
      "text/plain": [
       "                          Area in km²  Population 30 September 2010\n",
       "Friedrichshain-Kreuzberg        20.16                        268831\n",
       "Lichtenberg                     52.29                        259881\n",
       "Tempelhof-Schöneberg            53.09                        335060"
      ]
     },
     "execution_count": 23,
     "metadata": {},
     "output_type": "execute_result"
    }
   ],
   "source": [
    "df.loc[['Friedrichshain-Kreuzberg', 'Lichtenberg', 'Tempelhof-Schöneberg'],:]"
   ]
  },
  {
   "cell_type": "code",
   "execution_count": 25,
   "metadata": {
    "slideshow": {
     "slide_type": "slide"
    }
   },
   "outputs": [
    {
     "data": {
      "text/plain": [
       "Charlottenburg-Wilmersdorf    320014\n",
       "Friedrichshain-Kreuzberg      268831\n",
       "Lichtenberg                   259881\n",
       "Marzahn-Hellersdorf           248264\n",
       "Mitte                         332100\n",
       "Neukölln                      310283\n",
       "Pankow                        368956\n",
       "Spandau                       225420\n",
       "Steglitz-Zehlendorf           293989\n",
       "Tempelhof-Schöneberg          335060\n",
       "Treptow-Köpenick              241335\n",
       "Name: Population 30 September 2010, dtype: int64"
      ]
     },
     "execution_count": 25,
     "metadata": {},
     "output_type": "execute_result"
    }
   ],
   "source": [
    "# a single column of a DataFrame is a Series\n",
    "df['Population 30 September 2010']"
   ]
  },
  {
   "cell_type": "code",
   "execution_count": 26,
   "metadata": {
    "slideshow": {
     "slide_type": "slide"
    }
   },
   "outputs": [
    {
     "data": {
      "text/plain": [
       "Charlottenburg-Wilmersdorf     True\n",
       "Friedrichshain-Kreuzberg      False\n",
       "Lichtenberg                   False\n",
       "Marzahn-Hellersdorf           False\n",
       "Mitte                          True\n",
       "Neukölln                       True\n",
       "Pankow                         True\n",
       "Spandau                       False\n",
       "Steglitz-Zehlendorf           False\n",
       "Tempelhof-Schöneberg           True\n",
       "Treptow-Köpenick              False\n",
       "Name: Population 30 September 2010, dtype: bool"
      ]
     },
     "execution_count": 26,
     "metadata": {},
     "output_type": "execute_result"
    }
   ],
   "source": [
    "# boolean indexing\n",
    "df['Population 30 September 2010'] > 3e5"
   ]
  },
  {
   "cell_type": "code",
   "execution_count": 27,
   "metadata": {
    "slideshow": {
     "slide_type": "slide"
    }
   },
   "outputs": [
    {
     "data": {
      "text/html": [
       "<div>\n",
       "<style scoped>\n",
       "    .dataframe tbody tr th:only-of-type {\n",
       "        vertical-align: middle;\n",
       "    }\n",
       "\n",
       "    .dataframe tbody tr th {\n",
       "        vertical-align: top;\n",
       "    }\n",
       "\n",
       "    .dataframe thead th {\n",
       "        text-align: right;\n",
       "    }\n",
       "</style>\n",
       "<table border=\"1\" class=\"dataframe\">\n",
       "  <thead>\n",
       "    <tr style=\"text-align: right;\">\n",
       "      <th></th>\n",
       "      <th>Area in km²</th>\n",
       "      <th>Population 30 September 2010</th>\n",
       "    </tr>\n",
       "  </thead>\n",
       "  <tbody>\n",
       "    <tr>\n",
       "      <th>Charlottenburg-Wilmersdorf</th>\n",
       "      <td>64.72</td>\n",
       "      <td>320014</td>\n",
       "    </tr>\n",
       "    <tr>\n",
       "      <th>Mitte</th>\n",
       "      <td>39.47</td>\n",
       "      <td>332100</td>\n",
       "    </tr>\n",
       "    <tr>\n",
       "      <th>Neukölln</th>\n",
       "      <td>44.93</td>\n",
       "      <td>310283</td>\n",
       "    </tr>\n",
       "    <tr>\n",
       "      <th>Pankow</th>\n",
       "      <td>103.01</td>\n",
       "      <td>368956</td>\n",
       "    </tr>\n",
       "    <tr>\n",
       "      <th>Tempelhof-Schöneberg</th>\n",
       "      <td>53.09</td>\n",
       "      <td>335060</td>\n",
       "    </tr>\n",
       "  </tbody>\n",
       "</table>\n",
       "</div>"
      ],
      "text/plain": [
       "                            Area in km²  Population 30 September 2010\n",
       "Charlottenburg-Wilmersdorf        64.72                        320014\n",
       "Mitte                             39.47                        332100\n",
       "Neukölln                          44.93                        310283\n",
       "Pankow                           103.01                        368956\n",
       "Tempelhof-Schöneberg              53.09                        335060"
      ]
     },
     "execution_count": 27,
     "metadata": {},
     "output_type": "execute_result"
    }
   ],
   "source": [
    "# boolean indexing\n",
    "df[df['Population 30 September 2010'] > 3e5]"
   ]
  },
  {
   "cell_type": "code",
   "execution_count": 28,
   "metadata": {
    "slideshow": {
     "slide_type": "slide"
    }
   },
   "outputs": [
    {
     "data": {
      "text/plain": [
       "Charlottenburg-Wilmersdorf    320014\n",
       "Mitte                         332100\n",
       "Neukölln                      310283\n",
       "Pankow                        368956\n",
       "Tempelhof-Schöneberg          335060\n",
       "Name: Population 30 September 2010, dtype: int64"
      ]
     },
     "execution_count": 28,
     "metadata": {},
     "output_type": "execute_result"
    }
   ],
   "source": [
    "# boolean row indexing with column indexing\n",
    "df.loc[df['Population 30 September 2010'] > 3e5,'Population 30 September 2010']"
   ]
  },
  {
   "cell_type": "markdown",
   "metadata": {
    "slideshow": {
     "slide_type": "slide"
    }
   },
   "source": [
    "## Operations on Pandas Data Frames\n"
   ]
  },
  {
   "cell_type": "markdown",
   "metadata": {
    "slideshow": {
     "slide_type": "fragment"
    }
   },
   "source": [
    "- All Series operations work on DataFrame columns\n",
    "- DataFrames support all standard DB operations and more"
   ]
  },
  {
   "cell_type": "code",
   "execution_count": 62,
   "metadata": {
    "slideshow": {
     "slide_type": "slide"
    }
   },
   "outputs": [
    {
     "data": {
      "text/html": [
       "<div>\n",
       "<style scoped>\n",
       "    .dataframe tbody tr th:only-of-type {\n",
       "        vertical-align: middle;\n",
       "    }\n",
       "\n",
       "    .dataframe tbody tr th {\n",
       "        vertical-align: top;\n",
       "    }\n",
       "\n",
       "    .dataframe thead th {\n",
       "        text-align: right;\n",
       "    }\n",
       "</style>\n",
       "<table border=\"1\" class=\"dataframe\">\n",
       "  <thead>\n",
       "    <tr style=\"text-align: right;\">\n",
       "      <th></th>\n",
       "      <th>Area in km²</th>\n",
       "      <th>Population 30 September 2010</th>\n",
       "      <th>Density</th>\n",
       "    </tr>\n",
       "  </thead>\n",
       "  <tbody>\n",
       "    <tr>\n",
       "      <th>Treptow-Köpenick</th>\n",
       "      <td>168.42</td>\n",
       "      <td>241335</td>\n",
       "      <td>1432.935518</td>\n",
       "    </tr>\n",
       "    <tr>\n",
       "      <th>Spandau</th>\n",
       "      <td>91.91</td>\n",
       "      <td>225420</td>\n",
       "      <td>2452.616690</td>\n",
       "    </tr>\n",
       "    <tr>\n",
       "      <th>Steglitz-Zehlendorf</th>\n",
       "      <td>102.50</td>\n",
       "      <td>293989</td>\n",
       "      <td>2868.185366</td>\n",
       "    </tr>\n",
       "    <tr>\n",
       "      <th>Pankow</th>\n",
       "      <td>103.01</td>\n",
       "      <td>368956</td>\n",
       "      <td>3581.749345</td>\n",
       "    </tr>\n",
       "    <tr>\n",
       "      <th>Marzahn-Hellersdorf</th>\n",
       "      <td>61.74</td>\n",
       "      <td>248264</td>\n",
       "      <td>4021.120829</td>\n",
       "    </tr>\n",
       "    <tr>\n",
       "      <th>Charlottenburg-Wilmersdorf</th>\n",
       "      <td>64.72</td>\n",
       "      <td>320014</td>\n",
       "      <td>4944.592089</td>\n",
       "    </tr>\n",
       "    <tr>\n",
       "      <th>Lichtenberg</th>\n",
       "      <td>52.29</td>\n",
       "      <td>259881</td>\n",
       "      <td>4969.994263</td>\n",
       "    </tr>\n",
       "    <tr>\n",
       "      <th>Tempelhof-Schöneberg</th>\n",
       "      <td>53.09</td>\n",
       "      <td>335060</td>\n",
       "      <td>6311.169712</td>\n",
       "    </tr>\n",
       "    <tr>\n",
       "      <th>Neukölln</th>\n",
       "      <td>44.93</td>\n",
       "      <td>310283</td>\n",
       "      <td>6905.920320</td>\n",
       "    </tr>\n",
       "    <tr>\n",
       "      <th>Mitte</th>\n",
       "      <td>39.47</td>\n",
       "      <td>332100</td>\n",
       "      <td>8413.985305</td>\n",
       "    </tr>\n",
       "    <tr>\n",
       "      <th>Friedrichshain-Kreuzberg</th>\n",
       "      <td>20.16</td>\n",
       "      <td>268831</td>\n",
       "      <td>13334.871032</td>\n",
       "    </tr>\n",
       "  </tbody>\n",
       "</table>\n",
       "</div>"
      ],
      "text/plain": [
       "                            Area in km²  Population 30 September 2010  \\\n",
       "Treptow-Köpenick                 168.42                        241335   \n",
       "Spandau                           91.91                        225420   \n",
       "Steglitz-Zehlendorf              102.50                        293989   \n",
       "Pankow                           103.01                        368956   \n",
       "Marzahn-Hellersdorf               61.74                        248264   \n",
       "Charlottenburg-Wilmersdorf        64.72                        320014   \n",
       "Lichtenberg                       52.29                        259881   \n",
       "Tempelhof-Schöneberg              53.09                        335060   \n",
       "Neukölln                          44.93                        310283   \n",
       "Mitte                             39.47                        332100   \n",
       "Friedrichshain-Kreuzberg          20.16                        268831   \n",
       "\n",
       "                                 Density  \n",
       "Treptow-Köpenick             1432.935518  \n",
       "Spandau                      2452.616690  \n",
       "Steglitz-Zehlendorf          2868.185366  \n",
       "Pankow                       3581.749345  \n",
       "Marzahn-Hellersdorf          4021.120829  \n",
       "Charlottenburg-Wilmersdorf   4944.592089  \n",
       "Lichtenberg                  4969.994263  \n",
       "Tempelhof-Schöneberg         6311.169712  \n",
       "Neukölln                     6905.920320  \n",
       "Mitte                        8413.985305  \n",
       "Friedrichshain-Kreuzberg    13334.871032  "
      ]
     },
     "execution_count": 62,
     "metadata": {},
     "output_type": "execute_result"
    }
   ],
   "source": [
    "df['Density'] = df['Population 30 September 2010'] / df['Area in km²']\n",
    "df = df.sort_values(by=['Density'])\n",
    "df"
   ]
  },
  {
   "cell_type": "markdown",
   "metadata": {
    "slideshow": {
     "slide_type": "slide"
    }
   },
   "source": [
    "## Database style joins with pandas"
   ]
  },
  {
   "cell_type": "code",
   "execution_count": 4,
   "metadata": {
    "slideshow": {
     "slide_type": "fragment"
    }
   },
   "outputs": [
    {
     "data": {
      "text/html": [
       "<div>\n",
       "<style scoped>\n",
       "    .dataframe tbody tr th:only-of-type {\n",
       "        vertical-align: middle;\n",
       "    }\n",
       "\n",
       "    .dataframe tbody tr th {\n",
       "        vertical-align: top;\n",
       "    }\n",
       "\n",
       "    .dataframe thead th {\n",
       "        text-align: right;\n",
       "    }\n",
       "</style>\n",
       "<table border=\"1\" class=\"dataframe\">\n",
       "  <thead>\n",
       "    <tr style=\"text-align: right;\">\n",
       "      <th></th>\n",
       "      <th>key</th>\n",
       "      <th>data1</th>\n",
       "    </tr>\n",
       "  </thead>\n",
       "  <tbody>\n",
       "    <tr>\n",
       "      <th>0</th>\n",
       "      <td>b</td>\n",
       "      <td>0</td>\n",
       "    </tr>\n",
       "    <tr>\n",
       "      <th>1</th>\n",
       "      <td>b</td>\n",
       "      <td>1</td>\n",
       "    </tr>\n",
       "    <tr>\n",
       "      <th>2</th>\n",
       "      <td>a</td>\n",
       "      <td>2</td>\n",
       "    </tr>\n",
       "    <tr>\n",
       "      <th>3</th>\n",
       "      <td>c</td>\n",
       "      <td>3</td>\n",
       "    </tr>\n",
       "    <tr>\n",
       "      <th>4</th>\n",
       "      <td>a</td>\n",
       "      <td>4</td>\n",
       "    </tr>\n",
       "    <tr>\n",
       "      <th>5</th>\n",
       "      <td>a</td>\n",
       "      <td>5</td>\n",
       "    </tr>\n",
       "    <tr>\n",
       "      <th>6</th>\n",
       "      <td>b</td>\n",
       "      <td>6</td>\n",
       "    </tr>\n",
       "  </tbody>\n",
       "</table>\n",
       "</div>"
      ],
      "text/plain": [
       "  key  data1\n",
       "0   b      0\n",
       "1   b      1\n",
       "2   a      2\n",
       "3   c      3\n",
       "4   a      4\n",
       "5   a      5\n",
       "6   b      6"
      ]
     },
     "execution_count": 4,
     "metadata": {},
     "output_type": "execute_result"
    }
   ],
   "source": [
    "df1 = pd.DataFrame({'key': ['b', 'b', 'a', 'c', 'a', 'a', 'b'], 'data1': range(7)})\n",
    "df1"
   ]
  },
  {
   "cell_type": "code",
   "execution_count": 5,
   "metadata": {
    "slideshow": {
     "slide_type": "fragment"
    }
   },
   "outputs": [
    {
     "data": {
      "text/html": [
       "<div>\n",
       "<style scoped>\n",
       "    .dataframe tbody tr th:only-of-type {\n",
       "        vertical-align: middle;\n",
       "    }\n",
       "\n",
       "    .dataframe tbody tr th {\n",
       "        vertical-align: top;\n",
       "    }\n",
       "\n",
       "    .dataframe thead th {\n",
       "        text-align: right;\n",
       "    }\n",
       "</style>\n",
       "<table border=\"1\" class=\"dataframe\">\n",
       "  <thead>\n",
       "    <tr style=\"text-align: right;\">\n",
       "      <th></th>\n",
       "      <th>key</th>\n",
       "      <th>data2</th>\n",
       "    </tr>\n",
       "  </thead>\n",
       "  <tbody>\n",
       "    <tr>\n",
       "      <th>0</th>\n",
       "      <td>a</td>\n",
       "      <td>0</td>\n",
       "    </tr>\n",
       "    <tr>\n",
       "      <th>1</th>\n",
       "      <td>b</td>\n",
       "      <td>1</td>\n",
       "    </tr>\n",
       "    <tr>\n",
       "      <th>2</th>\n",
       "      <td>d</td>\n",
       "      <td>2</td>\n",
       "    </tr>\n",
       "  </tbody>\n",
       "</table>\n",
       "</div>"
      ],
      "text/plain": [
       "  key  data2\n",
       "0   a      0\n",
       "1   b      1\n",
       "2   d      2"
      ]
     },
     "execution_count": 5,
     "metadata": {},
     "output_type": "execute_result"
    }
   ],
   "source": [
    "df2 = pd.DataFrame({'key': ['a', 'b', 'd'], 'data2': range(3)})\n",
    "df2"
   ]
  },
  {
   "cell_type": "markdown",
   "metadata": {
    "slideshow": {
     "slide_type": "slide"
    }
   },
   "source": [
    "### Inner join"
   ]
  },
  {
   "cell_type": "code",
   "execution_count": 6,
   "metadata": {
    "slideshow": {
     "slide_type": "fragment"
    }
   },
   "outputs": [
    {
     "data": {
      "text/html": [
       "<div>\n",
       "<style scoped>\n",
       "    .dataframe tbody tr th:only-of-type {\n",
       "        vertical-align: middle;\n",
       "    }\n",
       "\n",
       "    .dataframe tbody tr th {\n",
       "        vertical-align: top;\n",
       "    }\n",
       "\n",
       "    .dataframe thead th {\n",
       "        text-align: right;\n",
       "    }\n",
       "</style>\n",
       "<table border=\"1\" class=\"dataframe\">\n",
       "  <thead>\n",
       "    <tr style=\"text-align: right;\">\n",
       "      <th></th>\n",
       "      <th>key</th>\n",
       "      <th>data1</th>\n",
       "      <th>data2</th>\n",
       "    </tr>\n",
       "  </thead>\n",
       "  <tbody>\n",
       "    <tr>\n",
       "      <th>0</th>\n",
       "      <td>b</td>\n",
       "      <td>0</td>\n",
       "      <td>1</td>\n",
       "    </tr>\n",
       "    <tr>\n",
       "      <th>1</th>\n",
       "      <td>b</td>\n",
       "      <td>1</td>\n",
       "      <td>1</td>\n",
       "    </tr>\n",
       "    <tr>\n",
       "      <th>2</th>\n",
       "      <td>b</td>\n",
       "      <td>6</td>\n",
       "      <td>1</td>\n",
       "    </tr>\n",
       "    <tr>\n",
       "      <th>3</th>\n",
       "      <td>a</td>\n",
       "      <td>2</td>\n",
       "      <td>0</td>\n",
       "    </tr>\n",
       "    <tr>\n",
       "      <th>4</th>\n",
       "      <td>a</td>\n",
       "      <td>4</td>\n",
       "      <td>0</td>\n",
       "    </tr>\n",
       "    <tr>\n",
       "      <th>5</th>\n",
       "      <td>a</td>\n",
       "      <td>5</td>\n",
       "      <td>0</td>\n",
       "    </tr>\n",
       "  </tbody>\n",
       "</table>\n",
       "</div>"
      ],
      "text/plain": [
       "  key  data1  data2\n",
       "0   b      0      1\n",
       "1   b      1      1\n",
       "2   b      6      1\n",
       "3   a      2      0\n",
       "4   a      4      0\n",
       "5   a      5      0"
      ]
     },
     "execution_count": 6,
     "metadata": {},
     "output_type": "execute_result"
    }
   ],
   "source": [
    "pd.merge(df1, df2, on='key')"
   ]
  },
  {
   "cell_type": "markdown",
   "metadata": {
    "slideshow": {
     "slide_type": "slide"
    }
   },
   "source": [
    "### Outer join"
   ]
  },
  {
   "cell_type": "code",
   "execution_count": 7,
   "metadata": {
    "slideshow": {
     "slide_type": "fragment"
    }
   },
   "outputs": [
    {
     "data": {
      "text/html": [
       "<div>\n",
       "<style scoped>\n",
       "    .dataframe tbody tr th:only-of-type {\n",
       "        vertical-align: middle;\n",
       "    }\n",
       "\n",
       "    .dataframe tbody tr th {\n",
       "        vertical-align: top;\n",
       "    }\n",
       "\n",
       "    .dataframe thead th {\n",
       "        text-align: right;\n",
       "    }\n",
       "</style>\n",
       "<table border=\"1\" class=\"dataframe\">\n",
       "  <thead>\n",
       "    <tr style=\"text-align: right;\">\n",
       "      <th></th>\n",
       "      <th>key</th>\n",
       "      <th>data1</th>\n",
       "      <th>data2</th>\n",
       "    </tr>\n",
       "  </thead>\n",
       "  <tbody>\n",
       "    <tr>\n",
       "      <th>0</th>\n",
       "      <td>b</td>\n",
       "      <td>0.0</td>\n",
       "      <td>1.0</td>\n",
       "    </tr>\n",
       "    <tr>\n",
       "      <th>1</th>\n",
       "      <td>b</td>\n",
       "      <td>1.0</td>\n",
       "      <td>1.0</td>\n",
       "    </tr>\n",
       "    <tr>\n",
       "      <th>2</th>\n",
       "      <td>b</td>\n",
       "      <td>6.0</td>\n",
       "      <td>1.0</td>\n",
       "    </tr>\n",
       "    <tr>\n",
       "      <th>3</th>\n",
       "      <td>a</td>\n",
       "      <td>2.0</td>\n",
       "      <td>0.0</td>\n",
       "    </tr>\n",
       "    <tr>\n",
       "      <th>4</th>\n",
       "      <td>a</td>\n",
       "      <td>4.0</td>\n",
       "      <td>0.0</td>\n",
       "    </tr>\n",
       "    <tr>\n",
       "      <th>5</th>\n",
       "      <td>a</td>\n",
       "      <td>5.0</td>\n",
       "      <td>0.0</td>\n",
       "    </tr>\n",
       "    <tr>\n",
       "      <th>6</th>\n",
       "      <td>c</td>\n",
       "      <td>3.0</td>\n",
       "      <td>NaN</td>\n",
       "    </tr>\n",
       "    <tr>\n",
       "      <th>7</th>\n",
       "      <td>d</td>\n",
       "      <td>NaN</td>\n",
       "      <td>2.0</td>\n",
       "    </tr>\n",
       "  </tbody>\n",
       "</table>\n",
       "</div>"
      ],
      "text/plain": [
       "  key  data1  data2\n",
       "0   b    0.0    1.0\n",
       "1   b    1.0    1.0\n",
       "2   b    6.0    1.0\n",
       "3   a    2.0    0.0\n",
       "4   a    4.0    0.0\n",
       "5   a    5.0    0.0\n",
       "6   c    3.0    NaN\n",
       "7   d    NaN    2.0"
      ]
     },
     "execution_count": 7,
     "metadata": {},
     "output_type": "execute_result"
    }
   ],
   "source": [
    "pd.merge(df1, df2, on='key', how='outer')"
   ]
  },
  {
   "cell_type": "markdown",
   "metadata": {
    "slideshow": {
     "slide_type": "slide"
    }
   },
   "source": [
    "## Concatenation\n",
    "\n",
    "Remember numpy array concatenation"
   ]
  },
  {
   "cell_type": "code",
   "execution_count": 8,
   "metadata": {
    "slideshow": {
     "slide_type": "fragment"
    }
   },
   "outputs": [
    {
     "data": {
      "text/plain": [
       "array([[ 0,  1,  2,  3],\n",
       "       [ 4,  5,  6,  7],\n",
       "       [ 8,  9, 10, 11]])"
      ]
     },
     "execution_count": 8,
     "metadata": {},
     "output_type": "execute_result"
    }
   ],
   "source": [
    "import numpy as np\n",
    "arr = np.arange(12).reshape((3, 4))\n",
    "arr"
   ]
  },
  {
   "cell_type": "code",
   "execution_count": 9,
   "metadata": {
    "slideshow": {
     "slide_type": "fragment"
    }
   },
   "outputs": [
    {
     "data": {
      "text/plain": [
       "array([[ 0,  1,  2,  3,  0,  1,  2,  3],\n",
       "       [ 4,  5,  6,  7,  4,  5,  6,  7],\n",
       "       [ 8,  9, 10, 11,  8,  9, 10, 11]])"
      ]
     },
     "execution_count": 9,
     "metadata": {},
     "output_type": "execute_result"
    }
   ],
   "source": [
    "np.concatenate([arr, arr], axis=1)"
   ]
  },
  {
   "cell_type": "code",
   "execution_count": 10,
   "metadata": {
    "slideshow": {
     "slide_type": "fragment"
    }
   },
   "outputs": [
    {
     "data": {
      "text/plain": [
       "array([[ 0,  1,  2,  3],\n",
       "       [ 4,  5,  6,  7],\n",
       "       [ 8,  9, 10, 11],\n",
       "       [ 0,  1,  2,  3],\n",
       "       [ 4,  5,  6,  7],\n",
       "       [ 8,  9, 10, 11]])"
      ]
     },
     "execution_count": 10,
     "metadata": {},
     "output_type": "execute_result"
    }
   ],
   "source": [
    "np.concatenate([arr, arr], axis=0)"
   ]
  },
  {
   "cell_type": "markdown",
   "metadata": {
    "slideshow": {
     "slide_type": "slide"
    }
   },
   "source": [
    "## Concatenation with Pandas\n"
   ]
  },
  {
   "cell_type": "code",
   "execution_count": 12,
   "metadata": {
    "slideshow": {
     "slide_type": "fragment"
    }
   },
   "outputs": [
    {
     "data": {
      "text/plain": [
       "a    0\n",
       "b    1\n",
       "dtype: int64"
      ]
     },
     "execution_count": 12,
     "metadata": {},
     "output_type": "execute_result"
    }
   ],
   "source": [
    "s1 = pd.Series([0, 1], index=['a', 'b'])\n",
    "s1"
   ]
  },
  {
   "cell_type": "code",
   "execution_count": 11,
   "metadata": {
    "slideshow": {
     "slide_type": "fragment"
    }
   },
   "outputs": [
    {
     "data": {
      "text/plain": [
       "c    2\n",
       "d    3\n",
       "e    4\n",
       "dtype: int64"
      ]
     },
     "execution_count": 11,
     "metadata": {},
     "output_type": "execute_result"
    }
   ],
   "source": [
    "s2 = pd.Series([2, 3, 4], index=['c', 'd', 'e'])\n",
    "s2"
   ]
  },
  {
   "cell_type": "code",
   "execution_count": 13,
   "metadata": {
    "slideshow": {
     "slide_type": "fragment"
    }
   },
   "outputs": [
    {
     "data": {
      "text/plain": [
       "a    0\n",
       "b    1\n",
       "c    2\n",
       "d    3\n",
       "e    4\n",
       "f    5\n",
       "g    6\n",
       "dtype: int64"
      ]
     },
     "execution_count": 13,
     "metadata": {},
     "output_type": "execute_result"
    }
   ],
   "source": [
    "s3 = pd.Series([5, 6], index=['f', 'g'])\n",
    "pd.concat([s1, s2, s3])"
   ]
  },
  {
   "cell_type": "code",
   "execution_count": 15,
   "metadata": {
    "slideshow": {
     "slide_type": "slide"
    }
   },
   "outputs": [
    {
     "data": {
      "text/html": [
       "<div>\n",
       "<style scoped>\n",
       "    .dataframe tbody tr th:only-of-type {\n",
       "        vertical-align: middle;\n",
       "    }\n",
       "\n",
       "    .dataframe tbody tr th {\n",
       "        vertical-align: top;\n",
       "    }\n",
       "\n",
       "    .dataframe thead th {\n",
       "        text-align: right;\n",
       "    }\n",
       "</style>\n",
       "<table border=\"1\" class=\"dataframe\">\n",
       "  <thead>\n",
       "    <tr style=\"text-align: right;\">\n",
       "      <th></th>\n",
       "      <th>0</th>\n",
       "      <th>1</th>\n",
       "      <th>2</th>\n",
       "    </tr>\n",
       "  </thead>\n",
       "  <tbody>\n",
       "    <tr>\n",
       "      <th>a</th>\n",
       "      <td>0.0</td>\n",
       "      <td>NaN</td>\n",
       "      <td>NaN</td>\n",
       "    </tr>\n",
       "    <tr>\n",
       "      <th>b</th>\n",
       "      <td>1.0</td>\n",
       "      <td>NaN</td>\n",
       "      <td>NaN</td>\n",
       "    </tr>\n",
       "    <tr>\n",
       "      <th>c</th>\n",
       "      <td>NaN</td>\n",
       "      <td>2.0</td>\n",
       "      <td>NaN</td>\n",
       "    </tr>\n",
       "    <tr>\n",
       "      <th>d</th>\n",
       "      <td>NaN</td>\n",
       "      <td>3.0</td>\n",
       "      <td>NaN</td>\n",
       "    </tr>\n",
       "    <tr>\n",
       "      <th>e</th>\n",
       "      <td>NaN</td>\n",
       "      <td>4.0</td>\n",
       "      <td>NaN</td>\n",
       "    </tr>\n",
       "    <tr>\n",
       "      <th>f</th>\n",
       "      <td>NaN</td>\n",
       "      <td>NaN</td>\n",
       "      <td>5.0</td>\n",
       "    </tr>\n",
       "    <tr>\n",
       "      <th>g</th>\n",
       "      <td>NaN</td>\n",
       "      <td>NaN</td>\n",
       "      <td>6.0</td>\n",
       "    </tr>\n",
       "  </tbody>\n",
       "</table>\n",
       "</div>"
      ],
      "text/plain": [
       "     0    1    2\n",
       "a  0.0  NaN  NaN\n",
       "b  1.0  NaN  NaN\n",
       "c  NaN  2.0  NaN\n",
       "d  NaN  3.0  NaN\n",
       "e  NaN  4.0  NaN\n",
       "f  NaN  NaN  5.0\n",
       "g  NaN  NaN  6.0"
      ]
     },
     "execution_count": 15,
     "metadata": {},
     "output_type": "execute_result"
    }
   ],
   "source": [
    "pd.concat([s1, s2, s3], axis=1, sort=True)"
   ]
  },
  {
   "cell_type": "markdown",
   "metadata": {
    "slideshow": {
     "slide_type": "slide"
    }
   },
   "source": [
    "## Group-by and Aggregations\n",
    "\n",
    "Aka split-apply-combine\n"
   ]
  },
  {
   "cell_type": "markdown",
   "metadata": {
    "slideshow": {
     "slide_type": "fragment"
    }
   },
   "source": [
    "<img src=\"figures/split-apply-combine.png\" width=600px>\n",
    "\n"
   ]
  },
  {
   "cell_type": "code",
   "execution_count": 291,
   "metadata": {
    "slideshow": {
     "slide_type": "slide"
    }
   },
   "outputs": [
    {
     "data": {
      "text/html": [
       "<div>\n",
       "<style scoped>\n",
       "    .dataframe tbody tr th:only-of-type {\n",
       "        vertical-align: middle;\n",
       "    }\n",
       "\n",
       "    .dataframe tbody tr th {\n",
       "        vertical-align: top;\n",
       "    }\n",
       "\n",
       "    .dataframe thead th {\n",
       "        text-align: right;\n",
       "    }\n",
       "</style>\n",
       "<table border=\"1\" class=\"dataframe\">\n",
       "  <thead>\n",
       "    <tr style=\"text-align: right;\">\n",
       "      <th></th>\n",
       "      <th>key1</th>\n",
       "      <th>key2</th>\n",
       "      <th>data1</th>\n",
       "      <th>data2</th>\n",
       "    </tr>\n",
       "  </thead>\n",
       "  <tbody>\n",
       "    <tr>\n",
       "      <th>0</th>\n",
       "      <td>a</td>\n",
       "      <td>one</td>\n",
       "      <td>1.502392</td>\n",
       "      <td>-0.788310</td>\n",
       "    </tr>\n",
       "    <tr>\n",
       "      <th>1</th>\n",
       "      <td>a</td>\n",
       "      <td>two</td>\n",
       "      <td>-1.166386</td>\n",
       "      <td>0.727721</td>\n",
       "    </tr>\n",
       "    <tr>\n",
       "      <th>2</th>\n",
       "      <td>b</td>\n",
       "      <td>one</td>\n",
       "      <td>0.304301</td>\n",
       "      <td>0.407109</td>\n",
       "    </tr>\n",
       "    <tr>\n",
       "      <th>3</th>\n",
       "      <td>b</td>\n",
       "      <td>two</td>\n",
       "      <td>-0.577516</td>\n",
       "      <td>0.121743</td>\n",
       "    </tr>\n",
       "    <tr>\n",
       "      <th>4</th>\n",
       "      <td>a</td>\n",
       "      <td>one</td>\n",
       "      <td>0.550197</td>\n",
       "      <td>0.395730</td>\n",
       "    </tr>\n",
       "  </tbody>\n",
       "</table>\n",
       "</div>"
      ],
      "text/plain": [
       "  key1 key2     data1     data2\n",
       "0    a  one  1.502392 -0.788310\n",
       "1    a  two -1.166386  0.727721\n",
       "2    b  one  0.304301  0.407109\n",
       "3    b  two -0.577516  0.121743\n",
       "4    a  one  0.550197  0.395730"
      ]
     },
     "execution_count": 291,
     "metadata": {},
     "output_type": "execute_result"
    }
   ],
   "source": [
    "df = pd.DataFrame({ 'key1' : ['a', 'a', 'b', 'b', 'a'],\n",
    "                    'key2' : ['one', 'two', 'one', 'two', 'one'],\n",
    "                    'data1' : np.random.randn(5),\n",
    "                    'data2' : np.random.randn(5)})\n",
    "df"
   ]
  },
  {
   "cell_type": "code",
   "execution_count": 292,
   "metadata": {
    "slideshow": {
     "slide_type": "slide"
    }
   },
   "outputs": [
    {
     "data": {
      "text/plain": [
       "<pandas.core.groupby.groupby.SeriesGroupBy object at 0x1a1cba2cf8>"
      ]
     },
     "execution_count": 292,
     "metadata": {},
     "output_type": "execute_result"
    }
   ],
   "source": [
    "grouped = df['data1'].groupby(df['key1'])\n",
    "grouped"
   ]
  },
  {
   "cell_type": "code",
   "execution_count": 293,
   "metadata": {
    "slideshow": {
     "slide_type": "slide"
    }
   },
   "outputs": [
    {
     "data": {
      "text/plain": [
       "key1\n",
       "a    0.295401\n",
       "b   -0.136607\n",
       "Name: data1, dtype: float64"
      ]
     },
     "execution_count": 293,
     "metadata": {},
     "output_type": "execute_result"
    }
   ],
   "source": [
    "grouped.mean()"
   ]
  },
  {
   "cell_type": "code",
   "execution_count": 294,
   "metadata": {
    "slideshow": {
     "slide_type": "slide"
    }
   },
   "outputs": [
    {
     "data": {
      "text/plain": [
       "key1\n",
       "a    1.502392\n",
       "b    0.304301\n",
       "Name: data1, dtype: float64"
      ]
     },
     "execution_count": 294,
     "metadata": {},
     "output_type": "execute_result"
    }
   ],
   "source": [
    "grouped.max()"
   ]
  },
  {
   "cell_type": "code",
   "execution_count": 295,
   "metadata": {
    "slideshow": {
     "slide_type": "slide"
    }
   },
   "outputs": [
    {
     "data": {
      "text/plain": [
       "key1\n",
       "a    1.311953\n",
       "b    0.216119\n",
       "Name: data1, dtype: float64"
      ]
     },
     "execution_count": 295,
     "metadata": {},
     "output_type": "execute_result"
    }
   ],
   "source": [
    "grouped.quantile(.9)"
   ]
  },
  {
   "cell_type": "code",
   "execution_count": 302,
   "metadata": {
    "slideshow": {
     "slide_type": "slide"
    }
   },
   "outputs": [
    {
     "data": {
      "text/html": [
       "<div>\n",
       "<style scoped>\n",
       "    .dataframe tbody tr th:only-of-type {\n",
       "        vertical-align: middle;\n",
       "    }\n",
       "\n",
       "    .dataframe tbody tr th {\n",
       "        vertical-align: top;\n",
       "    }\n",
       "\n",
       "    .dataframe thead th {\n",
       "        text-align: right;\n",
       "    }\n",
       "</style>\n",
       "<table border=\"1\" class=\"dataframe\">\n",
       "  <thead>\n",
       "    <tr style=\"text-align: right;\">\n",
       "      <th></th>\n",
       "      <th></th>\n",
       "      <th>my_mean</th>\n",
       "      <th>my_sum</th>\n",
       "    </tr>\n",
       "    <tr>\n",
       "      <th>key1</th>\n",
       "      <th>key2</th>\n",
       "      <th></th>\n",
       "      <th></th>\n",
       "    </tr>\n",
       "  </thead>\n",
       "  <tbody>\n",
       "    <tr>\n",
       "      <th rowspan=\"2\" valign=\"top\">a</th>\n",
       "      <th>one</th>\n",
       "      <td>1.026294</td>\n",
       "      <td>2.052589</td>\n",
       "    </tr>\n",
       "    <tr>\n",
       "      <th>two</th>\n",
       "      <td>-1.166386</td>\n",
       "      <td>-1.166386</td>\n",
       "    </tr>\n",
       "    <tr>\n",
       "      <th rowspan=\"2\" valign=\"top\">b</th>\n",
       "      <th>one</th>\n",
       "      <td>0.304301</td>\n",
       "      <td>0.304301</td>\n",
       "    </tr>\n",
       "    <tr>\n",
       "      <th>two</th>\n",
       "      <td>-0.577516</td>\n",
       "      <td>-0.577516</td>\n",
       "    </tr>\n",
       "  </tbody>\n",
       "</table>\n",
       "</div>"
      ],
      "text/plain": [
       "            my_mean    my_sum\n",
       "key1 key2                    \n",
       "a    one   1.026294  2.052589\n",
       "     two  -1.166386 -1.166386\n",
       "b    one   0.304301  0.304301\n",
       "     two  -0.577516 -0.577516"
      ]
     },
     "execution_count": 302,
     "metadata": {},
     "output_type": "execute_result"
    }
   ],
   "source": [
    "df.groupby(['key1','key2'])['data1'].agg(['mean','sum']).rename(columns={'mean': 'my_mean', 'sum':'my_sum'})"
   ]
  },
  {
   "cell_type": "markdown",
   "metadata": {
    "slideshow": {
     "slide_type": "slide"
    }
   },
   "source": [
    "### Iterating over groups"
   ]
  },
  {
   "cell_type": "code",
   "execution_count": 22,
   "metadata": {
    "slideshow": {
     "slide_type": "fragment"
    }
   },
   "outputs": [
    {
     "name": "stdout",
     "output_type": "stream",
     "text": [
      "a\n",
      "  key1 key2     data1     data2\n",
      "0    a  one  1.163201 -2.187141\n",
      "1    a  two -1.526825  0.310791\n",
      "4    a  one  0.276677 -1.389537\n",
      "b\n",
      "  key1 key2     data1     data2\n",
      "2    b  one -1.059584  1.204863\n",
      "3    b  two -2.193576 -0.858221\n"
     ]
    }
   ],
   "source": [
    "for name, group in df.groupby('key1'):\n",
    "    print(name)\n",
    "    print(group)\n",
    "    "
   ]
  },
  {
   "cell_type": "code",
   "execution_count": 23,
   "metadata": {
    "slideshow": {
     "slide_type": "slide"
    }
   },
   "outputs": [
    {
     "name": "stdout",
     "output_type": "stream",
     "text": [
      "('a', 'one')\n",
      "  key1 key2     data1     data2\n",
      "0    a  one  1.163201 -2.187141\n",
      "4    a  one  0.276677 -1.389537\n",
      "('a', 'two')\n",
      "  key1 key2     data1     data2\n",
      "1    a  two -1.526825  0.310791\n",
      "('b', 'one')\n",
      "  key1 key2     data1     data2\n",
      "2    b  one -1.059584  1.204863\n",
      "('b', 'two')\n",
      "  key1 key2     data1     data2\n",
      "3    b  two -2.193576 -0.858221\n"
     ]
    }
   ],
   "source": [
    "for (k1, k2), group in df.groupby(['key1', 'key2']):\n",
    "    print((k1, k2))\n",
    "    print(group)\n",
    "    "
   ]
  },
  {
   "cell_type": "markdown",
   "metadata": {
    "slideshow": {
     "slide_type": "slide"
    }
   },
   "source": [
    "# Some Experiments with Names in Berlin\n",
    "\n",
    "Source [data portal Berlin](https://daten.berlin.de/search/node/vornamen)\n"
   ]
  },
  {
   "cell_type": "code",
   "execution_count": 63,
   "metadata": {
    "collapsed": true,
    "slideshow": {
     "slide_type": "slide"
    }
   },
   "outputs": [],
   "source": [
    "import urllib\n",
    "import os\n",
    "\n",
    "basedir = os.path.join(\"data\",\"vornamen\")\n",
    "os.makedirs(basedir, exist_ok=True)\n",
    "\n",
    "base_url = \"https://www.berlin.de/daten/liste-der-vornamen-{}/{}.csv\"\n",
    "\n",
    "boroughs = [\n",
    "\"charlottenburg-wilmersdorf\",\n",
    "\"friedrichshain-kreuzberg\",\n",
    "\"lichtenberg\",\n",
    "\"marzahn-hellersdorf\",\n",
    "\"mitte\",\n",
    "\"neukoelln\",\n",
    "\"pankow\",\n",
    "\"reinickendorf\",\n",
    "\"spandau\",\n",
    "\"steglitz-zehlendorf\",\n",
    "\"tempelhof-schoeneberg\",\n",
    "\"treptow-koepenick\"\n",
    "]\n",
    "\n",
    "years = range(2013,2018)\n"
   ]
  },
  {
   "cell_type": "code",
   "execution_count": 64,
   "metadata": {
    "slideshow": {
     "slide_type": "slide"
    }
   },
   "outputs": [],
   "source": [
    "# download all name files from Berlin open data portal\n",
    "all_names = []\n",
    "\n",
    "for borough in boroughs:\n",
    "    for year in years:\n",
    "        try:\n",
    "            url = base_url.format(year, borough)\n",
    "            filename = os.path.join(basedir, \"{}-{}.csv\".format(year,borough))\n",
    "            urllib.request.urlretrieve(url, filename)\n",
    "            df_vornamen_stadtteil = pd.read_csv(filename,sep=';',error_bad_lines=False)\n",
    "            df_vornamen_stadtteil['borough'] = borough\n",
    "            df_vornamen_stadtteil['year'] = year\n",
    "            all_names.append(df_vornamen_stadtteil)\n",
    "        except:\n",
    "            print(\"File {} not found\".format(url))\n",
    "\n",
    "# concatenate DataFrames\n",
    "all_names_df = pd.concat(all_names, sort=True)\n"
   ]
  },
  {
   "cell_type": "code",
   "execution_count": 65,
   "metadata": {
    "slideshow": {
     "slide_type": "slide"
    }
   },
   "outputs": [
    {
     "data": {
      "text/html": [
       "<div>\n",
       "<style scoped>\n",
       "    .dataframe tbody tr th:only-of-type {\n",
       "        vertical-align: middle;\n",
       "    }\n",
       "\n",
       "    .dataframe tbody tr th {\n",
       "        vertical-align: top;\n",
       "    }\n",
       "\n",
       "    .dataframe thead th {\n",
       "        text-align: right;\n",
       "    }\n",
       "</style>\n",
       "<table border=\"1\" class=\"dataframe\">\n",
       "  <thead>\n",
       "    <tr style=\"text-align: right;\">\n",
       "      <th></th>\n",
       "      <th>anzahl</th>\n",
       "      <th>borough</th>\n",
       "      <th>geschlecht</th>\n",
       "      <th>position</th>\n",
       "      <th>vorname</th>\n",
       "      <th>year</th>\n",
       "    </tr>\n",
       "  </thead>\n",
       "  <tbody>\n",
       "    <tr>\n",
       "      <th>604</th>\n",
       "      <td>1</td>\n",
       "      <td>marzahn-hellersdorf</td>\n",
       "      <td>m</td>\n",
       "      <td>NaN</td>\n",
       "      <td>Laurin</td>\n",
       "      <td>2014</td>\n",
       "    </tr>\n",
       "    <tr>\n",
       "      <th>766</th>\n",
       "      <td>1</td>\n",
       "      <td>treptow-koepenick</td>\n",
       "      <td>m</td>\n",
       "      <td>2.0</td>\n",
       "      <td>Otis</td>\n",
       "      <td>2017</td>\n",
       "    </tr>\n",
       "    <tr>\n",
       "      <th>633</th>\n",
       "      <td>2</td>\n",
       "      <td>mitte</td>\n",
       "      <td>w</td>\n",
       "      <td>NaN</td>\n",
       "      <td>Annabelle</td>\n",
       "      <td>2016</td>\n",
       "    </tr>\n",
       "    <tr>\n",
       "      <th>422</th>\n",
       "      <td>1</td>\n",
       "      <td>steglitz-zehlendorf</td>\n",
       "      <td>m</td>\n",
       "      <td>NaN</td>\n",
       "      <td>Darijan</td>\n",
       "      <td>2015</td>\n",
       "    </tr>\n",
       "    <tr>\n",
       "      <th>576</th>\n",
       "      <td>2</td>\n",
       "      <td>neukoelln</td>\n",
       "      <td>m</td>\n",
       "      <td>NaN</td>\n",
       "      <td>Albert</td>\n",
       "      <td>2014</td>\n",
       "    </tr>\n",
       "    <tr>\n",
       "      <th>69</th>\n",
       "      <td>12</td>\n",
       "      <td>lichtenberg</td>\n",
       "      <td>w</td>\n",
       "      <td>NaN</td>\n",
       "      <td>Luise</td>\n",
       "      <td>2016</td>\n",
       "    </tr>\n",
       "    <tr>\n",
       "      <th>825</th>\n",
       "      <td>1</td>\n",
       "      <td>lichtenberg</td>\n",
       "      <td>w</td>\n",
       "      <td>2.0</td>\n",
       "      <td>NaN</td>\n",
       "      <td>2017</td>\n",
       "    </tr>\n",
       "    <tr>\n",
       "      <th>661</th>\n",
       "      <td>2</td>\n",
       "      <td>mitte</td>\n",
       "      <td>w</td>\n",
       "      <td>NaN</td>\n",
       "      <td>Christina</td>\n",
       "      <td>2014</td>\n",
       "    </tr>\n",
       "    <tr>\n",
       "      <th>127</th>\n",
       "      <td>8</td>\n",
       "      <td>spandau</td>\n",
       "      <td>m</td>\n",
       "      <td>NaN</td>\n",
       "      <td>Peter</td>\n",
       "      <td>2013</td>\n",
       "    </tr>\n",
       "    <tr>\n",
       "      <th>2436</th>\n",
       "      <td>1</td>\n",
       "      <td>neukoelln</td>\n",
       "      <td>m</td>\n",
       "      <td>NaN</td>\n",
       "      <td>Siraç</td>\n",
       "      <td>2014</td>\n",
       "    </tr>\n",
       "  </tbody>\n",
       "</table>\n",
       "</div>"
      ],
      "text/plain": [
       "      anzahl              borough geschlecht  position    vorname  year\n",
       "604        1  marzahn-hellersdorf          m       NaN     Laurin  2014\n",
       "766        1    treptow-koepenick          m       2.0       Otis  2017\n",
       "633        2                mitte          w       NaN  Annabelle  2016\n",
       "422        1  steglitz-zehlendorf          m       NaN    Darijan  2015\n",
       "576        2            neukoelln          m       NaN     Albert  2014\n",
       "69        12          lichtenberg          w       NaN      Luise  2016\n",
       "825        1          lichtenberg          w       2.0        NaN  2017\n",
       "661        2                mitte          w       NaN  Christina  2014\n",
       "127        8              spandau          m       NaN      Peter  2013\n",
       "2436       1            neukoelln          m       NaN      Siraç  2014"
      ]
     },
     "execution_count": 65,
     "metadata": {},
     "output_type": "execute_result"
    }
   ],
   "source": [
    "all_names_df.sample(n=10)"
   ]
  },
  {
   "cell_type": "code",
   "execution_count": 66,
   "metadata": {
    "slideshow": {
     "slide_type": "slide"
    }
   },
   "outputs": [
    {
     "data": {
      "text/html": [
       "<div>\n",
       "<style scoped>\n",
       "    .dataframe tbody tr th:only-of-type {\n",
       "        vertical-align: middle;\n",
       "    }\n",
       "\n",
       "    .dataframe tbody tr th {\n",
       "        vertical-align: top;\n",
       "    }\n",
       "\n",
       "    .dataframe thead th {\n",
       "        text-align: right;\n",
       "    }\n",
       "</style>\n",
       "<table border=\"1\" class=\"dataframe\">\n",
       "  <thead>\n",
       "    <tr style=\"text-align: right;\">\n",
       "      <th></th>\n",
       "      <th>anzahl</th>\n",
       "      <th>borough</th>\n",
       "      <th>geschlecht</th>\n",
       "      <th>position</th>\n",
       "      <th>vorname</th>\n",
       "      <th>year</th>\n",
       "    </tr>\n",
       "  </thead>\n",
       "  <tbody>\n",
       "    <tr>\n",
       "      <th>3</th>\n",
       "      <td>42</td>\n",
       "      <td>friedrichshain-kreuzberg</td>\n",
       "      <td>m</td>\n",
       "      <td>NaN</td>\n",
       "      <td>Anton</td>\n",
       "      <td>2016</td>\n",
       "    </tr>\n",
       "    <tr>\n",
       "      <th>6</th>\n",
       "      <td>41</td>\n",
       "      <td>friedrichshain-kreuzberg</td>\n",
       "      <td>m</td>\n",
       "      <td>NaN</td>\n",
       "      <td>Emil</td>\n",
       "      <td>2016</td>\n",
       "    </tr>\n",
       "    <tr>\n",
       "      <th>7</th>\n",
       "      <td>40</td>\n",
       "      <td>friedrichshain-kreuzberg</td>\n",
       "      <td>m</td>\n",
       "      <td>NaN</td>\n",
       "      <td>Ali</td>\n",
       "      <td>2016</td>\n",
       "    </tr>\n",
       "    <tr>\n",
       "      <th>8</th>\n",
       "      <td>39</td>\n",
       "      <td>friedrichshain-kreuzberg</td>\n",
       "      <td>m</td>\n",
       "      <td>NaN</td>\n",
       "      <td>Alexander</td>\n",
       "      <td>2016</td>\n",
       "    </tr>\n",
       "    <tr>\n",
       "      <th>10</th>\n",
       "      <td>37</td>\n",
       "      <td>friedrichshain-kreuzberg</td>\n",
       "      <td>m</td>\n",
       "      <td>NaN</td>\n",
       "      <td>Leon</td>\n",
       "      <td>2016</td>\n",
       "    </tr>\n",
       "    <tr>\n",
       "      <th>12</th>\n",
       "      <td>35</td>\n",
       "      <td>friedrichshain-kreuzberg</td>\n",
       "      <td>m</td>\n",
       "      <td>NaN</td>\n",
       "      <td>Elias</td>\n",
       "      <td>2016</td>\n",
       "    </tr>\n",
       "    <tr>\n",
       "      <th>13</th>\n",
       "      <td>33</td>\n",
       "      <td>friedrichshain-kreuzberg</td>\n",
       "      <td>m</td>\n",
       "      <td>NaN</td>\n",
       "      <td>Karl</td>\n",
       "      <td>2016</td>\n",
       "    </tr>\n",
       "    <tr>\n",
       "      <th>14</th>\n",
       "      <td>33</td>\n",
       "      <td>friedrichshain-kreuzberg</td>\n",
       "      <td>m</td>\n",
       "      <td>NaN</td>\n",
       "      <td>Paul</td>\n",
       "      <td>2016</td>\n",
       "    </tr>\n",
       "    <tr>\n",
       "      <th>15</th>\n",
       "      <td>31</td>\n",
       "      <td>friedrichshain-kreuzberg</td>\n",
       "      <td>m</td>\n",
       "      <td>NaN</td>\n",
       "      <td>Oskar</td>\n",
       "      <td>2016</td>\n",
       "    </tr>\n",
       "    <tr>\n",
       "      <th>17</th>\n",
       "      <td>30</td>\n",
       "      <td>friedrichshain-kreuzberg</td>\n",
       "      <td>m</td>\n",
       "      <td>NaN</td>\n",
       "      <td>Felix</td>\n",
       "      <td>2016</td>\n",
       "    </tr>\n",
       "    <tr>\n",
       "      <th>19</th>\n",
       "      <td>29</td>\n",
       "      <td>friedrichshain-kreuzberg</td>\n",
       "      <td>m</td>\n",
       "      <td>NaN</td>\n",
       "      <td>Noah</td>\n",
       "      <td>2016</td>\n",
       "    </tr>\n",
       "    <tr>\n",
       "      <th>21</th>\n",
       "      <td>28</td>\n",
       "      <td>friedrichshain-kreuzberg</td>\n",
       "      <td>m</td>\n",
       "      <td>NaN</td>\n",
       "      <td>Henry</td>\n",
       "      <td>2016</td>\n",
       "    </tr>\n",
       "    <tr>\n",
       "      <th>22</th>\n",
       "      <td>27</td>\n",
       "      <td>friedrichshain-kreuzberg</td>\n",
       "      <td>m</td>\n",
       "      <td>NaN</td>\n",
       "      <td>Jonas</td>\n",
       "      <td>2016</td>\n",
       "    </tr>\n",
       "    <tr>\n",
       "      <th>24</th>\n",
       "      <td>26</td>\n",
       "      <td>friedrichshain-kreuzberg</td>\n",
       "      <td>m</td>\n",
       "      <td>NaN</td>\n",
       "      <td>Jonathan</td>\n",
       "      <td>2016</td>\n",
       "    </tr>\n",
       "    <tr>\n",
       "      <th>25</th>\n",
       "      <td>26</td>\n",
       "      <td>friedrichshain-kreuzberg</td>\n",
       "      <td>m</td>\n",
       "      <td>NaN</td>\n",
       "      <td>Maximilian</td>\n",
       "      <td>2016</td>\n",
       "    </tr>\n",
       "    <tr>\n",
       "      <th>29</th>\n",
       "      <td>24</td>\n",
       "      <td>friedrichshain-kreuzberg</td>\n",
       "      <td>m</td>\n",
       "      <td>NaN</td>\n",
       "      <td>Valentin</td>\n",
       "      <td>2016</td>\n",
       "    </tr>\n",
       "    <tr>\n",
       "      <th>28</th>\n",
       "      <td>24</td>\n",
       "      <td>friedrichshain-kreuzberg</td>\n",
       "      <td>m</td>\n",
       "      <td>NaN</td>\n",
       "      <td>Jakob</td>\n",
       "      <td>2016</td>\n",
       "    </tr>\n",
       "    <tr>\n",
       "      <th>32</th>\n",
       "      <td>23</td>\n",
       "      <td>friedrichshain-kreuzberg</td>\n",
       "      <td>m</td>\n",
       "      <td>NaN</td>\n",
       "      <td>Julius</td>\n",
       "      <td>2016</td>\n",
       "    </tr>\n",
       "    <tr>\n",
       "      <th>34</th>\n",
       "      <td>22</td>\n",
       "      <td>friedrichshain-kreuzberg</td>\n",
       "      <td>m</td>\n",
       "      <td>NaN</td>\n",
       "      <td>Moritz</td>\n",
       "      <td>2016</td>\n",
       "    </tr>\n",
       "    <tr>\n",
       "      <th>36</th>\n",
       "      <td>21</td>\n",
       "      <td>friedrichshain-kreuzberg</td>\n",
       "      <td>m</td>\n",
       "      <td>NaN</td>\n",
       "      <td>Adam</td>\n",
       "      <td>2016</td>\n",
       "    </tr>\n",
       "    <tr>\n",
       "      <th>37</th>\n",
       "      <td>21</td>\n",
       "      <td>friedrichshain-kreuzberg</td>\n",
       "      <td>m</td>\n",
       "      <td>NaN</td>\n",
       "      <td>Ben</td>\n",
       "      <td>2016</td>\n",
       "    </tr>\n",
       "    <tr>\n",
       "      <th>38</th>\n",
       "      <td>21</td>\n",
       "      <td>friedrichshain-kreuzberg</td>\n",
       "      <td>m</td>\n",
       "      <td>NaN</td>\n",
       "      <td>David</td>\n",
       "      <td>2016</td>\n",
       "    </tr>\n",
       "    <tr>\n",
       "      <th>39</th>\n",
       "      <td>21</td>\n",
       "      <td>friedrichshain-kreuzberg</td>\n",
       "      <td>m</td>\n",
       "      <td>NaN</td>\n",
       "      <td>Friedrich</td>\n",
       "      <td>2016</td>\n",
       "    </tr>\n",
       "    <tr>\n",
       "      <th>40</th>\n",
       "      <td>21</td>\n",
       "      <td>friedrichshain-kreuzberg</td>\n",
       "      <td>m</td>\n",
       "      <td>NaN</td>\n",
       "      <td>Louis</td>\n",
       "      <td>2016</td>\n",
       "    </tr>\n",
       "    <tr>\n",
       "      <th>41</th>\n",
       "      <td>21</td>\n",
       "      <td>friedrichshain-kreuzberg</td>\n",
       "      <td>m</td>\n",
       "      <td>NaN</td>\n",
       "      <td>Lukas</td>\n",
       "      <td>2016</td>\n",
       "    </tr>\n",
       "    <tr>\n",
       "      <th>48</th>\n",
       "      <td>19</td>\n",
       "      <td>friedrichshain-kreuzberg</td>\n",
       "      <td>m</td>\n",
       "      <td>NaN</td>\n",
       "      <td>Liam</td>\n",
       "      <td>2016</td>\n",
       "    </tr>\n",
       "    <tr>\n",
       "      <th>49</th>\n",
       "      <td>19</td>\n",
       "      <td>friedrichshain-kreuzberg</td>\n",
       "      <td>m</td>\n",
       "      <td>NaN</td>\n",
       "      <td>Luca</td>\n",
       "      <td>2016</td>\n",
       "    </tr>\n",
       "    <tr>\n",
       "      <th>52</th>\n",
       "      <td>18</td>\n",
       "      <td>friedrichshain-kreuzberg</td>\n",
       "      <td>m</td>\n",
       "      <td>NaN</td>\n",
       "      <td>Carl</td>\n",
       "      <td>2016</td>\n",
       "    </tr>\n",
       "    <tr>\n",
       "      <th>53</th>\n",
       "      <td>18</td>\n",
       "      <td>friedrichshain-kreuzberg</td>\n",
       "      <td>m</td>\n",
       "      <td>NaN</td>\n",
       "      <td>Levi</td>\n",
       "      <td>2016</td>\n",
       "    </tr>\n",
       "    <tr>\n",
       "      <th>54</th>\n",
       "      <td>18</td>\n",
       "      <td>friedrichshain-kreuzberg</td>\n",
       "      <td>m</td>\n",
       "      <td>NaN</td>\n",
       "      <td>Michael</td>\n",
       "      <td>2016</td>\n",
       "    </tr>\n",
       "    <tr>\n",
       "      <th>...</th>\n",
       "      <td>...</td>\n",
       "      <td>...</td>\n",
       "      <td>...</td>\n",
       "      <td>...</td>\n",
       "      <td>...</td>\n",
       "      <td>...</td>\n",
       "    </tr>\n",
       "    <tr>\n",
       "      <th>1936</th>\n",
       "      <td>1</td>\n",
       "      <td>friedrichshain-kreuzberg</td>\n",
       "      <td>m</td>\n",
       "      <td>NaN</td>\n",
       "      <td>Glenn</td>\n",
       "      <td>2016</td>\n",
       "    </tr>\n",
       "    <tr>\n",
       "      <th>1934</th>\n",
       "      <td>1</td>\n",
       "      <td>friedrichshain-kreuzberg</td>\n",
       "      <td>m</td>\n",
       "      <td>NaN</td>\n",
       "      <td>Glen</td>\n",
       "      <td>2016</td>\n",
       "    </tr>\n",
       "    <tr>\n",
       "      <th>1932</th>\n",
       "      <td>1</td>\n",
       "      <td>friedrichshain-kreuzberg</td>\n",
       "      <td>m</td>\n",
       "      <td>NaN</td>\n",
       "      <td>Giuseppe</td>\n",
       "      <td>2016</td>\n",
       "    </tr>\n",
       "    <tr>\n",
       "      <th>1930</th>\n",
       "      <td>1</td>\n",
       "      <td>friedrichshain-kreuzberg</td>\n",
       "      <td>m</td>\n",
       "      <td>NaN</td>\n",
       "      <td>Giovanni</td>\n",
       "      <td>2016</td>\n",
       "    </tr>\n",
       "    <tr>\n",
       "      <th>1928</th>\n",
       "      <td>1</td>\n",
       "      <td>friedrichshain-kreuzberg</td>\n",
       "      <td>m</td>\n",
       "      <td>NaN</td>\n",
       "      <td>Giocondo</td>\n",
       "      <td>2016</td>\n",
       "    </tr>\n",
       "    <tr>\n",
       "      <th>1926</th>\n",
       "      <td>1</td>\n",
       "      <td>friedrichshain-kreuzberg</td>\n",
       "      <td>m</td>\n",
       "      <td>NaN</td>\n",
       "      <td>Gino</td>\n",
       "      <td>2016</td>\n",
       "    </tr>\n",
       "    <tr>\n",
       "      <th>1924</th>\n",
       "      <td>1</td>\n",
       "      <td>friedrichshain-kreuzberg</td>\n",
       "      <td>m</td>\n",
       "      <td>NaN</td>\n",
       "      <td>Gilbert</td>\n",
       "      <td>2016</td>\n",
       "    </tr>\n",
       "    <tr>\n",
       "      <th>1922</th>\n",
       "      <td>1</td>\n",
       "      <td>friedrichshain-kreuzberg</td>\n",
       "      <td>m</td>\n",
       "      <td>NaN</td>\n",
       "      <td>Gharbi</td>\n",
       "      <td>2016</td>\n",
       "    </tr>\n",
       "    <tr>\n",
       "      <th>1920</th>\n",
       "      <td>1</td>\n",
       "      <td>friedrichshain-kreuzberg</td>\n",
       "      <td>m</td>\n",
       "      <td>NaN</td>\n",
       "      <td>Gero</td>\n",
       "      <td>2016</td>\n",
       "    </tr>\n",
       "    <tr>\n",
       "      <th>1918</th>\n",
       "      <td>1</td>\n",
       "      <td>friedrichshain-kreuzberg</td>\n",
       "      <td>m</td>\n",
       "      <td>NaN</td>\n",
       "      <td>Georges</td>\n",
       "      <td>2016</td>\n",
       "    </tr>\n",
       "    <tr>\n",
       "      <th>1948</th>\n",
       "      <td>1</td>\n",
       "      <td>friedrichshain-kreuzberg</td>\n",
       "      <td>m</td>\n",
       "      <td>NaN</td>\n",
       "      <td>Günter</td>\n",
       "      <td>2016</td>\n",
       "    </tr>\n",
       "    <tr>\n",
       "      <th>1952</th>\n",
       "      <td>1</td>\n",
       "      <td>friedrichshain-kreuzberg</td>\n",
       "      <td>m</td>\n",
       "      <td>NaN</td>\n",
       "      <td>Güven</td>\n",
       "      <td>2016</td>\n",
       "    </tr>\n",
       "    <tr>\n",
       "      <th>1986</th>\n",
       "      <td>1</td>\n",
       "      <td>friedrichshain-kreuzberg</td>\n",
       "      <td>m</td>\n",
       "      <td>NaN</td>\n",
       "      <td>Haydar</td>\n",
       "      <td>2016</td>\n",
       "    </tr>\n",
       "    <tr>\n",
       "      <th>1954</th>\n",
       "      <td>1</td>\n",
       "      <td>friedrichshain-kreuzberg</td>\n",
       "      <td>m</td>\n",
       "      <td>NaN</td>\n",
       "      <td>Hadar</td>\n",
       "      <td>2016</td>\n",
       "    </tr>\n",
       "    <tr>\n",
       "      <th>1984</th>\n",
       "      <td>1</td>\n",
       "      <td>friedrichshain-kreuzberg</td>\n",
       "      <td>m</td>\n",
       "      <td>NaN</td>\n",
       "      <td>Hayato</td>\n",
       "      <td>2016</td>\n",
       "    </tr>\n",
       "    <tr>\n",
       "      <th>1982</th>\n",
       "      <td>1</td>\n",
       "      <td>friedrichshain-kreuzberg</td>\n",
       "      <td>m</td>\n",
       "      <td>NaN</td>\n",
       "      <td>Hauke</td>\n",
       "      <td>2016</td>\n",
       "    </tr>\n",
       "    <tr>\n",
       "      <th>1980</th>\n",
       "      <td>1</td>\n",
       "      <td>friedrichshain-kreuzberg</td>\n",
       "      <td>m</td>\n",
       "      <td>NaN</td>\n",
       "      <td>Harris</td>\n",
       "      <td>2016</td>\n",
       "    </tr>\n",
       "    <tr>\n",
       "      <th>1978</th>\n",
       "      <td>1</td>\n",
       "      <td>friedrichshain-kreuzberg</td>\n",
       "      <td>m</td>\n",
       "      <td>NaN</td>\n",
       "      <td>Harouna</td>\n",
       "      <td>2016</td>\n",
       "    </tr>\n",
       "    <tr>\n",
       "      <th>1976</th>\n",
       "      <td>1</td>\n",
       "      <td>friedrichshain-kreuzberg</td>\n",
       "      <td>m</td>\n",
       "      <td>NaN</td>\n",
       "      <td>Hannibal</td>\n",
       "      <td>2016</td>\n",
       "    </tr>\n",
       "    <tr>\n",
       "      <th>1974</th>\n",
       "      <td>1</td>\n",
       "      <td>friedrichshain-kreuzberg</td>\n",
       "      <td>m</td>\n",
       "      <td>NaN</td>\n",
       "      <td>Hanifi</td>\n",
       "      <td>2016</td>\n",
       "    </tr>\n",
       "    <tr>\n",
       "      <th>1972</th>\n",
       "      <td>1</td>\n",
       "      <td>friedrichshain-kreuzberg</td>\n",
       "      <td>m</td>\n",
       "      <td>NaN</td>\n",
       "      <td>Hanad</td>\n",
       "      <td>2016</td>\n",
       "    </tr>\n",
       "    <tr>\n",
       "      <th>1970</th>\n",
       "      <td>1</td>\n",
       "      <td>friedrichshain-kreuzberg</td>\n",
       "      <td>m</td>\n",
       "      <td>NaN</td>\n",
       "      <td>Hamza-Can</td>\n",
       "      <td>2016</td>\n",
       "    </tr>\n",
       "    <tr>\n",
       "      <th>1968</th>\n",
       "      <td>1</td>\n",
       "      <td>friedrichshain-kreuzberg</td>\n",
       "      <td>m</td>\n",
       "      <td>NaN</td>\n",
       "      <td>Hamsi</td>\n",
       "      <td>2016</td>\n",
       "    </tr>\n",
       "    <tr>\n",
       "      <th>1966</th>\n",
       "      <td>1</td>\n",
       "      <td>friedrichshain-kreuzberg</td>\n",
       "      <td>m</td>\n",
       "      <td>NaN</td>\n",
       "      <td>Hamallah</td>\n",
       "      <td>2016</td>\n",
       "    </tr>\n",
       "    <tr>\n",
       "      <th>1964</th>\n",
       "      <td>1</td>\n",
       "      <td>friedrichshain-kreuzberg</td>\n",
       "      <td>m</td>\n",
       "      <td>NaN</td>\n",
       "      <td>Hakî</td>\n",
       "      <td>2016</td>\n",
       "    </tr>\n",
       "    <tr>\n",
       "      <th>1962</th>\n",
       "      <td>1</td>\n",
       "      <td>friedrichshain-kreuzberg</td>\n",
       "      <td>m</td>\n",
       "      <td>NaN</td>\n",
       "      <td>Haika</td>\n",
       "      <td>2016</td>\n",
       "    </tr>\n",
       "    <tr>\n",
       "      <th>1960</th>\n",
       "      <td>1</td>\n",
       "      <td>friedrichshain-kreuzberg</td>\n",
       "      <td>m</td>\n",
       "      <td>NaN</td>\n",
       "      <td>Hagen</td>\n",
       "      <td>2016</td>\n",
       "    </tr>\n",
       "    <tr>\n",
       "      <th>1958</th>\n",
       "      <td>1</td>\n",
       "      <td>friedrichshain-kreuzberg</td>\n",
       "      <td>m</td>\n",
       "      <td>NaN</td>\n",
       "      <td>Hadi</td>\n",
       "      <td>2016</td>\n",
       "    </tr>\n",
       "    <tr>\n",
       "      <th>1956</th>\n",
       "      <td>1</td>\n",
       "      <td>friedrichshain-kreuzberg</td>\n",
       "      <td>m</td>\n",
       "      <td>NaN</td>\n",
       "      <td>Haddou</td>\n",
       "      <td>2016</td>\n",
       "    </tr>\n",
       "    <tr>\n",
       "      <th>3520</th>\n",
       "      <td>1</td>\n",
       "      <td>friedrichshain-kreuzberg</td>\n",
       "      <td>m</td>\n",
       "      <td>NaN</td>\n",
       "      <td>Şükrü</td>\n",
       "      <td>2016</td>\n",
       "    </tr>\n",
       "  </tbody>\n",
       "</table>\n",
       "<p>1807 rows × 6 columns</p>\n",
       "</div>"
      ],
      "text/plain": [
       "      anzahl                   borough geschlecht  position     vorname  year\n",
       "3         42  friedrichshain-kreuzberg          m       NaN       Anton  2016\n",
       "6         41  friedrichshain-kreuzberg          m       NaN        Emil  2016\n",
       "7         40  friedrichshain-kreuzberg          m       NaN         Ali  2016\n",
       "8         39  friedrichshain-kreuzberg          m       NaN   Alexander  2016\n",
       "10        37  friedrichshain-kreuzberg          m       NaN        Leon  2016\n",
       "12        35  friedrichshain-kreuzberg          m       NaN       Elias  2016\n",
       "13        33  friedrichshain-kreuzberg          m       NaN        Karl  2016\n",
       "14        33  friedrichshain-kreuzberg          m       NaN        Paul  2016\n",
       "15        31  friedrichshain-kreuzberg          m       NaN       Oskar  2016\n",
       "17        30  friedrichshain-kreuzberg          m       NaN       Felix  2016\n",
       "19        29  friedrichshain-kreuzberg          m       NaN        Noah  2016\n",
       "21        28  friedrichshain-kreuzberg          m       NaN       Henry  2016\n",
       "22        27  friedrichshain-kreuzberg          m       NaN       Jonas  2016\n",
       "24        26  friedrichshain-kreuzberg          m       NaN    Jonathan  2016\n",
       "25        26  friedrichshain-kreuzberg          m       NaN  Maximilian  2016\n",
       "29        24  friedrichshain-kreuzberg          m       NaN    Valentin  2016\n",
       "28        24  friedrichshain-kreuzberg          m       NaN       Jakob  2016\n",
       "32        23  friedrichshain-kreuzberg          m       NaN      Julius  2016\n",
       "34        22  friedrichshain-kreuzberg          m       NaN      Moritz  2016\n",
       "36        21  friedrichshain-kreuzberg          m       NaN        Adam  2016\n",
       "37        21  friedrichshain-kreuzberg          m       NaN         Ben  2016\n",
       "38        21  friedrichshain-kreuzberg          m       NaN       David  2016\n",
       "39        21  friedrichshain-kreuzberg          m       NaN   Friedrich  2016\n",
       "40        21  friedrichshain-kreuzberg          m       NaN       Louis  2016\n",
       "41        21  friedrichshain-kreuzberg          m       NaN       Lukas  2016\n",
       "48        19  friedrichshain-kreuzberg          m       NaN        Liam  2016\n",
       "49        19  friedrichshain-kreuzberg          m       NaN        Luca  2016\n",
       "52        18  friedrichshain-kreuzberg          m       NaN        Carl  2016\n",
       "53        18  friedrichshain-kreuzberg          m       NaN        Levi  2016\n",
       "54        18  friedrichshain-kreuzberg          m       NaN     Michael  2016\n",
       "...      ...                       ...        ...       ...         ...   ...\n",
       "1936       1  friedrichshain-kreuzberg          m       NaN       Glenn  2016\n",
       "1934       1  friedrichshain-kreuzberg          m       NaN        Glen  2016\n",
       "1932       1  friedrichshain-kreuzberg          m       NaN    Giuseppe  2016\n",
       "1930       1  friedrichshain-kreuzberg          m       NaN    Giovanni  2016\n",
       "1928       1  friedrichshain-kreuzberg          m       NaN    Giocondo  2016\n",
       "1926       1  friedrichshain-kreuzberg          m       NaN        Gino  2016\n",
       "1924       1  friedrichshain-kreuzberg          m       NaN     Gilbert  2016\n",
       "1922       1  friedrichshain-kreuzberg          m       NaN      Gharbi  2016\n",
       "1920       1  friedrichshain-kreuzberg          m       NaN        Gero  2016\n",
       "1918       1  friedrichshain-kreuzberg          m       NaN     Georges  2016\n",
       "1948       1  friedrichshain-kreuzberg          m       NaN      Günter  2016\n",
       "1952       1  friedrichshain-kreuzberg          m       NaN       Güven  2016\n",
       "1986       1  friedrichshain-kreuzberg          m       NaN      Haydar  2016\n",
       "1954       1  friedrichshain-kreuzberg          m       NaN       Hadar  2016\n",
       "1984       1  friedrichshain-kreuzberg          m       NaN      Hayato  2016\n",
       "1982       1  friedrichshain-kreuzberg          m       NaN       Hauke  2016\n",
       "1980       1  friedrichshain-kreuzberg          m       NaN      Harris  2016\n",
       "1978       1  friedrichshain-kreuzberg          m       NaN     Harouna  2016\n",
       "1976       1  friedrichshain-kreuzberg          m       NaN    Hannibal  2016\n",
       "1974       1  friedrichshain-kreuzberg          m       NaN      Hanifi  2016\n",
       "1972       1  friedrichshain-kreuzberg          m       NaN       Hanad  2016\n",
       "1970       1  friedrichshain-kreuzberg          m       NaN   Hamza-Can  2016\n",
       "1968       1  friedrichshain-kreuzberg          m       NaN       Hamsi  2016\n",
       "1966       1  friedrichshain-kreuzberg          m       NaN    Hamallah  2016\n",
       "1964       1  friedrichshain-kreuzberg          m       NaN        Hakî  2016\n",
       "1962       1  friedrichshain-kreuzberg          m       NaN       Haika  2016\n",
       "1960       1  friedrichshain-kreuzberg          m       NaN       Hagen  2016\n",
       "1958       1  friedrichshain-kreuzberg          m       NaN        Hadi  2016\n",
       "1956       1  friedrichshain-kreuzberg          m       NaN      Haddou  2016\n",
       "3520       1  friedrichshain-kreuzberg          m       NaN       Şükrü  2016\n",
       "\n",
       "[1807 rows x 6 columns]"
      ]
     },
     "execution_count": 66,
     "metadata": {},
     "output_type": "execute_result"
    }
   ],
   "source": [
    "# names for boys in friedrichshain in 2016 sorted by popularity\n",
    "all_names_df.loc[\n",
    "    (all_names_df['borough']==\"friedrichshain-kreuzberg\") \n",
    "    & (all_names_df['geschlecht']=='m') \n",
    "    & (all_names_df['year']==2016)].sort_values(by='anzahl', ascending=False)"
   ]
  },
  {
   "cell_type": "code",
   "execution_count": 70,
   "metadata": {
    "slideshow": {
     "slide_type": "slide"
    }
   },
   "outputs": [
    {
     "data": {
      "text/html": [
       "<div>\n",
       "<style scoped>\n",
       "    .dataframe tbody tr th:only-of-type {\n",
       "        vertical-align: middle;\n",
       "    }\n",
       "\n",
       "    .dataframe tbody tr th {\n",
       "        vertical-align: top;\n",
       "    }\n",
       "\n",
       "    .dataframe thead th {\n",
       "        text-align: right;\n",
       "    }\n",
       "</style>\n",
       "<table border=\"1\" class=\"dataframe\">\n",
       "  <thead>\n",
       "    <tr style=\"text-align: right;\">\n",
       "      <th></th>\n",
       "      <th>borough</th>\n",
       "      <th>year</th>\n",
       "      <th>anzahl</th>\n",
       "      <th>vorname</th>\n",
       "    </tr>\n",
       "  </thead>\n",
       "  <tbody>\n",
       "    <tr>\n",
       "      <th>0</th>\n",
       "      <td>charlottenburg-wilmersdorf</td>\n",
       "      <td>2013</td>\n",
       "      <td>121</td>\n",
       "      <td>Marie</td>\n",
       "    </tr>\n",
       "    <tr>\n",
       "      <th>1</th>\n",
       "      <td>charlottenburg-wilmersdorf</td>\n",
       "      <td>2014</td>\n",
       "      <td>118</td>\n",
       "      <td>Marie</td>\n",
       "    </tr>\n",
       "    <tr>\n",
       "      <th>2</th>\n",
       "      <td>charlottenburg-wilmersdorf</td>\n",
       "      <td>2015</td>\n",
       "      <td>115</td>\n",
       "      <td>Marie</td>\n",
       "    </tr>\n",
       "    <tr>\n",
       "      <th>3</th>\n",
       "      <td>charlottenburg-wilmersdorf</td>\n",
       "      <td>2016</td>\n",
       "      <td>111</td>\n",
       "      <td>Marie</td>\n",
       "    </tr>\n",
       "    <tr>\n",
       "      <th>4</th>\n",
       "      <td>charlottenburg-wilmersdorf</td>\n",
       "      <td>2017</td>\n",
       "      <td>72</td>\n",
       "      <td>Marie</td>\n",
       "    </tr>\n",
       "    <tr>\n",
       "      <th>5</th>\n",
       "      <td>friedrichshain-kreuzberg</td>\n",
       "      <td>2013</td>\n",
       "      <td>71</td>\n",
       "      <td>Marie</td>\n",
       "    </tr>\n",
       "    <tr>\n",
       "      <th>6</th>\n",
       "      <td>friedrichshain-kreuzberg</td>\n",
       "      <td>2014</td>\n",
       "      <td>70</td>\n",
       "      <td>Sophie</td>\n",
       "    </tr>\n",
       "    <tr>\n",
       "      <th>7</th>\n",
       "      <td>friedrichshain-kreuzberg</td>\n",
       "      <td>2015</td>\n",
       "      <td>65</td>\n",
       "      <td>Marie</td>\n",
       "    </tr>\n",
       "    <tr>\n",
       "      <th>8</th>\n",
       "      <td>friedrichshain-kreuzberg</td>\n",
       "      <td>2016</td>\n",
       "      <td>64</td>\n",
       "      <td>Charlotte</td>\n",
       "    </tr>\n",
       "    <tr>\n",
       "      <th>9</th>\n",
       "      <td>friedrichshain-kreuzberg</td>\n",
       "      <td>2017</td>\n",
       "      <td>47</td>\n",
       "      <td>Marie</td>\n",
       "    </tr>\n",
       "    <tr>\n",
       "      <th>10</th>\n",
       "      <td>lichtenberg</td>\n",
       "      <td>2013</td>\n",
       "      <td>66</td>\n",
       "      <td>Marie</td>\n",
       "    </tr>\n",
       "    <tr>\n",
       "      <th>11</th>\n",
       "      <td>lichtenberg</td>\n",
       "      <td>2014</td>\n",
       "      <td>69</td>\n",
       "      <td>Sophie</td>\n",
       "    </tr>\n",
       "    <tr>\n",
       "      <th>12</th>\n",
       "      <td>lichtenberg</td>\n",
       "      <td>2015</td>\n",
       "      <td>69</td>\n",
       "      <td>Marie</td>\n",
       "    </tr>\n",
       "    <tr>\n",
       "      <th>13</th>\n",
       "      <td>lichtenberg</td>\n",
       "      <td>2016</td>\n",
       "      <td>70</td>\n",
       "      <td>Sophie</td>\n",
       "    </tr>\n",
       "    <tr>\n",
       "      <th>14</th>\n",
       "      <td>lichtenberg</td>\n",
       "      <td>2017</td>\n",
       "      <td>35</td>\n",
       "      <td>Marie</td>\n",
       "    </tr>\n",
       "    <tr>\n",
       "      <th>15</th>\n",
       "      <td>marzahn-hellersdorf</td>\n",
       "      <td>2013</td>\n",
       "      <td>23</td>\n",
       "      <td>Sophie</td>\n",
       "    </tr>\n",
       "    <tr>\n",
       "      <th>16</th>\n",
       "      <td>marzahn-hellersdorf</td>\n",
       "      <td>2014</td>\n",
       "      <td>25</td>\n",
       "      <td>Marie</td>\n",
       "    </tr>\n",
       "    <tr>\n",
       "      <th>17</th>\n",
       "      <td>marzahn-hellersdorf</td>\n",
       "      <td>2015</td>\n",
       "      <td>30</td>\n",
       "      <td>Marie</td>\n",
       "    </tr>\n",
       "    <tr>\n",
       "      <th>18</th>\n",
       "      <td>marzahn-hellersdorf</td>\n",
       "      <td>2016</td>\n",
       "      <td>27</td>\n",
       "      <td>Marie</td>\n",
       "    </tr>\n",
       "    <tr>\n",
       "      <th>19</th>\n",
       "      <td>marzahn-hellersdorf</td>\n",
       "      <td>2017</td>\n",
       "      <td>18</td>\n",
       "      <td>Marie</td>\n",
       "    </tr>\n",
       "    <tr>\n",
       "      <th>20</th>\n",
       "      <td>mitte</td>\n",
       "      <td>2013</td>\n",
       "      <td>64</td>\n",
       "      <td>Marie</td>\n",
       "    </tr>\n",
       "    <tr>\n",
       "      <th>21</th>\n",
       "      <td>mitte</td>\n",
       "      <td>2014</td>\n",
       "      <td>73</td>\n",
       "      <td>Sophie</td>\n",
       "    </tr>\n",
       "    <tr>\n",
       "      <th>22</th>\n",
       "      <td>mitte</td>\n",
       "      <td>2015</td>\n",
       "      <td>80</td>\n",
       "      <td>Marie</td>\n",
       "    </tr>\n",
       "    <tr>\n",
       "      <th>23</th>\n",
       "      <td>mitte</td>\n",
       "      <td>2016</td>\n",
       "      <td>69</td>\n",
       "      <td>Sophie</td>\n",
       "    </tr>\n",
       "    <tr>\n",
       "      <th>24</th>\n",
       "      <td>mitte</td>\n",
       "      <td>2017</td>\n",
       "      <td>50</td>\n",
       "      <td>Marie</td>\n",
       "    </tr>\n",
       "    <tr>\n",
       "      <th>25</th>\n",
       "      <td>neukoelln</td>\n",
       "      <td>2013</td>\n",
       "      <td>59</td>\n",
       "      <td>Sophie</td>\n",
       "    </tr>\n",
       "    <tr>\n",
       "      <th>26</th>\n",
       "      <td>neukoelln</td>\n",
       "      <td>2014</td>\n",
       "      <td>54</td>\n",
       "      <td>Marie</td>\n",
       "    </tr>\n",
       "    <tr>\n",
       "      <th>27</th>\n",
       "      <td>neukoelln</td>\n",
       "      <td>2015</td>\n",
       "      <td>55</td>\n",
       "      <td>Ali</td>\n",
       "    </tr>\n",
       "    <tr>\n",
       "      <th>28</th>\n",
       "      <td>neukoelln</td>\n",
       "      <td>2016</td>\n",
       "      <td>57</td>\n",
       "      <td>Sophie</td>\n",
       "    </tr>\n",
       "    <tr>\n",
       "      <th>29</th>\n",
       "      <td>neukoelln</td>\n",
       "      <td>2017</td>\n",
       "      <td>32</td>\n",
       "      <td>Sophie</td>\n",
       "    </tr>\n",
       "    <tr>\n",
       "      <th>30</th>\n",
       "      <td>pankow</td>\n",
       "      <td>2013</td>\n",
       "      <td>119</td>\n",
       "      <td>Marie</td>\n",
       "    </tr>\n",
       "    <tr>\n",
       "      <th>31</th>\n",
       "      <td>pankow</td>\n",
       "      <td>2014</td>\n",
       "      <td>122</td>\n",
       "      <td>Marie</td>\n",
       "    </tr>\n",
       "    <tr>\n",
       "      <th>32</th>\n",
       "      <td>pankow</td>\n",
       "      <td>2015</td>\n",
       "      <td>128</td>\n",
       "      <td>Marie</td>\n",
       "    </tr>\n",
       "    <tr>\n",
       "      <th>33</th>\n",
       "      <td>pankow</td>\n",
       "      <td>2016</td>\n",
       "      <td>112</td>\n",
       "      <td>Marie</td>\n",
       "    </tr>\n",
       "    <tr>\n",
       "      <th>34</th>\n",
       "      <td>pankow</td>\n",
       "      <td>2017</td>\n",
       "      <td>76</td>\n",
       "      <td>Marie</td>\n",
       "    </tr>\n",
       "    <tr>\n",
       "      <th>35</th>\n",
       "      <td>reinickendorf</td>\n",
       "      <td>2013</td>\n",
       "      <td>33</td>\n",
       "      <td>Marie</td>\n",
       "    </tr>\n",
       "    <tr>\n",
       "      <th>36</th>\n",
       "      <td>reinickendorf</td>\n",
       "      <td>2014</td>\n",
       "      <td>22</td>\n",
       "      <td>Marie</td>\n",
       "    </tr>\n",
       "    <tr>\n",
       "      <th>37</th>\n",
       "      <td>reinickendorf</td>\n",
       "      <td>2015</td>\n",
       "      <td>24</td>\n",
       "      <td>Marie</td>\n",
       "    </tr>\n",
       "    <tr>\n",
       "      <th>38</th>\n",
       "      <td>reinickendorf</td>\n",
       "      <td>2016</td>\n",
       "      <td>26</td>\n",
       "      <td>Marie</td>\n",
       "    </tr>\n",
       "    <tr>\n",
       "      <th>39</th>\n",
       "      <td>reinickendorf</td>\n",
       "      <td>2017</td>\n",
       "      <td>13</td>\n",
       "      <td>Marie</td>\n",
       "    </tr>\n",
       "    <tr>\n",
       "      <th>40</th>\n",
       "      <td>spandau</td>\n",
       "      <td>2013</td>\n",
       "      <td>71</td>\n",
       "      <td>Marie</td>\n",
       "    </tr>\n",
       "    <tr>\n",
       "      <th>41</th>\n",
       "      <td>spandau</td>\n",
       "      <td>2014</td>\n",
       "      <td>75</td>\n",
       "      <td>Sophie</td>\n",
       "    </tr>\n",
       "    <tr>\n",
       "      <th>42</th>\n",
       "      <td>spandau</td>\n",
       "      <td>2015</td>\n",
       "      <td>74</td>\n",
       "      <td>Marie</td>\n",
       "    </tr>\n",
       "    <tr>\n",
       "      <th>43</th>\n",
       "      <td>spandau</td>\n",
       "      <td>2016</td>\n",
       "      <td>64</td>\n",
       "      <td>Sophie</td>\n",
       "    </tr>\n",
       "    <tr>\n",
       "      <th>44</th>\n",
       "      <td>spandau</td>\n",
       "      <td>2017</td>\n",
       "      <td>47</td>\n",
       "      <td>Marie</td>\n",
       "    </tr>\n",
       "    <tr>\n",
       "      <th>45</th>\n",
       "      <td>steglitz-zehlendorf</td>\n",
       "      <td>2013</td>\n",
       "      <td>23</td>\n",
       "      <td>Sophie</td>\n",
       "    </tr>\n",
       "    <tr>\n",
       "      <th>46</th>\n",
       "      <td>steglitz-zehlendorf</td>\n",
       "      <td>2014</td>\n",
       "      <td>27</td>\n",
       "      <td>Sophie</td>\n",
       "    </tr>\n",
       "    <tr>\n",
       "      <th>47</th>\n",
       "      <td>steglitz-zehlendorf</td>\n",
       "      <td>2015</td>\n",
       "      <td>27</td>\n",
       "      <td>Marie</td>\n",
       "    </tr>\n",
       "    <tr>\n",
       "      <th>48</th>\n",
       "      <td>steglitz-zehlendorf</td>\n",
       "      <td>2016</td>\n",
       "      <td>23</td>\n",
       "      <td>Marie</td>\n",
       "    </tr>\n",
       "    <tr>\n",
       "      <th>49</th>\n",
       "      <td>steglitz-zehlendorf</td>\n",
       "      <td>2017</td>\n",
       "      <td>17</td>\n",
       "      <td>Sophie</td>\n",
       "    </tr>\n",
       "    <tr>\n",
       "      <th>50</th>\n",
       "      <td>tempelhof-schoeneberg</td>\n",
       "      <td>2013</td>\n",
       "      <td>93</td>\n",
       "      <td>Sophie</td>\n",
       "    </tr>\n",
       "    <tr>\n",
       "      <th>51</th>\n",
       "      <td>tempelhof-schoeneberg</td>\n",
       "      <td>2014</td>\n",
       "      <td>114</td>\n",
       "      <td>Marie</td>\n",
       "    </tr>\n",
       "    <tr>\n",
       "      <th>52</th>\n",
       "      <td>tempelhof-schoeneberg</td>\n",
       "      <td>2015</td>\n",
       "      <td>103</td>\n",
       "      <td>Sophie</td>\n",
       "    </tr>\n",
       "    <tr>\n",
       "      <th>53</th>\n",
       "      <td>tempelhof-schoeneberg</td>\n",
       "      <td>2016</td>\n",
       "      <td>94</td>\n",
       "      <td>Marie</td>\n",
       "    </tr>\n",
       "    <tr>\n",
       "      <th>54</th>\n",
       "      <td>tempelhof-schoeneberg</td>\n",
       "      <td>2017</td>\n",
       "      <td>62</td>\n",
       "      <td>Sophie</td>\n",
       "    </tr>\n",
       "    <tr>\n",
       "      <th>55</th>\n",
       "      <td>treptow-koepenick</td>\n",
       "      <td>2013</td>\n",
       "      <td>27</td>\n",
       "      <td>Sophie</td>\n",
       "    </tr>\n",
       "    <tr>\n",
       "      <th>56</th>\n",
       "      <td>treptow-koepenick</td>\n",
       "      <td>2014</td>\n",
       "      <td>25</td>\n",
       "      <td>Sophie</td>\n",
       "    </tr>\n",
       "    <tr>\n",
       "      <th>57</th>\n",
       "      <td>treptow-koepenick</td>\n",
       "      <td>2015</td>\n",
       "      <td>25</td>\n",
       "      <td>Marie</td>\n",
       "    </tr>\n",
       "    <tr>\n",
       "      <th>58</th>\n",
       "      <td>treptow-koepenick</td>\n",
       "      <td>2016</td>\n",
       "      <td>21</td>\n",
       "      <td>Marie</td>\n",
       "    </tr>\n",
       "    <tr>\n",
       "      <th>59</th>\n",
       "      <td>treptow-koepenick</td>\n",
       "      <td>2017</td>\n",
       "      <td>18</td>\n",
       "      <td>Marie</td>\n",
       "    </tr>\n",
       "  </tbody>\n",
       "</table>\n",
       "</div>"
      ],
      "text/plain": [
       "                       borough  year  anzahl    vorname\n",
       "0   charlottenburg-wilmersdorf  2013     121      Marie\n",
       "1   charlottenburg-wilmersdorf  2014     118      Marie\n",
       "2   charlottenburg-wilmersdorf  2015     115      Marie\n",
       "3   charlottenburg-wilmersdorf  2016     111      Marie\n",
       "4   charlottenburg-wilmersdorf  2017      72      Marie\n",
       "5     friedrichshain-kreuzberg  2013      71      Marie\n",
       "6     friedrichshain-kreuzberg  2014      70     Sophie\n",
       "7     friedrichshain-kreuzberg  2015      65      Marie\n",
       "8     friedrichshain-kreuzberg  2016      64  Charlotte\n",
       "9     friedrichshain-kreuzberg  2017      47      Marie\n",
       "10                 lichtenberg  2013      66      Marie\n",
       "11                 lichtenberg  2014      69     Sophie\n",
       "12                 lichtenberg  2015      69      Marie\n",
       "13                 lichtenberg  2016      70     Sophie\n",
       "14                 lichtenberg  2017      35      Marie\n",
       "15         marzahn-hellersdorf  2013      23     Sophie\n",
       "16         marzahn-hellersdorf  2014      25      Marie\n",
       "17         marzahn-hellersdorf  2015      30      Marie\n",
       "18         marzahn-hellersdorf  2016      27      Marie\n",
       "19         marzahn-hellersdorf  2017      18      Marie\n",
       "20                       mitte  2013      64      Marie\n",
       "21                       mitte  2014      73     Sophie\n",
       "22                       mitte  2015      80      Marie\n",
       "23                       mitte  2016      69     Sophie\n",
       "24                       mitte  2017      50      Marie\n",
       "25                   neukoelln  2013      59     Sophie\n",
       "26                   neukoelln  2014      54      Marie\n",
       "27                   neukoelln  2015      55        Ali\n",
       "28                   neukoelln  2016      57     Sophie\n",
       "29                   neukoelln  2017      32     Sophie\n",
       "30                      pankow  2013     119      Marie\n",
       "31                      pankow  2014     122      Marie\n",
       "32                      pankow  2015     128      Marie\n",
       "33                      pankow  2016     112      Marie\n",
       "34                      pankow  2017      76      Marie\n",
       "35               reinickendorf  2013      33      Marie\n",
       "36               reinickendorf  2014      22      Marie\n",
       "37               reinickendorf  2015      24      Marie\n",
       "38               reinickendorf  2016      26      Marie\n",
       "39               reinickendorf  2017      13      Marie\n",
       "40                     spandau  2013      71      Marie\n",
       "41                     spandau  2014      75     Sophie\n",
       "42                     spandau  2015      74      Marie\n",
       "43                     spandau  2016      64     Sophie\n",
       "44                     spandau  2017      47      Marie\n",
       "45         steglitz-zehlendorf  2013      23     Sophie\n",
       "46         steglitz-zehlendorf  2014      27     Sophie\n",
       "47         steglitz-zehlendorf  2015      27      Marie\n",
       "48         steglitz-zehlendorf  2016      23      Marie\n",
       "49         steglitz-zehlendorf  2017      17     Sophie\n",
       "50       tempelhof-schoeneberg  2013      93     Sophie\n",
       "51       tempelhof-schoeneberg  2014     114      Marie\n",
       "52       tempelhof-schoeneberg  2015     103     Sophie\n",
       "53       tempelhof-schoeneberg  2016      94      Marie\n",
       "54       tempelhof-schoeneberg  2017      62     Sophie\n",
       "55           treptow-koepenick  2013      27     Sophie\n",
       "56           treptow-koepenick  2014      25     Sophie\n",
       "57           treptow-koepenick  2015      25      Marie\n",
       "58           treptow-koepenick  2016      21      Marie\n",
       "59           treptow-koepenick  2017      18      Marie"
      ]
     },
     "execution_count": 70,
     "metadata": {},
     "output_type": "execute_result"
    }
   ],
   "source": [
    "# most popular names per year and borough\n",
    "all_names_df.groupby(['borough','year'],as_index=False).\\\n",
    "    agg({\"anzahl\": \"max\",'vorname':'first'})"
   ]
  },
  {
   "cell_type": "code",
   "execution_count": 71,
   "metadata": {
    "slideshow": {
     "slide_type": "slide"
    }
   },
   "outputs": [
    {
     "data": {
      "text/html": [
       "<div>\n",
       "<style scoped>\n",
       "    .dataframe tbody tr th:only-of-type {\n",
       "        vertical-align: middle;\n",
       "    }\n",
       "\n",
       "    .dataframe tbody tr th {\n",
       "        vertical-align: top;\n",
       "    }\n",
       "\n",
       "    .dataframe thead th {\n",
       "        text-align: right;\n",
       "    }\n",
       "</style>\n",
       "<table border=\"1\" class=\"dataframe\">\n",
       "  <thead>\n",
       "    <tr style=\"text-align: right;\">\n",
       "      <th></th>\n",
       "      <th>borough</th>\n",
       "      <th>year</th>\n",
       "      <th>anzahl</th>\n",
       "      <th>vorname</th>\n",
       "    </tr>\n",
       "  </thead>\n",
       "  <tbody>\n",
       "    <tr>\n",
       "      <th>0</th>\n",
       "      <td>charlottenburg-wilmersdorf</td>\n",
       "      <td>2013</td>\n",
       "      <td>1</td>\n",
       "      <td>Đželila</td>\n",
       "    </tr>\n",
       "    <tr>\n",
       "      <th>1</th>\n",
       "      <td>charlottenburg-wilmersdorf</td>\n",
       "      <td>2014</td>\n",
       "      <td>1</td>\n",
       "      <td>Şerife</td>\n",
       "    </tr>\n",
       "    <tr>\n",
       "      <th>2</th>\n",
       "      <td>charlottenburg-wilmersdorf</td>\n",
       "      <td>2015</td>\n",
       "      <td>1</td>\n",
       "      <td>Şevket</td>\n",
       "    </tr>\n",
       "    <tr>\n",
       "      <th>3</th>\n",
       "      <td>charlottenburg-wilmersdorf</td>\n",
       "      <td>2016</td>\n",
       "      <td>1</td>\n",
       "      <td>Şirin</td>\n",
       "    </tr>\n",
       "    <tr>\n",
       "      <th>4</th>\n",
       "      <td>charlottenburg-wilmersdorf</td>\n",
       "      <td>2017</td>\n",
       "      <td>1</td>\n",
       "      <td>Şervan</td>\n",
       "    </tr>\n",
       "    <tr>\n",
       "      <th>5</th>\n",
       "      <td>friedrichshain-kreuzberg</td>\n",
       "      <td>2013</td>\n",
       "      <td>1</td>\n",
       "      <td>Şemsi</td>\n",
       "    </tr>\n",
       "    <tr>\n",
       "      <th>6</th>\n",
       "      <td>friedrichshain-kreuzberg</td>\n",
       "      <td>2014</td>\n",
       "      <td>1</td>\n",
       "      <td>Șura</td>\n",
       "    </tr>\n",
       "    <tr>\n",
       "      <th>7</th>\n",
       "      <td>friedrichshain-kreuzberg</td>\n",
       "      <td>2015</td>\n",
       "      <td>1</td>\n",
       "      <td>Šefik</td>\n",
       "    </tr>\n",
       "    <tr>\n",
       "      <th>8</th>\n",
       "      <td>friedrichshain-kreuzberg</td>\n",
       "      <td>2016</td>\n",
       "      <td>1</td>\n",
       "      <td>Şükrü</td>\n",
       "    </tr>\n",
       "    <tr>\n",
       "      <th>9</th>\n",
       "      <td>friedrichshain-kreuzberg</td>\n",
       "      <td>2017</td>\n",
       "      <td>1</td>\n",
       "      <td>Şiyar</td>\n",
       "    </tr>\n",
       "    <tr>\n",
       "      <th>10</th>\n",
       "      <td>lichtenberg</td>\n",
       "      <td>2013</td>\n",
       "      <td>1</td>\n",
       "      <td>Öne</td>\n",
       "    </tr>\n",
       "    <tr>\n",
       "      <th>11</th>\n",
       "      <td>lichtenberg</td>\n",
       "      <td>2014</td>\n",
       "      <td>1</td>\n",
       "      <td>Ziyu</td>\n",
       "    </tr>\n",
       "    <tr>\n",
       "      <th>12</th>\n",
       "      <td>lichtenberg</td>\n",
       "      <td>2015</td>\n",
       "      <td>1</td>\n",
       "      <td>Łukasz</td>\n",
       "    </tr>\n",
       "    <tr>\n",
       "      <th>13</th>\n",
       "      <td>lichtenberg</td>\n",
       "      <td>2016</td>\n",
       "      <td>1</td>\n",
       "      <td>Đình</td>\n",
       "    </tr>\n",
       "    <tr>\n",
       "      <th>14</th>\n",
       "      <td>lichtenberg</td>\n",
       "      <td>2017</td>\n",
       "      <td>1</td>\n",
       "      <td>Šimon</td>\n",
       "    </tr>\n",
       "    <tr>\n",
       "      <th>15</th>\n",
       "      <td>marzahn-hellersdorf</td>\n",
       "      <td>2013</td>\n",
       "      <td>1</td>\n",
       "      <td>Yusuf</td>\n",
       "    </tr>\n",
       "    <tr>\n",
       "      <th>16</th>\n",
       "      <td>marzahn-hellersdorf</td>\n",
       "      <td>2014</td>\n",
       "      <td>1</td>\n",
       "      <td>Zacharias</td>\n",
       "    </tr>\n",
       "    <tr>\n",
       "      <th>17</th>\n",
       "      <td>marzahn-hellersdorf</td>\n",
       "      <td>2015</td>\n",
       "      <td>1</td>\n",
       "      <td>Zvezdelina</td>\n",
       "    </tr>\n",
       "    <tr>\n",
       "      <th>18</th>\n",
       "      <td>marzahn-hellersdorf</td>\n",
       "      <td>2016</td>\n",
       "      <td>1</td>\n",
       "      <td>Đình</td>\n",
       "    </tr>\n",
       "    <tr>\n",
       "      <th>19</th>\n",
       "      <td>marzahn-hellersdorf</td>\n",
       "      <td>2017</td>\n",
       "      <td>1</td>\n",
       "      <td>Zeon</td>\n",
       "    </tr>\n",
       "    <tr>\n",
       "      <th>20</th>\n",
       "      <td>mitte</td>\n",
       "      <td>2013</td>\n",
       "      <td>1</td>\n",
       "      <td>Șerif</td>\n",
       "    </tr>\n",
       "    <tr>\n",
       "      <th>21</th>\n",
       "      <td>mitte</td>\n",
       "      <td>2014</td>\n",
       "      <td>1</td>\n",
       "      <td>Șirin</td>\n",
       "    </tr>\n",
       "    <tr>\n",
       "      <th>22</th>\n",
       "      <td>mitte</td>\n",
       "      <td>2015</td>\n",
       "      <td>1</td>\n",
       "      <td>Şhirin</td>\n",
       "    </tr>\n",
       "    <tr>\n",
       "      <th>23</th>\n",
       "      <td>mitte</td>\n",
       "      <td>2016</td>\n",
       "      <td>1</td>\n",
       "      <td>Şilan</td>\n",
       "    </tr>\n",
       "    <tr>\n",
       "      <th>24</th>\n",
       "      <td>mitte</td>\n",
       "      <td>2017</td>\n",
       "      <td>1</td>\n",
       "      <td>Štefanija</td>\n",
       "    </tr>\n",
       "    <tr>\n",
       "      <th>25</th>\n",
       "      <td>neukoelln</td>\n",
       "      <td>2013</td>\n",
       "      <td>1</td>\n",
       "      <td>Şirin</td>\n",
       "    </tr>\n",
       "    <tr>\n",
       "      <th>26</th>\n",
       "      <td>neukoelln</td>\n",
       "      <td>2014</td>\n",
       "      <td>1</td>\n",
       "      <td>Šefika</td>\n",
       "    </tr>\n",
       "    <tr>\n",
       "      <th>27</th>\n",
       "      <td>neukoelln</td>\n",
       "      <td>2015</td>\n",
       "      <td>1</td>\n",
       "      <td>Živomir</td>\n",
       "    </tr>\n",
       "    <tr>\n",
       "      <th>28</th>\n",
       "      <td>neukoelln</td>\n",
       "      <td>2016</td>\n",
       "      <td>1</td>\n",
       "      <td>Ștefania</td>\n",
       "    </tr>\n",
       "    <tr>\n",
       "      <th>29</th>\n",
       "      <td>neukoelln</td>\n",
       "      <td>2017</td>\n",
       "      <td>1</td>\n",
       "      <td>Özgür</td>\n",
       "    </tr>\n",
       "    <tr>\n",
       "      <th>30</th>\n",
       "      <td>pankow</td>\n",
       "      <td>2013</td>\n",
       "      <td>1</td>\n",
       "      <td>Đức</td>\n",
       "    </tr>\n",
       "    <tr>\n",
       "      <th>31</th>\n",
       "      <td>pankow</td>\n",
       "      <td>2014</td>\n",
       "      <td>1</td>\n",
       "      <td>Éloise</td>\n",
       "    </tr>\n",
       "    <tr>\n",
       "      <th>32</th>\n",
       "      <td>pankow</td>\n",
       "      <td>2015</td>\n",
       "      <td>1</td>\n",
       "      <td>Évangéline</td>\n",
       "    </tr>\n",
       "    <tr>\n",
       "      <th>33</th>\n",
       "      <td>pankow</td>\n",
       "      <td>2016</td>\n",
       "      <td>1</td>\n",
       "      <td>Émie</td>\n",
       "    </tr>\n",
       "    <tr>\n",
       "      <th>34</th>\n",
       "      <td>pankow</td>\n",
       "      <td>2017</td>\n",
       "      <td>1</td>\n",
       "      <td>Łukasz</td>\n",
       "    </tr>\n",
       "    <tr>\n",
       "      <th>35</th>\n",
       "      <td>reinickendorf</td>\n",
       "      <td>2013</td>\n",
       "      <td>1</td>\n",
       "      <td>Željko</td>\n",
       "    </tr>\n",
       "    <tr>\n",
       "      <th>36</th>\n",
       "      <td>reinickendorf</td>\n",
       "      <td>2014</td>\n",
       "      <td>1</td>\n",
       "      <td>Şahin</td>\n",
       "    </tr>\n",
       "    <tr>\n",
       "      <th>37</th>\n",
       "      <td>reinickendorf</td>\n",
       "      <td>2015</td>\n",
       "      <td>1</td>\n",
       "      <td>Łukasz</td>\n",
       "    </tr>\n",
       "    <tr>\n",
       "      <th>38</th>\n",
       "      <td>reinickendorf</td>\n",
       "      <td>2016</td>\n",
       "      <td>1</td>\n",
       "      <td>Çağan</td>\n",
       "    </tr>\n",
       "    <tr>\n",
       "      <th>39</th>\n",
       "      <td>reinickendorf</td>\n",
       "      <td>2017</td>\n",
       "      <td>1</td>\n",
       "      <td>Zoè</td>\n",
       "    </tr>\n",
       "    <tr>\n",
       "      <th>40</th>\n",
       "      <td>spandau</td>\n",
       "      <td>2013</td>\n",
       "      <td>1</td>\n",
       "      <td>Šeripovna</td>\n",
       "    </tr>\n",
       "    <tr>\n",
       "      <th>41</th>\n",
       "      <td>spandau</td>\n",
       "      <td>2014</td>\n",
       "      <td>1</td>\n",
       "      <td>Şura</td>\n",
       "    </tr>\n",
       "    <tr>\n",
       "      <th>42</th>\n",
       "      <td>spandau</td>\n",
       "      <td>2015</td>\n",
       "      <td>1</td>\n",
       "      <td>Şevki</td>\n",
       "    </tr>\n",
       "    <tr>\n",
       "      <th>43</th>\n",
       "      <td>spandau</td>\n",
       "      <td>2016</td>\n",
       "      <td>1</td>\n",
       "      <td>Šehida</td>\n",
       "    </tr>\n",
       "    <tr>\n",
       "      <th>44</th>\n",
       "      <td>spandau</td>\n",
       "      <td>2017</td>\n",
       "      <td>1</td>\n",
       "      <td>Şura</td>\n",
       "    </tr>\n",
       "    <tr>\n",
       "      <th>45</th>\n",
       "      <td>steglitz-zehlendorf</td>\n",
       "      <td>2013</td>\n",
       "      <td>1</td>\n",
       "      <td>Zimin</td>\n",
       "    </tr>\n",
       "    <tr>\n",
       "      <th>46</th>\n",
       "      <td>steglitz-zehlendorf</td>\n",
       "      <td>2014</td>\n",
       "      <td>1</td>\n",
       "      <td>Zuri</td>\n",
       "    </tr>\n",
       "    <tr>\n",
       "      <th>47</th>\n",
       "      <td>steglitz-zehlendorf</td>\n",
       "      <td>2015</td>\n",
       "      <td>1</td>\n",
       "      <td>Zephyr</td>\n",
       "    </tr>\n",
       "    <tr>\n",
       "      <th>48</th>\n",
       "      <td>steglitz-zehlendorf</td>\n",
       "      <td>2016</td>\n",
       "      <td>1</td>\n",
       "      <td>Đưć</td>\n",
       "    </tr>\n",
       "    <tr>\n",
       "      <th>49</th>\n",
       "      <td>steglitz-zehlendorf</td>\n",
       "      <td>2017</td>\n",
       "      <td>1</td>\n",
       "      <td>Ömer</td>\n",
       "    </tr>\n",
       "    <tr>\n",
       "      <th>50</th>\n",
       "      <td>tempelhof-schoeneberg</td>\n",
       "      <td>2013</td>\n",
       "      <td>1</td>\n",
       "      <td>Łucja</td>\n",
       "    </tr>\n",
       "    <tr>\n",
       "      <th>51</th>\n",
       "      <td>tempelhof-schoeneberg</td>\n",
       "      <td>2014</td>\n",
       "      <td>1</td>\n",
       "      <td>Şura</td>\n",
       "    </tr>\n",
       "    <tr>\n",
       "      <th>52</th>\n",
       "      <td>tempelhof-schoeneberg</td>\n",
       "      <td>2015</td>\n",
       "      <td>1</td>\n",
       "      <td>Şafak</td>\n",
       "    </tr>\n",
       "    <tr>\n",
       "      <th>53</th>\n",
       "      <td>tempelhof-schoeneberg</td>\n",
       "      <td>2016</td>\n",
       "      <td>1</td>\n",
       "      <td>Şirin</td>\n",
       "    </tr>\n",
       "    <tr>\n",
       "      <th>54</th>\n",
       "      <td>tempelhof-schoeneberg</td>\n",
       "      <td>2017</td>\n",
       "      <td>1</td>\n",
       "      <td>Şükrü</td>\n",
       "    </tr>\n",
       "    <tr>\n",
       "      <th>55</th>\n",
       "      <td>treptow-koepenick</td>\n",
       "      <td>2013</td>\n",
       "      <td>1</td>\n",
       "      <td>Yusup</td>\n",
       "    </tr>\n",
       "    <tr>\n",
       "      <th>56</th>\n",
       "      <td>treptow-koepenick</td>\n",
       "      <td>2014</td>\n",
       "      <td>1</td>\n",
       "      <td>Łucja</td>\n",
       "    </tr>\n",
       "    <tr>\n",
       "      <th>57</th>\n",
       "      <td>treptow-koepenick</td>\n",
       "      <td>2015</td>\n",
       "      <td>1</td>\n",
       "      <td>Yorin</td>\n",
       "    </tr>\n",
       "    <tr>\n",
       "      <th>58</th>\n",
       "      <td>treptow-koepenick</td>\n",
       "      <td>2016</td>\n",
       "      <td>1</td>\n",
       "      <td>Đa</td>\n",
       "    </tr>\n",
       "    <tr>\n",
       "      <th>59</th>\n",
       "      <td>treptow-koepenick</td>\n",
       "      <td>2017</td>\n",
       "      <td>1</td>\n",
       "      <td>Şifa</td>\n",
       "    </tr>\n",
       "  </tbody>\n",
       "</table>\n",
       "</div>"
      ],
      "text/plain": [
       "                       borough  year  anzahl     vorname\n",
       "0   charlottenburg-wilmersdorf  2013       1     Đželila\n",
       "1   charlottenburg-wilmersdorf  2014       1      Şerife\n",
       "2   charlottenburg-wilmersdorf  2015       1      Şevket\n",
       "3   charlottenburg-wilmersdorf  2016       1       Şirin\n",
       "4   charlottenburg-wilmersdorf  2017       1      Şervan\n",
       "5     friedrichshain-kreuzberg  2013       1       Şemsi\n",
       "6     friedrichshain-kreuzberg  2014       1        Șura\n",
       "7     friedrichshain-kreuzberg  2015       1       Šefik\n",
       "8     friedrichshain-kreuzberg  2016       1       Şükrü\n",
       "9     friedrichshain-kreuzberg  2017       1       Şiyar\n",
       "10                 lichtenberg  2013       1         Öne\n",
       "11                 lichtenberg  2014       1        Ziyu\n",
       "12                 lichtenberg  2015       1      Łukasz\n",
       "13                 lichtenberg  2016       1        Đình\n",
       "14                 lichtenberg  2017       1       Šimon\n",
       "15         marzahn-hellersdorf  2013       1       Yusuf\n",
       "16         marzahn-hellersdorf  2014       1   Zacharias\n",
       "17         marzahn-hellersdorf  2015       1  Zvezdelina\n",
       "18         marzahn-hellersdorf  2016       1        Đình\n",
       "19         marzahn-hellersdorf  2017       1        Zeon\n",
       "20                       mitte  2013       1       Șerif\n",
       "21                       mitte  2014       1       Șirin\n",
       "22                       mitte  2015       1      Şhirin\n",
       "23                       mitte  2016       1       Şilan\n",
       "24                       mitte  2017       1   Štefanija\n",
       "25                   neukoelln  2013       1       Şirin\n",
       "26                   neukoelln  2014       1      Šefika\n",
       "27                   neukoelln  2015       1     Živomir\n",
       "28                   neukoelln  2016       1    Ștefania\n",
       "29                   neukoelln  2017       1       Özgür\n",
       "30                      pankow  2013       1         Đức\n",
       "31                      pankow  2014       1      Éloise\n",
       "32                      pankow  2015       1  Évangéline\n",
       "33                      pankow  2016       1        Émie\n",
       "34                      pankow  2017       1      Łukasz\n",
       "35               reinickendorf  2013       1      Željko\n",
       "36               reinickendorf  2014       1       Şahin\n",
       "37               reinickendorf  2015       1      Łukasz\n",
       "38               reinickendorf  2016       1       Çağan\n",
       "39               reinickendorf  2017       1         Zoè\n",
       "40                     spandau  2013       1   Šeripovna\n",
       "41                     spandau  2014       1        Şura\n",
       "42                     spandau  2015       1       Şevki\n",
       "43                     spandau  2016       1      Šehida\n",
       "44                     spandau  2017       1        Şura\n",
       "45         steglitz-zehlendorf  2013       1       Zimin\n",
       "46         steglitz-zehlendorf  2014       1        Zuri\n",
       "47         steglitz-zehlendorf  2015       1      Zephyr\n",
       "48         steglitz-zehlendorf  2016       1         Đưć\n",
       "49         steglitz-zehlendorf  2017       1        Ömer\n",
       "50       tempelhof-schoeneberg  2013       1       Łucja\n",
       "51       tempelhof-schoeneberg  2014       1        Şura\n",
       "52       tempelhof-schoeneberg  2015       1       Şafak\n",
       "53       tempelhof-schoeneberg  2016       1       Şirin\n",
       "54       tempelhof-schoeneberg  2017       1       Şükrü\n",
       "55           treptow-koepenick  2013       1       Yusup\n",
       "56           treptow-koepenick  2014       1       Łucja\n",
       "57           treptow-koepenick  2015       1       Yorin\n",
       "58           treptow-koepenick  2016       1          Đa\n",
       "59           treptow-koepenick  2017       1        Şifa"
      ]
     },
     "execution_count": 71,
     "metadata": {},
     "output_type": "execute_result"
    }
   ],
   "source": [
    "# least popular names per year and borough\n",
    "all_names_df.groupby(['borough','year'],as_index=False).\\\n",
    "    agg({\"anzahl\": \"min\",'vorname':'last'})"
   ]
  },
  {
   "cell_type": "markdown",
   "metadata": {
    "slideshow": {
     "slide_type": "slide"
    }
   },
   "source": [
    "# Exercises \n",
    "\n",
    "We will use pandas to get some insights into what the Berlin Senat spends money on"
   ]
  },
  {
   "cell_type": "code",
   "execution_count": 122,
   "metadata": {
    "slideshow": {
     "slide_type": "fragment"
    }
   },
   "outputs": [
    {
     "data": {
      "text/html": [
       "<div>\n",
       "<style scoped>\n",
       "    .dataframe tbody tr th:only-of-type {\n",
       "        vertical-align: middle;\n",
       "    }\n",
       "\n",
       "    .dataframe tbody tr th {\n",
       "        vertical-align: top;\n",
       "    }\n",
       "\n",
       "    .dataframe thead th {\n",
       "        text-align: right;\n",
       "    }\n",
       "</style>\n",
       "<table border=\"1\" class=\"dataframe\">\n",
       "  <thead>\n",
       "    <tr style=\"text-align: right;\">\n",
       "      <th></th>\n",
       "      <th>Name</th>\n",
       "      <th>Geber</th>\n",
       "      <th>Art</th>\n",
       "      <th>Jahr</th>\n",
       "      <th>Anschrift</th>\n",
       "      <th>Politikbereich</th>\n",
       "      <th>Zweck</th>\n",
       "      <th>Betrag</th>\n",
       "    </tr>\n",
       "  </thead>\n",
       "  <tbody>\n",
       "    <tr>\n",
       "      <th>4885</th>\n",
       "      <td>Modul e. V., Förderverein Modernes Lehren und ...</td>\n",
       "      <td>Senatsverwaltung für Arbeit, Integration und F...</td>\n",
       "      <td>Projektförderung</td>\n",
       "      <td>2012</td>\n",
       "      <td>Grüntaler Straße 62, 13359 Berlin</td>\n",
       "      <td>Arbeit</td>\n",
       "      <td>BVBO / Rheingau-Gymnasium / Jahrgangsstufe Kl....</td>\n",
       "      <td>4139</td>\n",
       "    </tr>\n",
       "    <tr>\n",
       "      <th>16451</th>\n",
       "      <td>Alevitische Gemeinde zu Berlin e. V.</td>\n",
       "      <td>Senatsverwaltung für Arbeit, Integration und F...</td>\n",
       "      <td>Projektförderung</td>\n",
       "      <td>2014</td>\n",
       "      <td>Waldemarstraße 20, 10999 Berlin</td>\n",
       "      <td>Arbeit</td>\n",
       "      <td>FAV - Interkulturelle Helfer für Flüchtlinge, ...</td>\n",
       "      <td>7259</td>\n",
       "    </tr>\n",
       "    <tr>\n",
       "      <th>15497</th>\n",
       "      <td>Verein für ambulante Versorgung Hohenschönhaus...</td>\n",
       "      <td>Senatsverwaltung für Arbeit, Integration und F...</td>\n",
       "      <td>Projektförderung</td>\n",
       "      <td>2013</td>\n",
       "      <td>Ribnitzer Straße 1 B, 13051 Berlin</td>\n",
       "      <td>Arbeit</td>\n",
       "      <td>Unterstützung der Stadtteilarbeit des Vereins ...</td>\n",
       "      <td>45072</td>\n",
       "    </tr>\n",
       "    <tr>\n",
       "      <th>17859</th>\n",
       "      <td>BVG</td>\n",
       "      <td>Senatsverwaltung für Stadtentwicklung und Umwelt</td>\n",
       "      <td>Projektförderung</td>\n",
       "      <td>2014</td>\n",
       "      <td>Holzmarktstraße 15 - 17, 10179 Berlin</td>\n",
       "      <td>Verkehr</td>\n",
       "      <td>U5; PB I; Projektlos 3.0, Rohbau sdl. Bundestag</td>\n",
       "      <td>6237250</td>\n",
       "    </tr>\n",
       "    <tr>\n",
       "      <th>16441</th>\n",
       "      <td>Albatros-Lebensnetz gGmbH</td>\n",
       "      <td>Senatsverwaltung für Gesundheit und Soziales</td>\n",
       "      <td>Projektförderung</td>\n",
       "      <td>2014</td>\n",
       "      <td>Berliner Straße 14, 13507 Berlin</td>\n",
       "      <td>Gesundheit</td>\n",
       "      <td>Albatros- Lebensnetz gGmbH Schwangerschafts-un...</td>\n",
       "      <td>251727</td>\n",
       "    </tr>\n",
       "    <tr>\n",
       "      <th>39643</th>\n",
       "      <td>Tauwetter - vereint gegen sexualisierte Gewalt...</td>\n",
       "      <td>Senatsverwaltung für Gesundheit und Soziales</td>\n",
       "      <td>Projektförderung</td>\n",
       "      <td>2016</td>\n",
       "      <td>Gneisenaustraße 2a, 10961 Berlin</td>\n",
       "      <td>Gesundheit</td>\n",
       "      <td>Tauwetter, Informations- und Beratungsstelle f...</td>\n",
       "      <td>142532</td>\n",
       "    </tr>\n",
       "    <tr>\n",
       "      <th>17573</th>\n",
       "      <td>Bouledozer e. V.</td>\n",
       "      <td>Senatsverwaltung für Inneres und Sport</td>\n",
       "      <td>Projektförderung</td>\n",
       "      <td>2014</td>\n",
       "      <td>Kruppstraße 5, 10557 Berlin</td>\n",
       "      <td>Sport</td>\n",
       "      <td>Teilhabeprogramm\"Boule ist Cool\"</td>\n",
       "      <td>16000</td>\n",
       "    </tr>\n",
       "    <tr>\n",
       "      <th>31121</th>\n",
       "      <td>Stiftung Synanon</td>\n",
       "      <td>Senatsverwaltung für Gesundheit und Soziales</td>\n",
       "      <td>Projektförderung</td>\n",
       "      <td>2015</td>\n",
       "      <td>Dorfstraße 9, 13051 Berlin</td>\n",
       "      <td>Gesundheit</td>\n",
       "      <td>Suchtselbsthilfe Synanon - Sicherung der Aufna...</td>\n",
       "      <td>290048</td>\n",
       "    </tr>\n",
       "    <tr>\n",
       "      <th>1536</th>\n",
       "      <td>BTB Bildungszentrum GmbH</td>\n",
       "      <td>Senatsverwaltung für Arbeit, Integration und F...</td>\n",
       "      <td>Projektförderung</td>\n",
       "      <td>2012</td>\n",
       "      <td>Straßburger Straße 6 - 9, 10405 Berlin</td>\n",
       "      <td>Arbeit</td>\n",
       "      <td>Modulare Qualifizierung \"Lager &amp; Logistik 1-12\"</td>\n",
       "      <td>3110</td>\n",
       "    </tr>\n",
       "    <tr>\n",
       "      <th>27400</th>\n",
       "      <td>Frauenzentrum Schokoladenfabrik e. V.</td>\n",
       "      <td>Senatsverwaltung für Arbeit, Integration und F...</td>\n",
       "      <td>Projektförderung</td>\n",
       "      <td>2015</td>\n",
       "      <td>Naunynstraße 72, 10997 Berlin</td>\n",
       "      <td>Frauen</td>\n",
       "      <td>Förderung der Gleichstellung von Frauen und Mä...</td>\n",
       "      <td>175808</td>\n",
       "    </tr>\n",
       "  </tbody>\n",
       "</table>\n",
       "</div>"
      ],
      "text/plain": [
       "                                                    Name  \\\n",
       "4885   Modul e. V., Förderverein Modernes Lehren und ...   \n",
       "16451               Alevitische Gemeinde zu Berlin e. V.   \n",
       "15497  Verein für ambulante Versorgung Hohenschönhaus...   \n",
       "17859                                                BVG   \n",
       "16441                          Albatros-Lebensnetz gGmbH   \n",
       "39643  Tauwetter - vereint gegen sexualisierte Gewalt...   \n",
       "17573                                   Bouledozer e. V.   \n",
       "31121                                   Stiftung Synanon   \n",
       "1536                            BTB Bildungszentrum GmbH   \n",
       "27400              Frauenzentrum Schokoladenfabrik e. V.   \n",
       "\n",
       "                                                   Geber               Art  \\\n",
       "4885   Senatsverwaltung für Arbeit, Integration und F...  Projektförderung   \n",
       "16451  Senatsverwaltung für Arbeit, Integration und F...  Projektförderung   \n",
       "15497  Senatsverwaltung für Arbeit, Integration und F...  Projektförderung   \n",
       "17859   Senatsverwaltung für Stadtentwicklung und Umwelt  Projektförderung   \n",
       "16441       Senatsverwaltung für Gesundheit und Soziales  Projektförderung   \n",
       "39643       Senatsverwaltung für Gesundheit und Soziales  Projektförderung   \n",
       "17573             Senatsverwaltung für Inneres und Sport  Projektförderung   \n",
       "31121       Senatsverwaltung für Gesundheit und Soziales  Projektförderung   \n",
       "1536   Senatsverwaltung für Arbeit, Integration und F...  Projektförderung   \n",
       "27400  Senatsverwaltung für Arbeit, Integration und F...  Projektförderung   \n",
       "\n",
       "       Jahr                               Anschrift Politikbereich  \\\n",
       "4885   2012       Grüntaler Straße 62, 13359 Berlin         Arbeit   \n",
       "16451  2014         Waldemarstraße 20, 10999 Berlin         Arbeit   \n",
       "15497  2013      Ribnitzer Straße 1 B, 13051 Berlin         Arbeit   \n",
       "17859  2014   Holzmarktstraße 15 - 17, 10179 Berlin        Verkehr   \n",
       "16441  2014        Berliner Straße 14, 13507 Berlin     Gesundheit   \n",
       "39643  2016        Gneisenaustraße 2a, 10961 Berlin     Gesundheit   \n",
       "17573  2014             Kruppstraße 5, 10557 Berlin          Sport   \n",
       "31121  2015              Dorfstraße 9, 13051 Berlin     Gesundheit   \n",
       "1536   2012  Straßburger Straße 6 - 9, 10405 Berlin         Arbeit   \n",
       "27400  2015           Naunynstraße 72, 10997 Berlin         Frauen   \n",
       "\n",
       "                                                   Zweck   Betrag  \n",
       "4885   BVBO / Rheingau-Gymnasium / Jahrgangsstufe Kl....     4139  \n",
       "16451  FAV - Interkulturelle Helfer für Flüchtlinge, ...     7259  \n",
       "15497  Unterstützung der Stadtteilarbeit des Vereins ...    45072  \n",
       "17859    U5; PB I; Projektlos 3.0, Rohbau sdl. Bundestag  6237250  \n",
       "16441  Albatros- Lebensnetz gGmbH Schwangerschafts-un...   251727  \n",
       "39643  Tauwetter, Informations- und Beratungsstelle f...   142532  \n",
       "17573                   Teilhabeprogramm\"Boule ist Cool\"    16000  \n",
       "31121  Suchtselbsthilfe Synanon - Sicherung der Aufna...   290048  \n",
       "1536     Modulare Qualifizierung \"Lager & Logistik 1-12\"     3110  \n",
       "27400  Förderung der Gleichstellung von Frauen und Mä...   175808  "
      ]
     },
     "execution_count": 122,
     "metadata": {},
     "output_type": "execute_result"
    }
   ],
   "source": [
    "df_ausgaben_berlin = pd.read_csv(\"data/zuwendungen-berlin.csv.gz\")\n",
    "df_ausgaben_berlin.sample(n=10)"
   ]
  },
  {
   "cell_type": "markdown",
   "metadata": {
    "slideshow": {
     "slide_type": "slide"
    }
   },
   "source": [
    "## Assignment 01\n",
    "\n",
    "**Extract some summary statistics of the money spent by the Senat of Berlin**\n",
    "\n",
    "Write a function ``assignment_04_01`` that takes the data frame of spendings and returns\n",
    "\n",
    "- the count\n",
    " - the mean\n",
    " - the standard deviation\n",
    " - the minimum\n",
    " - the 25% percentile\n",
    " - the 50% percentile (median)\n",
    " - the 75% percentile\n",
    " - the maximum\n",
    " \n",
    "of all spendings in a list. The data is in the subdirectory ``data`` and can be loaded by ``df = pd.read_csv(\"data/zuwendungen-berlin.csv.gz\")``. For convenient compuation of the summary statistics check the pandas Series API for ``describe()``\n",
    "\n",
    "```python\n",
    "\n",
    "def assignment_04_01(df):\n",
    "    spending_statistics = df. ...\n",
    "    ...\n",
    "    return spending_statistics\n",
    "\n",
    "```\n"
   ]
  },
  {
   "cell_type": "markdown",
   "metadata": {
    "slideshow": {
     "slide_type": "slide"
    }
   },
   "source": [
    "## Assignment 02\n",
    "\n",
    "**How much is each recipient of a spending receiving in total?**\n",
    "\n",
    "Write a function ``assignment_04_02`` that takes the data frame of spendings and groups by recipient (column ``'Name'``) and then sums all money received for each recipient. Return the names of the recipients that received in total 143 Euros. \n",
    "\n",
    "```python\n",
    "\n",
    "def assignment_04_01(df):\n",
    "    money_received = df.groupby(['Name']). ...\n",
    "    ...\n",
    "    return names_of_recipients\n",
    "\n",
    "```\n"
   ]
  },
  {
   "cell_type": "markdown",
   "metadata": {
    "slideshow": {
     "slide_type": "slide"
    }
   },
   "source": [
    "## Assignment 03\n",
    "\n",
    "**How much is Berlin spending on each political ressort?**\n",
    "\n",
    "Write a function ``assignment_04_03`` that takes the data frame of spendings (spending is the column 'Betrag'), groups by political ressort (in german 'Politikbereich') and computes the \n",
    "\n",
    " - minimum\n",
    " - median\n",
    " - maximum\n",
    "\n",
    "of the spendings on each political ressort. Return the aggregates in the political ressort ('Politikbereich') 'sciences' ('Wissenschaft')\n",
    "\n",
    "```python\n",
    "\n",
    "def assignment_04_03(df):\n",
    "    spending_per_ressort = df.groupby(['Politikbereich']). ...\n",
    "    ...\n",
    "    return \n",
    "\n",
    "```\n"
   ]
  },
  {
   "cell_type": "markdown",
   "metadata": {
    "slideshow": {
     "slide_type": "slide"
    }
   },
   "source": [
    "## Assignment 04\n",
    "\n",
    "**How much is Berlin spending on each U-Bahn?**\n",
    "\n",
    "Write a function ``assignment_04_04`` that takes the data frame of spendings, filters for transportation (german 'Verkehr'), groups by the specific ubahn and sums up the spendings. For the ubahn grouping you can extract the ubahn with the regular expression ``'U[1-9]'``. The function should return the ubahn names ordered from most (first element) to least expensive (last element).\n",
    "\n",
    "\n",
    "```python\n",
    "\n",
    "def assignment_04_04(df):\n",
    "    df['ubahn'] = df['Zweck'].str.extract('(U[1-9])') ...\n",
    "    ...\n",
    "    return \n",
    "\n",
    "```\n"
   ]
  }
 ],
 "metadata": {
  "celltoolbar": "Slideshow",
  "kernelspec": {
   "display_name": "Python 3",
   "language": "python",
   "name": "python3"
  },
  "language_info": {
   "codemirror_mode": {
    "name": "ipython",
    "version": 3
   },
   "file_extension": ".py",
   "mimetype": "text/x-python",
   "name": "python",
   "nbconvert_exporter": "python",
   "pygments_lexer": "ipython3",
   "version": "3.7.0"
  }
 },
 "nbformat": 4,
 "nbformat_minor": 2
}
