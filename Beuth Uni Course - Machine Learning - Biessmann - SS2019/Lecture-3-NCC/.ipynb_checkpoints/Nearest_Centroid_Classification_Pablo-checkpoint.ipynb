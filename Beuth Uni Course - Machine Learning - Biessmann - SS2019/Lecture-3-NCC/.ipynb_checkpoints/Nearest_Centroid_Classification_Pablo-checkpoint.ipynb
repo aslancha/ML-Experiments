{
 "cells": [
  {
   "cell_type": "markdown",
   "metadata": {},
   "source": [
    "# Nearest Centroid Classification\n",
    "\n",
    "The following example illustrates the nearest centroid classification algorithm on a number of different data sets."
   ]
  },
  {
   "cell_type": "code",
   "execution_count": 3,
   "metadata": {},
   "outputs": [],
   "source": [
    "# imports for plotting, numerical operations\n",
    "import matplotlib.pylab as pl\n",
    "import numpy as np\n",
    "from numpy.random import multivariate_normal as mvn\n",
    "%matplotlib inline"
   ]
  },
  {
   "cell_type": "markdown",
   "metadata": {},
   "source": [
    "## Data Generation Functions\n",
    "\n",
    "The following functions generate \n",
    "- two class data set with spherical covariance (uncorrelated data)\n",
    "- two class data set with non-spherical covariance (correlated data)\n",
    "- three class data set with non-spherical covariance (correlated data)\n"
   ]
  },
  {
   "cell_type": "code",
   "execution_count": 4,
   "metadata": {},
   "outputs": [],
   "source": [
    "def make_data_threeclass(N=90):\n",
    "    mu = np.array([[0,3],[0,-3],[2,1]]).T\n",
    "    C = np.array([[5.,4.],[4.,5.]])\n",
    "    n_samples_per_class = int(N/3)\n",
    "    X = np.hstack((\n",
    "        mvn(mu[:,0],C,n_samples_per_class).T,\n",
    "        mvn(mu[:,1],C,n_samples_per_class).T,\n",
    "        mvn(mu[:,2],C,n_samples_per_class).T))\n",
    "    labels = np.ones(n_samples_per_class, dtype=int)\n",
    "    y = np.hstack((labels,2*labels,3*labels))-1\n",
    "    # generates some toy data\n",
    "    return X.T,y.T\n",
    "\n",
    "def make_data_twoclass(N=100):\n",
    "    # generates some toy data\n",
    "    mu = np.array([[0,3],[0,-3]]).T\n",
    "    n_samples_per_class = int(N/2)\n",
    "    C = np.array([[5.,4.],[4.,5.]])\n",
    "    X = np.hstack((\n",
    "            mvn(mu[:,0],C,n_samples_per_class).T, \n",
    "            mvn(mu[:,1],C,n_samples_per_class).T\n",
    "        ))\n",
    "    y = np.hstack((np.zeros((n_samples_per_class)),(np.ones((n_samples_per_class)))))\n",
    "    return X.T,y.T\n",
    "    \n",
    "\n",
    "def make_data_spherical(N=100):\n",
    "    # generates some toy data\n",
    "    mu = np.array([[0,3],[0,-3]]).T\n",
    "    n_samples_per_class = int(N/2)\n",
    "    C = np.eye(2)\n",
    "    X = np.hstack((\n",
    "        mvn(mu[:,0],C,n_samples_per_class).T, \n",
    "        mvn(mu[:,1],C,n_samples_per_class).T\n",
    "    ))\n",
    "    y = np.hstack((np.zeros((n_samples_per_class)),(np.ones((n_samples_per_class)))))\n",
    "    return X.T,y.T\n",
    "\n",
    "\n",
    "def make_plot_nclass(X,y,mu=None):\n",
    "    colors = \"brymcwg\"\n",
    "    \n",
    "    if mu is not None:\n",
    "        # Plot the decision boundary.\n",
    "        h = .02 # stepsize in mesh\n",
    "        x_min, x_max = X[:, 0].min() - 1, X[:, 0].max() + 1\n",
    "        y_min, y_max = X[:, 1].min() - 1, X[:, 1].max() + 1\n",
    "        xx, yy = np.meshgrid(np.arange(x_min, x_max, h),\n",
    "                         np.arange(y_min, y_max, h))\n",
    "        Z = predict_ncc(np.c_[xx.ravel(), yy.ravel()],mu)\n",
    "        Z = Z.reshape(xx.shape)\n",
    "        cs = pl.contourf(xx, yy, Z, cmap=pl.cm.Paired,alpha=.6)\n",
    "\n",
    "    # plot the data\n",
    "    for class_idx, class_name in enumerate(np.unique(y)):\n",
    "        idx = y == class_name\n",
    "        pl.plot(X[idx, 0], X[idx, 1], colors[int(class_idx)%6]+'o')\n",
    "        if mu is not None:\n",
    "            pl.plot(mu[class_idx, 0],mu[class_idx, 1],colors[int(class_idx)%6]+'o',markersize=20)\n",
    "\n",
    "    pl.axis('tight')\n",
    "    pl.xlabel('$X_1$')\n",
    "    pl.ylabel('$X_2$')"
   ]
  },
  {
   "cell_type": "markdown",
   "metadata": {},
   "source": [
    "## Example: Plotting some artificial data\n",
    "\n",
    "We generate 100 2D data points with different means and spherical covariance and plot the data set."
   ]
  },
  {
   "cell_type": "code",
   "execution_count": 5,
   "metadata": {},
   "outputs": [
    {
     "data": {
      "image/png": "[encoded data removed]",
      "text/plain": [
       "<Figure size 432x288 with 1 Axes>"
      ]
     },
     "metadata": {
      "needs_background": "light"
     },
     "output_type": "display_data"
    }
   ],
   "source": [
    "# generate some artificial data\n",
    "X, Y = make_data_spherical()\n",
    "make_plot_nclass(X,Y)\n",
    "pl.axis('equal');"
   ]
  },
  {
   "cell_type": "markdown",
   "metadata": {},
   "source": [
    "## Nearest Centroid Classification Algorithm\n",
    "\n",
    "Implement the code stubs that perform nearest centroid classification training and prediction"
   ]
  },
  {
   "cell_type": "code",
   "execution_count": 6,
   "metadata": {
    "scrolled": true
   },
   "outputs": [],
   "source": [
    "def fit_ncc(X,Y):\n",
    "    \n",
    "    '''\n",
    "    Input: \n",
    "    X samples-by-data-dimensions data matrix\n",
    "    Y label vector\n",
    "    '''\n",
    "\n",
    "    mu = []\n",
    "    for classname in np.unique(Y):\n",
    "        mu.append(X[(Y==classname),:].mean(axis=0))\n",
    "    mu = np.array(mu)\n",
    "    \n",
    "    '''\n",
    "    Output: \n",
    "    mu class means stored in a number-of-classes-by-data-dimensions matrix\n",
    "    '''\n",
    "    return mu\n",
    "    \n",
    "\n",
    "    \n",
    "def predict_ncc(X,mu):\n",
    "\n",
    "    '''\n",
    "    Performs neares centroid prediction\n",
    "    \n",
    "    Input: \n",
    "    X samples-by-data-dimensions data matrix\n",
    "    mu class means stored in a number-of-classes-by-data-dimensions matrix\n",
    "    '''\n",
    "         \n",
    "    Y_predicted = []\n",
    "    for x in X:\n",
    "        Y_predicted.append(np.argmin(np.linalg.norm(mu-x, axis = 1)))\n",
    "    Y_predicted = np.array(Y_predicted)\n",
    "    \n",
    "    '''\n",
    "    Output:\n",
    "    Y_predicted prediction as vector of length samples\n",
    "    '''\n",
    "    return Y_predicted\n",
    "\n",
    "\n",
    "    \n"
   ]
  },
  {
   "cell_type": "markdown",
   "metadata": {},
   "source": [
    "## Nearest Centroid Classification Application Example\n",
    "\n",
    "The following cell runs three different examples and shows the classification of the NCC classifier"
   ]
  },
  {
   "cell_type": "code",
   "execution_count": 7,
   "metadata": {},
   "outputs": [
    {
     "data": {
      "image/png": "[encoded data removed]",
      "text/plain": [
       "<Figure size 936x288 with 3 Axes>"
      ]
     },
     "metadata": {
      "needs_background": "light"
     },
     "output_type": "display_data"
    }
   ],
   "source": [
    "pl.figure(figsize=(13,4))\n",
    "\n",
    "pl.subplot(1,3,1)\n",
    "X, Y = make_data_spherical()\n",
    "mu = fit_ncc(X,Y)\n",
    "make_plot_nclass(X, Y, mu)\n",
    "pl.title('Spherical two class')\n",
    "\n",
    "pl.subplot(1,3,2)\n",
    "X, Y = make_data_twoclass()\n",
    "mu = fit_ncc(X,Y)\n",
    "make_plot_nclass(X, Y, mu)\n",
    "pl.title('Correlated features two class')\n",
    "\n",
    "pl.subplot(1,3,3)\n",
    "X, Y = make_data_threeclass()\n",
    "mu = fit_ncc(X,Y)\n",
    "make_plot_nclass(X, Y, mu)\n",
    "pl.title('Correlated features three class');"
   ]
  },
  {
   "cell_type": "code",
   "execution_count": null,
   "metadata": {},
   "outputs": [],
   "source": []
  }
 ],
 "metadata": {
  "kernelspec": {
   "display_name": "Python 3",
   "language": "python",
   "name": "python3"
  },
  "language_info": {
   "codemirror_mode": {
    "name": "ipython",
    "version": 3
   },
   "file_extension": ".py",
   "mimetype": "text/x-python",
   "name": "python",
   "nbconvert_exporter": "python",
   "pygments_lexer": "ipython3",
   "version": "3.6.5"
  }
 },
 "nbformat": 4,
 "nbformat_minor": 2
}
