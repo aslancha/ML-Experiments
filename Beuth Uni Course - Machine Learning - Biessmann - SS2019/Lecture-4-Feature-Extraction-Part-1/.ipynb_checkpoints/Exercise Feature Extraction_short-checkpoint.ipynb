{
 "cells": [
  {
   "cell_type": "markdown",
   "metadata": {},
   "source": [
    "# Assignment 1 - Normalizing Continuous Features\n",
    "\n",
    "Consider data drawn from a 2 dimensional Normal distribution. \n",
    "Normalize the data by first subtracting the mean from each dimension and then divide the result by its respective standard deviation. "
   ]
  },
  {
   "cell_type": "code",
   "execution_count": 2,
   "metadata": {},
   "outputs": [
    {
     "data": {
      "text/plain": [
       "(-10, 10)"
      ]
     },
     "execution_count": 2,
     "metadata": {},
     "output_type": "execute_result"
    },
    {
     "data": {
      "image/png": "[encoded data removed]",
      "text/plain": [
       "<Figure size 432x288 with 1 Axes>"
      ]
     },
     "metadata": {
      "needs_background": "light"
     },
     "output_type": "display_data"
    }
   ],
   "source": [
    "import matplotlib.pylab as plt\n",
    "import numpy as np\n",
    "from numpy.random import multivariate_normal as mvn\n",
    "%matplotlib inline\n",
    "\n",
    "# generates some toy data\n",
    "mu = np.array([0,3])\n",
    "C = np.array([[5.,4.],[4.,5.]])\n",
    "X = mvn(mu,C,100)\n",
    "\n",
    "# plot the data\n",
    "plt.plot(X[:,0], X[:,1], '.')\n",
    "plt.grid()\n",
    "lim = [-10, 10]\n",
    "plt.xlim(lim)\n",
    "plt.ylim(lim)"
   ]
  },
  {
   "cell_type": "code",
   "execution_count": 3,
   "metadata": {},
   "outputs": [
    {
     "data": {
      "text/plain": [
       "array([-0.11900661,  2.77274402])"
      ]
     },
     "execution_count": 3,
     "metadata": {},
     "output_type": "execute_result"
    }
   ],
   "source": [
    "mu = X.mean(axis=0)\n",
    "mu"
   ]
  },
  {
   "cell_type": "code",
   "execution_count": 4,
   "metadata": {},
   "outputs": [
    {
     "data": {
      "text/plain": [
       "array([2.21134784, 2.21192981])"
      ]
     },
     "execution_count": 4,
     "metadata": {},
     "output_type": "execute_result"
    }
   ],
   "source": [
    "stdev = X.std(axis=0)\n",
    "stdev"
   ]
  },
  {
   "cell_type": "code",
   "execution_count": 14,
   "metadata": {},
   "outputs": [],
   "source": [
    "Xnormalized = (X-mu)/np.var(X, axis=0)\n"
   ]
  },
  {
   "cell_type": "code",
   "execution_count": 6,
   "metadata": {},
   "outputs": [
    {
     "data": {
      "text/plain": [
       "(-10, 10)"
      ]
     },
     "execution_count": 6,
     "metadata": {},
     "output_type": "execute_result"
    },
    {
     "data": {
      "image/png": "[encoded data removed]",
      "text/plain": [
       "<Figure size 432x288 with 1 Axes>"
      ]
     },
     "metadata": {
      "needs_background": "light"
     },
     "output_type": "display_data"
    }
   ],
   "source": [
    "# plot the data\n",
    "plt.plot(Xnormalized[:,0], Xnormalized[:,1], '.')\n",
    "plt.grid()\n",
    "lim = [-10, 10]\n",
    "plt.xlim(lim)\n",
    "plt.ylim(lim)"
   ]
  },
  {
   "cell_type": "markdown",
   "metadata": {},
   "source": [
    "# Assignment 2 - One-Hot Encoding\n",
    "\n",
    "Consider the data set ['blue', 'yellow', 'blue', 'green', 'red', 'yellow']\n",
    "\n",
    "Write a function ``one_hot_encoding`` that takes a list of strings like the above and returns a samples-by-unique-items numpy array in which each row corresponds to the one-hot-encoded version of the respective data point in the original list."
   ]
  },
  {
   "cell_type": "code",
   "execution_count": 7,
   "metadata": {},
   "outputs": [],
   "source": [
    "data = ['blue', 'yellow', 'blue', 'green', 'red', 'yellow']"
   ]
  },
  {
   "cell_type": "code",
   "execution_count": 33,
   "metadata": {},
   "outputs": [],
   "source": [
    "def one_hot_encoding(string_list):\n",
    "    unique_list = np.unique(string_list)   \n",
    "    onehot = []\n",
    "    for string in string_list:\n",
    "        onehot_element = 1*(unique_list == string)\n",
    "        onehot.append(onehot_element)\n",
    "    onehot = np.array(onehot)\n",
    "    return onehot"
   ]
  },
  {
   "cell_type": "code",
   "execution_count": 34,
   "metadata": {},
   "outputs": [
    {
     "data": {
      "text/plain": [
       "array([[1, 0, 0, 0],\n",
       "       [0, 0, 0, 1],\n",
       "       [1, 0, 0, 0],\n",
       "       [0, 1, 0, 0],\n",
       "       [0, 0, 1, 0],\n",
       "       [0, 0, 0, 1]])"
      ]
     },
     "execution_count": 34,
     "metadata": {},
     "output_type": "execute_result"
    }
   ],
   "source": [
    "one_hot_encoded_data = one_hot_encoding(data)\n",
    "one_hot_encoded_data"
   ]
  },
  {
   "cell_type": "code",
   "execution_count": 36,
   "metadata": {},
   "outputs": [],
   "source": [
    "# tests whether the first row encoding is the same as the third\n",
    "assert (one_hot_encoded_data[0,:] - one_hot_encoded_data[2,:]).sum() == 0\n",
    "# tests whether the second row encoding is the same as the last\n",
    "assert (one_hot_encoded_data[1,:] - one_hot_encoded_data[-1,:]).sum() == 0\n",
    "# tests whether each row has only one non-zero entry\n",
    "assert (one_hot_encoded_data.sum(axis=1) - np.ones(one_hot_encoded_data.shape[0])).sum() == 0"
   ]
  }
 ],
 "metadata": {
  "kernelspec": {
   "display_name": "Python 3",
   "language": "python",
   "name": "python3"
  },
  "language_info": {
   "codemirror_mode": {
    "name": "ipython",
    "version": 3
   },
   "file_extension": ".py",
   "mimetype": "text/x-python",
   "name": "python",
   "nbconvert_exporter": "python",
   "pygments_lexer": "ipython3",
   "version": "3.6.5"
  }
 },
 "nbformat": 4,
 "nbformat_minor": 2
}
