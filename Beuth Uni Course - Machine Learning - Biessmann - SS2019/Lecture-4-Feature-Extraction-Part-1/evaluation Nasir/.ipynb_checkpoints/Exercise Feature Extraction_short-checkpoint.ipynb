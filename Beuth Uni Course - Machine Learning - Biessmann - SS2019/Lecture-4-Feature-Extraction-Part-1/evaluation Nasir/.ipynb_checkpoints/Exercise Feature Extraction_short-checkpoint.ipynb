{
 "cells": [
  {
   "cell_type": "markdown",
   "metadata": {},
   "source": [
    "# Assignment 1 - Normalizing Continuous Features\n",
    "\n",
    "Consider data drawn from a 2 dimensional Normal distribution. \n",
    "Normalize the data by first subtracting the mean from each dimension and then divide the result by its respective standard deviation. "
   ]
  },
  {
   "cell_type": "code",
   "execution_count": 1,
   "metadata": {},
   "outputs": [
    {
     "data": {
      "text/plain": [
       "(-10, 10)"
      ]
     },
     "execution_count": 1,
     "metadata": {},
     "output_type": "execute_result"
    },
    {
     "data": {
      "image/png": "[encoded data removed]",
      "text/plain": [
       "<Figure size 432x288 with 1 Axes>"
      ]
     },
     "metadata": {
      "needs_background": "light"
     },
     "output_type": "display_data"
    }
   ],
   "source": [
    "import matplotlib.pylab as plt\n",
    "import numpy as np\n",
    "from numpy.random import multivariate_normal as mvn\n",
    "%matplotlib inline\n",
    "\n",
    "# generates some toy data\n",
    "mu = np.array([0,3])\n",
    "C = np.array([[5.,4.],[4.,5.]])\n",
    "X = mvn(mu,C,100)\n",
    "\n",
    "# plot the data\n",
    "plt.plot(X[:,0], X[:,1], '.')\n",
    "plt.grid()\n",
    "lim = [-10, 10]\n",
    "plt.xlim(lim)\n",
    "plt.ylim(lim)"
   ]
  },
  {
   "cell_type": "code",
   "execution_count": 2,
   "metadata": {},
   "outputs": [
    {
     "data": {
      "text/plain": [
       "array([0.31548218, 3.10037432])"
      ]
     },
     "execution_count": 2,
     "metadata": {},
     "output_type": "execute_result"
    }
   ],
   "source": [
    "mu = X.mean(axis=0)\n",
    "mu"
   ]
  },
  {
   "cell_type": "code",
   "execution_count": 5,
   "metadata": {},
   "outputs": [
    {
     "data": {
      "text/plain": [
       "array([2.33574019, 2.3654833 ])"
      ]
     },
     "execution_count": 5,
     "metadata": {},
     "output_type": "execute_result"
    }
   ],
   "source": [
    "stdev = X.std(axis=0)\n",
    "stdev"
   ]
  },
  {
   "cell_type": "code",
   "execution_count": 4,
   "metadata": {},
   "outputs": [
    {
     "name": "stdout",
     "output_type": "stream",
     "text": [
      "[[ 4.06282823e+00  6.31256141e+00]\n",
      " [ 1.31689029e+00  1.87604453e+00]\n",
      " [-8.72822440e-01  2.65096708e+00]\n",
      " [ 1.90026007e+00  2.50134379e+00]\n",
      " [-1.72683470e-01 -5.05222278e-02]\n",
      " [-2.87552368e+00 -2.06004332e-01]\n",
      " [-5.36653272e-01  2.31821621e-03]\n",
      " [-6.22364638e-01  2.91585979e-01]\n",
      " [-6.83973726e-01  1.39296386e+00]\n",
      " [-1.73174281e+00 -1.71213702e-01]\n",
      " [-2.74191230e+00  7.88548803e-01]\n",
      " [ 3.32830840e+00  4.85555842e+00]\n",
      " [-3.65669145e+00 -8.64617326e-01]\n",
      " [ 2.24944877e+00  2.36368269e+00]\n",
      " [-7.93572793e-01  7.93855258e-01]\n",
      " [-1.08235711e+00  5.43781367e-01]\n",
      " [-2.12437772e+00  5.28681221e-02]\n",
      " [-1.94082859e-02  1.82512544e-01]\n",
      " [-3.45530238e+00 -3.72441137e-02]\n",
      " [ 1.86423902e+00  4.07708280e+00]\n",
      " [-1.81064617e+00  3.50574989e-01]\n",
      " [ 1.47548421e+00  3.39050204e+00]\n",
      " [ 6.62877448e-01  5.69221556e-01]\n",
      " [-8.28509543e-01  2.75571898e+00]\n",
      " [ 6.23449284e-02  2.41941443e+00]\n",
      " [ 4.60638229e+00  5.12294092e+00]\n",
      " [ 3.31240070e+00  3.52883704e+00]\n",
      " [ 4.92775486e-01  2.63616447e+00]\n",
      " [-3.83671400e-02  1.23814567e+00]\n",
      " [ 6.53823404e-01  2.21667478e+00]\n",
      " [ 3.36585713e+00  3.93185969e+00]\n",
      " [ 1.84297052e+00  4.15686173e+00]\n",
      " [-1.79814304e+00  1.91841944e+00]\n",
      " [-8.03725013e-02 -3.35005714e-01]\n",
      " [-8.18654470e-01 -4.87916736e-01]\n",
      " [ 2.84054730e+00  4.75637131e+00]\n",
      " [-1.10919136e+00  3.82894314e+00]\n",
      " [-7.79592961e-02  1.12748686e+00]\n",
      " [ 3.46430943e+00  2.09293581e+00]\n",
      " [-3.81240868e+00 -1.28008049e+00]\n",
      " [-6.02425458e+00 -4.04169668e+00]\n",
      " [-4.43379057e-01  2.78690265e+00]\n",
      " [ 3.70927033e+00  3.86804804e+00]\n",
      " [-6.63164327e-01  1.88404790e+00]\n",
      " [-1.15637890e-02 -7.06859871e-01]\n",
      " [-3.22567995e+00 -1.39261824e+00]\n",
      " [-4.08942021e+00  5.19289487e-01]\n",
      " [ 9.66158066e-01  9.80900793e-01]\n",
      " [-1.66995007e+00  2.40611274e+00]\n",
      " [-5.19089106e+00 -2.06640615e+00]\n",
      " [ 4.16662771e+00  4.91819963e+00]\n",
      " [-4.53352353e+00 -5.03352566e+00]\n",
      " [ 2.31807170e+00  5.36757426e+00]\n",
      " [ 9.27259812e-01  2.29272088e+00]\n",
      " [-1.20001399e+00 -6.96134771e-01]\n",
      " [ 1.51334965e+00  1.18375624e+00]\n",
      " [ 1.56970639e+00  6.84903348e+00]\n",
      " [-8.07882968e-01  1.58382698e+00]\n",
      " [ 1.70665883e+00  4.07455171e+00]\n",
      " [ 6.14499302e+00  4.96599709e+00]\n",
      " [ 3.89317037e-01  2.97471424e+00]\n",
      " [ 7.22452171e-01  4.53337797e+00]\n",
      " [ 2.19630422e+00  3.76439877e+00]\n",
      " [ 4.37048468e-01  2.68534962e+00]\n",
      " [-2.79242984e+00  6.19055296e-01]\n",
      " [ 1.02209304e+00  3.09246323e+00]\n",
      " [ 5.77159268e+00  5.66728801e+00]\n",
      " [-6.84393363e-01  1.62671106e+00]\n",
      " [ 3.22321499e-01  3.68321163e+00]\n",
      " [-3.03395309e+00 -6.80881232e-01]\n",
      " [ 1.21011040e+00  4.00200135e-01]\n",
      " [-1.02121449e+00  4.55676905e-01]\n",
      " [ 1.74267651e+00  4.23636200e+00]\n",
      " [-1.06753597e-04  1.61923847e+00]\n",
      " [ 7.42355324e-01  3.17500525e+00]\n",
      " [-7.76225677e-01 -4.94715842e-01]\n",
      " [-5.53616676e-01  3.60163467e+00]\n",
      " [ 2.68848392e+00  4.11842026e+00]\n",
      " [-9.59326035e-01 -6.92643674e-01]\n",
      " [ 2.17083975e+00  3.23033348e+00]\n",
      " [ 8.53845222e-01  2.87069293e+00]\n",
      " [-3.42985287e+00 -8.88451449e-01]\n",
      " [ 1.68308675e+00  3.49675975e+00]\n",
      " [-2.46197328e+00  4.46352147e-01]\n",
      " [-6.05102847e-01  5.76931802e-01]\n",
      " [-1.00288379e+00 -7.55930525e-01]\n",
      " [ 2.18582983e+00  1.66798747e+00]\n",
      " [ 5.63972430e-01  3.10539939e-01]\n",
      " [-2.27397991e+00  9.41940830e-01]\n",
      " [-2.36245211e+00 -1.06528679e+00]\n",
      " [ 3.31411527e-01  3.29424023e+00]\n",
      " [-1.05086653e+00  2.56309281e+00]\n",
      " [ 3.50610383e+00  1.26414954e+00]\n",
      " [-2.77597023e+00 -1.46251602e+00]\n",
      " [-5.96221749e-01  1.25526518e+00]\n",
      " [-3.66890872e+00 -9.71607442e-01]\n",
      " [-1.01679456e+00  3.85408043e-01]\n",
      " [-1.69609295e+00  3.61384551e-01]\n",
      " [ 4.69457582e-01  3.76329489e+00]\n",
      " [-1.55622430e+00  6.89321059e-02]]\n"
     ]
    }
   ],
   "source": [
    "stdev = X.std(axis=0)\n",
    "stdev\n",
    "# Xnormalized = ...\n",
    "import matplotlib.pylab as plt\n",
    "import numpy as np\n",
    "from numpy.random import multivariate_normal as mvn\n",
    "%matplotlib inline\n",
    "Xnormalized=X-mu/stdev\n",
    "print(Xnormalized)"
   ]
  },
  {
   "cell_type": "code",
   "execution_count": 8,
   "metadata": {},
   "outputs": [
    {
     "data": {
      "text/plain": [
       "(-10, 10)"
      ]
     },
     "execution_count": 8,
     "metadata": {},
     "output_type": "execute_result"
    },
    {
     "data": {
      "image/png": "[encoded data removed]",
      "text/plain": [
       "<Figure size 432x288 with 1 Axes>"
      ]
     },
     "metadata": {
      "needs_background": "light"
     },
     "output_type": "display_data"
    }
   ],
   "source": [
    "# plot the data\n",
    "plt.plot(Xnormalized[:,0], Xnormalized[:,1], '.')\n",
    "plt.grid()\n",
    "lim = [-10, 10]\n",
    "plt.xlim(lim)\n",
    "plt.ylim(lim)\n",
    "\n",
    "\n"
   ]
  },
  {
   "cell_type": "markdown",
   "metadata": {},
   "source": [
    "# Assignment 2 - One-Hot Encoding\n",
    "\n",
    "Consider the data set ['blue', 'yellow', 'blue', 'green', 'red', 'yellow']\n",
    "\n",
    "Write a function ``one_hot_encoding`` that takes a list of strings like the above and returns a samples-by-unique-items numpy array in which each row corresponds to the one-hot-encoded version of the respective data point in the original list."
   ]
  },
  {
   "cell_type": "code",
   "execution_count": 17,
   "metadata": {},
   "outputs": [],
   "source": [
    "data = ['blue', 'yellow', 'blue', 'green', 'red', 'yellow']"
   ]
  },
  {
   "cell_type": "code",
   "execution_count": 44,
   "metadata": {},
   "outputs": [
    {
     "data": {
      "text/plain": [
       "array([[1., 0., 0., 0.],\n",
       "       [0., 0., 0., 1.],\n",
       "       [1., 0., 0., 0.],\n",
       "       [0., 1., 0., 0.],\n",
       "       [0., 0., 1., 0.],\n",
       "       [0., 0., 0., 1.]])"
      ]
     },
     "execution_count": 44,
     "metadata": {},
     "output_type": "execute_result"
    }
   ],
   "source": [
    "from sklearn.preprocessing import OneHotEncoder\n",
    "enc = OneHotEncoder()\n",
    "X = [['blue'], ['yellow'],['blue'], ['green'], ['red'],['yellow']]\n",
    "enc.fit(X)\n",
    "enc.transform([['blue'], ['yellow'],['blue'], ['green'], ['red'],['yellow']]).toarray()\n"
   ]
  },
  {
   "cell_type": "code",
   "execution_count": 40,
   "metadata": {},
   "outputs": [
    {
     "data": {
      "text/plain": [
       "list"
      ]
     },
     "execution_count": 40,
     "metadata": {},
     "output_type": "execute_result"
    }
   ],
   "source": [
    "one_hot_encoded_data = X\n",
    "one_hot_encoded_data\n",
    "type(one_hot_encoded_data)"
   ]
  },
  {
   "cell_type": "code",
   "execution_count": 41,
   "metadata": {},
   "outputs": [
    {
     "ename": "TypeError",
     "evalue": "list indices must be integers or slices, not tuple",
     "output_type": "error",
     "traceback": [
      "\u001b[1;31m---------------------------------------------------------------------------\u001b[0m",
      "\u001b[1;31mTypeError\u001b[0m                                 Traceback (most recent call last)",
      "\u001b[1;32m<ipython-input-41-f07f764a28fb>\u001b[0m in \u001b[0;36m<module>\u001b[1;34m\u001b[0m\n\u001b[0;32m      1\u001b[0m \u001b[1;31m# tests whether the first row encoding is the same as the third\u001b[0m\u001b[1;33m\u001b[0m\u001b[1;33m\u001b[0m\u001b[1;33m\u001b[0m\u001b[0m\n\u001b[1;32m----> 2\u001b[1;33m \u001b[1;32massert\u001b[0m \u001b[1;33m(\u001b[0m\u001b[0mone_hot_encoded_data\u001b[0m\u001b[1;33m[\u001b[0m\u001b[1;36m0\u001b[0m\u001b[1;33m,\u001b[0m\u001b[1;33m:\u001b[0m\u001b[1;33m]\u001b[0m \u001b[1;33m-\u001b[0m \u001b[0mone_hot_encoded_data\u001b[0m\u001b[1;33m[\u001b[0m\u001b[1;36m2\u001b[0m\u001b[1;33m,\u001b[0m\u001b[1;33m:\u001b[0m\u001b[1;33m]\u001b[0m\u001b[1;33m)\u001b[0m\u001b[1;33m.\u001b[0m\u001b[0msum\u001b[0m\u001b[1;33m(\u001b[0m\u001b[1;33m)\u001b[0m \u001b[1;33m==\u001b[0m \u001b[1;36m0\u001b[0m\u001b[1;33m\u001b[0m\u001b[1;33m\u001b[0m\u001b[0m\n\u001b[0m\u001b[0;32m      3\u001b[0m \u001b[1;32mdef\u001b[0m \u001b[0mone_hot_encoded_data\u001b[0m\u001b[1;33m(\u001b[0m\u001b[0mX\u001b[0m\u001b[1;33m)\u001b[0m\u001b[1;33m:\u001b[0m\u001b[1;33m\u001b[0m\u001b[1;33m\u001b[0m\u001b[0m\n\u001b[0;32m      4\u001b[0m     \u001b[1;32massert\u001b[0m \u001b[1;33m(\u001b[0m\u001b[0mone_hot_encoded_data\u001b[0m\u001b[1;33m[\u001b[0m\u001b[1;36m0\u001b[0m\u001b[1;33m,\u001b[0m\u001b[1;33m:\u001b[0m\u001b[1;33m]\u001b[0m \u001b[1;33m-\u001b[0m \u001b[0mone_hot_encoded_data\u001b[0m\u001b[1;33m[\u001b[0m\u001b[1;36m2\u001b[0m\u001b[1;33m,\u001b[0m\u001b[1;33m:\u001b[0m\u001b[1;33m]\u001b[0m\u001b[1;33m)\u001b[0m\u001b[1;33m.\u001b[0m\u001b[0msum\u001b[0m\u001b[1;33m(\u001b[0m\u001b[1;33m)\u001b[0m \u001b[1;33m==\u001b[0m \u001b[1;36m0\u001b[0m\u001b[1;33m\u001b[0m\u001b[1;33m\u001b[0m\u001b[0m\n\u001b[0;32m      5\u001b[0m     \u001b[1;32mreturn\u001b[0m \u001b[0mone_hot_encoded_data\u001b[0m\u001b[1;33m(\u001b[0m\u001b[0mX\u001b[0m\u001b[1;33m)\u001b[0m\u001b[1;33m\u001b[0m\u001b[1;33m\u001b[0m\u001b[0m\n",
      "\u001b[1;31mTypeError\u001b[0m: list indices must be integers or slices, not tuple"
     ]
    }
   ],
   "source": [
    "# tests whether the first row encoding is the same as the third\n",
    "assert (one_hot_encoded_data[0,:] - one_hot_encoded_data[2,:]).sum() == 0\n",
    "# tests whether the second row encoding is the same as the last\n",
    "assert (one_hot_encoded_data[1,:] - one_hot_encoded_data[-1,:]).sum() == 0\n",
    "# tests whether each row has only one non-zero entry\n",
    "assert (one_hot_encoded_data.sum(axis=1) - np.ones(one_hot_encoded_data.shape[0])).sum() == 0"
   ]
  },
  {
   "cell_type": "code",
   "execution_count": 14,
   "metadata": {},
   "outputs": [
    {
     "data": {
      "text/plain": [
       "array([[1., 0., 0., 0.],\n",
       "       [0., 0., 0., 1.],\n",
       "       [1., 0., 0., 0.],\n",
       "       [0., 1., 0., 0.],\n",
       "       [0., 0., 1., 0.],\n",
       "       [0., 0., 0., 1.]])"
      ]
     },
     "execution_count": 14,
     "metadata": {},
     "output_type": "execute_result"
    }
   ],
   "source": [
    "from sklearn.preprocessing import OneHotEncoder\n",
    "enc = OneHotEncoder()\n",
    "X = [['blue'], ['yellow'],['blue'], ['green'], ['red'],['yellow']]\n",
    "enc.fit(X)\n",
    "enc.transform([['blue'], ['yellow'],['blue'], ['green'], ['red'],['yellow']]).toarray()\n"
   ]
  },
  {
   "cell_type": "code",
   "execution_count": 39,
   "metadata": {},
   "outputs": [
    {
     "data": {
      "text/plain": [
       "list"
      ]
     },
     "execution_count": 39,
     "metadata": {},
     "output_type": "execute_result"
    }
   ],
   "source": [
    "type(X)"
   ]
  },
  {
   "cell_type": "code",
   "execution_count": 15,
   "metadata": {},
   "outputs": [
    {
     "data": {
      "text/plain": [
       "array([[1., 0., 0., 0.],\n",
       "       [0., 0., 0., 1.],\n",
       "       [1., 0., 0., 0.],\n",
       "       [0., 1., 0., 0.],\n",
       "       [0., 0., 1., 0.],\n",
       "       [0., 0., 0., 1.]])"
      ]
     },
     "execution_count": 15,
     "metadata": {},
     "output_type": "execute_result"
    }
   ],
   "source": [
    "from sklearn.preprocessing import OneHotEncoder\n",
    "enc = OneHotEncoder()\n",
    "X = [['blue'], ['yellow'],['blue'], ['green'], ['red'],['yellow']]\n",
    "enc.fit(X)\n",
    "enc.transform([['blue'], ['yellow'],['blue'], ['green'], ['red'],['yellow']]).toarray()\n"
   ]
  },
  {
   "cell_type": "code",
   "execution_count": 4,
   "metadata": {},
   "outputs": [
    {
     "name": "stdout",
     "output_type": "stream",
     "text": [
      "[[0. 0. 0. 1.]\n",
      " [0. 1. 0. 0.]\n",
      " [1. 0. 0. 0.]\n",
      " [0. 0. 0. 1.]\n",
      " [0. 0. 0. 1.]\n",
      " [0. 1. 0. 0.]\n",
      " [0. 0. 0. 1.]\n",
      " [1. 0. 0. 0.]\n",
      " [0. 0. 1. 0.]]\n"
     ]
    },
    {
     "name": "stderr",
     "output_type": "stream",
     "text": [
      "C:\\Users\\Hamza Rostocker\\Anaconda3\\lib\\site-packages\\sklearn\\preprocessing\\label.py:235: DataConversionWarning: A column-vector y was passed when a 1d array was expected. Please change the shape of y to (n_samples, ), for example using ravel().\n",
      "  y = column_or_1d(y, warn=True)\n",
      "C:\\Users\\Hamza Rostocker\\Anaconda3\\lib\\site-packages\\sklearn\\preprocessing\\_encoders.py:368: FutureWarning: The handling of integer data will change in version 0.22. Currently, the categories are determined based on the range [0, max(values)], while in the future they will be determined based on the unique values.\n",
      "If you want the future behaviour and silence this warning, you can specify \"categories='auto'\".\n",
      "In case you used a LabelEncoder before this OneHotEncoder to convert the categories to integers, then you can now use the OneHotEncoder directly.\n",
      "  warnings.warn(msg, FutureWarning)\n"
     ]
    }
   ],
   "source": [
    "from numpy import array\n",
    "\n",
    "from sklearn.preprocessing import LabelEncoder\n",
    "\n",
    "from sklearn.preprocessing import OneHotEncoder\n",
    "\n",
    "enc = OneHotEncoder()\n",
    "\n",
    "X = [['red'], ['green'], ['blue'], ['red'],['red'],['green'],['red'],['blue'],['orange']]\n",
    "\n",
    "# converting to array\n",
    "\n",
    "values = array(X)\n",
    "\n",
    "# integer encode\n",
    "\n",
    "label_encoder = LabelEncoder()\n",
    "\n",
    "integer_encoded = label_encoder.fit_transform(values)\n",
    "\n",
    "# binary encode\n",
    "\n",
    "onehot_encoder = OneHotEncoder(sparse=False)\n",
    "\n",
    "integer_encoded = integer_encoded.reshape(len(integer_encoded), 1)\n",
    "\n",
    "onehot_encoded = onehot_encoder.fit_transform(integer_encoded)\n",
    "print(onehot_encoded)"
   ]
  },
  {
   "cell_type": "code",
   "execution_count": null,
   "metadata": {},
   "outputs": [],
   "source": []
  }
 ],
 "metadata": {
  "kernelspec": {
   "display_name": "Python 3",
   "language": "python",
   "name": "python3"
  },
  "language_info": {
   "codemirror_mode": {
    "name": "ipython",
    "version": 3
   },
   "file_extension": ".py",
   "mimetype": "text/x-python",
   "name": "python",
   "nbconvert_exporter": "python",
   "pygments_lexer": "ipython3",
   "version": "3.6.5"
  }
 },
 "nbformat": 4,
 "nbformat_minor": 2
}
