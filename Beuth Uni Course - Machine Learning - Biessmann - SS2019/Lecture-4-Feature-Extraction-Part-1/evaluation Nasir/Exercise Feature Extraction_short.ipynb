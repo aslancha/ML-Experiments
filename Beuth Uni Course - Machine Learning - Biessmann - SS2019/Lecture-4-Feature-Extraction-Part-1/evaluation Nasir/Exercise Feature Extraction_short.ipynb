{
 "cells": [
  {
   "cell_type": "markdown",
   "metadata": {},
   "source": [
    "# Assignment 1 - Normalizing Continuous Features\n",
    "\n",
    "Consider data drawn from a 2 dimensional Normal distribution. \n",
    "Normalize the data by first subtracting the mean from each dimension and then divide the result by its respective standard deviation. "
   ]
  },
  {
   "cell_type": "code",
   "execution_count": 1,
   "metadata": {},
   "outputs": [
    {
     "data": {
      "text/plain": [
       "(-10, 10)"
      ]
     },
     "execution_count": 1,
     "metadata": {},
     "output_type": "execute_result"
    },
    {
     "data": {
      "image/png": "[encoded data removed]",
      "text/plain": [
       "<Figure size 432x288 with 1 Axes>"
      ]
     },
     "metadata": {
      "needs_background": "light"
     },
     "output_type": "display_data"
    }
   ],
   "source": [
    "import matplotlib.pylab as plt\n",
    "import numpy as np\n",
    "from numpy.random import multivariate_normal as mvn\n",
    "%matplotlib inline\n",
    "\n",
    "# generates some toy data\n",
    "mu = np.array([0,3])\n",
    "C = np.array([[5.,4.],[4.,5.]])\n",
    "X = mvn(mu,C,100)\n",
    "\n",
    "# plot the data\n",
    "plt.plot(X[:,0], X[:,1], '.')\n",
    "plt.grid()\n",
    "lim = [-10, 10]\n",
    "plt.xlim(lim)\n",
    "plt.ylim(lim)"
   ]
  },
  {
   "cell_type": "code",
   "execution_count": 2,
   "metadata": {},
   "outputs": [
    {
     "data": {
      "text/plain": [
       "array([0.16076044, 2.97165157])"
      ]
     },
     "execution_count": 2,
     "metadata": {},
     "output_type": "execute_result"
    }
   ],
   "source": [
    "mu = X.mean(axis=0)\n",
    "mu"
   ]
  },
  {
   "cell_type": "code",
   "execution_count": 3,
   "metadata": {},
   "outputs": [
    {
     "data": {
      "text/plain": [
       "array([2.33946117, 2.49289696])"
      ]
     },
     "execution_count": 3,
     "metadata": {},
     "output_type": "execute_result"
    }
   ],
   "source": [
    "stdev = X.std(axis=0)\n",
    "stdev"
   ]
  },
  {
   "cell_type": "code",
   "execution_count": 4,
   "metadata": {},
   "outputs": [
    {
     "name": "stdout",
     "output_type": "stream",
     "text": [
      "[[ 3.54603461  7.29290003]\n",
      " [-1.2088415   1.5167728 ]\n",
      " [ 2.2706858   4.23621039]\n",
      " [ 0.04593426  2.91996231]\n",
      " [-1.46091592  1.10203186]\n",
      " [-0.55924811 -2.1920068 ]\n",
      " [-1.61915086 -1.83878691]\n",
      " [ 2.26429404  2.27798311]\n",
      " [-0.24496318  2.59773741]\n",
      " [ 2.85876994  4.03251254]\n",
      " [-1.51762617  1.32492357]\n",
      " [-1.52777039  0.22174058]\n",
      " [-0.13287756 -0.16911489]\n",
      " [-0.6733285   0.67655808]\n",
      " [-2.88247659 -0.36836394]\n",
      " [-3.25808194 -0.80469562]\n",
      " [ 0.99291392  1.02936253]\n",
      " [-1.4309492   0.16357186]\n",
      " [-5.60597599 -2.85310913]\n",
      " [-1.94412269 -1.47779029]\n",
      " [ 0.37668115  2.56716641]\n",
      " [-2.19877664 -2.54061029]\n",
      " [-0.23333123  0.97087657]\n",
      " [-4.65837636 -1.79467506]\n",
      " [-0.19356143  0.49396519]\n",
      " [-0.30903832 -1.88011411]\n",
      " [-2.98999033 -2.4308399 ]\n",
      " [-0.91758939  2.19575003]\n",
      " [-0.70709342  1.97236797]\n",
      " [-0.37583303  2.49161784]\n",
      " [ 0.50486481  2.27167619]\n",
      " [ 2.73200761  3.49012318]\n",
      " [-4.76038442 -3.31549422]\n",
      " [ 0.06690747  1.75933191]\n",
      " [-0.39048878  3.13484805]\n",
      " [ 2.22552567  3.98313842]\n",
      " [-2.94471554 -1.03072287]\n",
      " [-1.22934825  1.96958348]\n",
      " [ 1.03199813  2.68085163]\n",
      " [ 3.22619001  5.33764488]\n",
      " [ 0.22920739  3.81170094]\n",
      " [ 0.29923615  1.90493678]\n",
      " [ 2.33112179  6.45312729]\n",
      " [-0.02771296  0.672486  ]\n",
      " [-1.58109806 -0.37747333]\n",
      " [ 2.70083025  3.38085615]\n",
      " [-0.68909003 -0.07251222]\n",
      " [ 0.4248599   1.24168304]\n",
      " [ 6.46055414  7.6653144 ]\n",
      " [ 0.65703533  3.45576508]\n",
      " [-1.02115532 -1.22063469]\n",
      " [ 0.04048801  1.80470258]\n",
      " [-3.46774103 -0.02023529]\n",
      " [ 4.30841182  5.89244789]\n",
      " [-0.40659478 -0.7992471 ]\n",
      " [ 3.77094384  3.88309044]\n",
      " [ 3.62286034  6.18980495]\n",
      " [ 5.52856198  4.81200716]\n",
      " [ 0.24096977  2.91856947]\n",
      " [ 0.89540002  1.54240841]\n",
      " [ 1.69591725  2.9364136 ]\n",
      " [ 3.32313356  6.45267768]\n",
      " [ 1.39609738  1.71394863]\n",
      " [-0.58721712  0.09641599]\n",
      " [-3.67668076  0.18746408]\n",
      " [ 3.11325588  5.44373773]\n",
      " [ 6.40630866  6.83484841]\n",
      " [-1.95815926  0.56689024]\n",
      " [-1.46729048  2.04429625]\n",
      " [ 0.48272593  3.04794486]\n",
      " [-0.90150525  2.03170653]\n",
      " [-1.75497378  1.22390448]\n",
      " [ 1.79370302  2.0150797 ]\n",
      " [-0.81846833 -0.07993571]\n",
      " [-0.50675689 -0.29947883]\n",
      " [ 1.67002996  2.45303081]\n",
      " [ 0.08722506  3.50049427]\n",
      " [-3.47233336 -3.36628295]\n",
      " [-1.99779247  0.38904772]\n",
      " [ 0.07637638  2.78393176]\n",
      " [-0.75028589  2.31148283]\n",
      " [-0.78702117  1.20534041]\n",
      " [-1.46179823  0.75519386]\n",
      " [ 0.90121597  1.541414  ]\n",
      " [-3.28383852  0.03425751]\n",
      " [ 1.46300725  3.25410896]\n",
      " [-1.01901115  1.11454355]\n",
      " [-3.00190313 -2.95368472]\n",
      " [ 3.41151567  4.76335354]\n",
      " [ 2.19111467  2.26789172]\n",
      " [-1.4821557   2.24237709]\n",
      " [ 1.47313195  3.89231275]\n",
      " [ 1.26190866  4.30841297]\n",
      " [ 1.45789977 -0.0397847 ]\n",
      " [ 1.09476294  3.89619964]\n",
      " [-1.24782466 -0.66743061]\n",
      " [ 0.84592224  3.35387289]\n",
      " [ 4.53932153  7.0297955 ]\n",
      " [ 2.91225658  5.33255742]\n",
      " [-2.70249686 -0.8116249 ]]\n"
     ]
    }
   ],
   "source": [
    "stdev = X.std(axis=0)\n",
    "stdev\n",
    "# Xnormalized = ...\n",
    "import matplotlib.pylab as plt\n",
    "import numpy as np\n",
    "from numpy.random import multivariate_normal as mvn\n",
    "%matplotlib inline\n",
    "Xnormalized=(X-mu)/stdev # CORRECTED: added brackets (X-mu)/stdev\n",
    "print(Xnormalized)"
   ]
  },
  {
   "cell_type": "code",
   "execution_count": 5,
   "metadata": {},
   "outputs": [
    {
     "data": {
      "text/plain": [
       "(-10, 10)"
      ]
     },
     "execution_count": 5,
     "metadata": {},
     "output_type": "execute_result"
    },
    {
     "data": {
      "image/png": "[encoded data removed]",
      "text/plain": [
       "<Figure size 432x288 with 1 Axes>"
      ]
     },
     "metadata": {
      "needs_background": "light"
     },
     "output_type": "display_data"
    }
   ],
   "source": [
    "# plot the data\n",
    "plt.plot(Xnormalized[:,0], Xnormalized[:,1], '.')\n",
    "plt.grid()\n",
    "lim = [-10, 10]\n",
    "plt.xlim(lim)\n",
    "plt.ylim(lim)\n",
    "\n",
    "\n"
   ]
  },
  {
   "cell_type": "markdown",
   "metadata": {},
   "source": [
    "# Assignment 2 - One-Hot Encoding\n",
    "\n",
    "Consider the data set ['blue', 'yellow', 'blue', 'green', 'red', 'yellow']\n",
    "\n",
    "Write a function ``one_hot_encoding`` that takes a list of strings like the above and returns a samples-by-unique-items numpy array in which each row corresponds to the one-hot-encoded version of the respective data point in the original list."
   ]
  },
  {
   "cell_type": "code",
   "execution_count": 6,
   "metadata": {},
   "outputs": [],
   "source": [
    "data = ['blue', 'yellow', 'blue', 'green', 'red', 'yellow']"
   ]
  },
  {
   "cell_type": "code",
   "execution_count": 7,
   "metadata": {},
   "outputs": [
    {
     "name": "stdout",
     "output_type": "stream",
     "text": [
      "Requirement already satisfied: sklearn in c:\\users\\user\\google drive\\beuth\\ss2019\\ml\\venv\\lib\\site-packages (0.0)\n",
      "Requirement already satisfied: scikit-learn in c:\\users\\user\\google drive\\beuth\\ss2019\\ml\\venv\\lib\\site-packages (from sklearn) (0.21.1)\n",
      "Requirement already satisfied: numpy>=1.11.0 in c:\\users\\user\\google drive\\beuth\\ss2019\\ml\\venv\\lib\\site-packages (from scikit-learn->sklearn) (1.16.2)\n",
      "Requirement already satisfied: scipy>=0.17.0 in c:\\users\\user\\google drive\\beuth\\ss2019\\ml\\venv\\lib\\site-packages (from scikit-learn->sklearn) (1.2.1)\n",
      "Requirement already satisfied: joblib>=0.11 in c:\\users\\user\\google drive\\beuth\\ss2019\\ml\\venv\\lib\\site-packages (from scikit-learn->sklearn) (0.13.2)\n"
     ]
    },
    {
     "name": "stderr",
     "output_type": "stream",
     "text": [
      "You are using pip version 19.0.3, however version 19.1.1 is available.\n",
      "You should consider upgrading via the 'python -m pip install --upgrade pip' command.\n"
     ]
    }
   ],
   "source": [
    "!pip install sklearn \n",
    "# CORRECTED: You need to add this line"
   ]
  },
  {
   "cell_type": "code",
   "execution_count": 8,
   "metadata": {},
   "outputs": [
    {
     "data": {
      "text/plain": [
       "array([[1., 0., 0., 0.],\n",
       "       [0., 0., 0., 1.],\n",
       "       [1., 0., 0., 0.],\n",
       "       [0., 1., 0., 0.],\n",
       "       [0., 0., 1., 0.],\n",
       "       [0., 0., 0., 1.]])"
      ]
     },
     "execution_count": 8,
     "metadata": {},
     "output_type": "execute_result"
    }
   ],
   "source": [
    "from sklearn.preprocessing import OneHotEncoder\n",
    "enc = OneHotEncoder()\n",
    "X = [['blue'], ['yellow'],['blue'], ['green'], ['red'],['yellow']]\n",
    "enc.fit(X)\n",
    "enc.transform([['blue'], ['yellow'],['blue'], ['green'], ['red'],['yellow']]).toarray() # CORRECTED: you need to return integers rather than floats\n",
    "# ADVICE: reuse the data from above\n"
   ]
  },
  {
   "cell_type": "code",
   "execution_count": 22,
   "metadata": {},
   "outputs": [
    {
     "data": {
      "text/plain": [
       "numpy.ndarray"
      ]
     },
     "execution_count": 22,
     "metadata": {},
     "output_type": "execute_result"
    }
   ],
   "source": [
    "one_hot_encoded_data = np.array(X) # CORRECTED: np.array(...) was missing \n",
    "one_hot_encoded_data\n",
    "type(one_hot_encoded_data)"
   ]
  },
  {
   "cell_type": "code",
   "execution_count": 20,
   "metadata": {},
   "outputs": [
    {
     "ename": "TypeError",
     "evalue": "ufunc 'subtract' did not contain a loop with signature matching types dtype('<U6') dtype('<U6') dtype('<U6')",
     "output_type": "error",
     "traceback": [
      "\u001b[1;31m---------------------------------------------------------------------------\u001b[0m",
      "\u001b[1;31mTypeError\u001b[0m                                 Traceback (most recent call last)",
      "\u001b[1;32m<ipython-input-20-89b6ca140df4>\u001b[0m in \u001b[0;36m<module>\u001b[1;34m\u001b[0m\n\u001b[0;32m      1\u001b[0m \u001b[1;31m# tests whether the first row encoding is the same as the third\u001b[0m\u001b[1;33m\u001b[0m\u001b[1;33m\u001b[0m\u001b[0m\n\u001b[1;32m----> 2\u001b[1;33m \u001b[1;32massert\u001b[0m \u001b[1;33m(\u001b[0m\u001b[0mone_hot_encoded_data\u001b[0m\u001b[1;33m[\u001b[0m\u001b[1;36m0\u001b[0m\u001b[1;33m,\u001b[0m\u001b[1;33m:\u001b[0m\u001b[1;33m]\u001b[0m \u001b[1;33m-\u001b[0m \u001b[0mone_hot_encoded_data\u001b[0m\u001b[1;33m[\u001b[0m\u001b[1;36m2\u001b[0m\u001b[1;33m,\u001b[0m\u001b[1;33m:\u001b[0m\u001b[1;33m]\u001b[0m\u001b[1;33m)\u001b[0m\u001b[1;33m.\u001b[0m\u001b[0msum\u001b[0m\u001b[1;33m(\u001b[0m\u001b[1;33m)\u001b[0m \u001b[1;33m==\u001b[0m \u001b[1;36m0\u001b[0m\u001b[1;33m\u001b[0m\u001b[0m\n\u001b[0m\u001b[0;32m      3\u001b[0m \u001b[1;31m# tests whether the second row encoding is the same as the last\u001b[0m\u001b[1;33m\u001b[0m\u001b[1;33m\u001b[0m\u001b[0m\n\u001b[0;32m      4\u001b[0m \u001b[1;32massert\u001b[0m \u001b[1;33m(\u001b[0m\u001b[0mone_hot_encoded_data\u001b[0m\u001b[1;33m[\u001b[0m\u001b[1;36m1\u001b[0m\u001b[1;33m,\u001b[0m\u001b[1;33m:\u001b[0m\u001b[1;33m]\u001b[0m \u001b[1;33m-\u001b[0m \u001b[0mone_hot_encoded_data\u001b[0m\u001b[1;33m[\u001b[0m\u001b[1;33m-\u001b[0m\u001b[1;36m1\u001b[0m\u001b[1;33m,\u001b[0m\u001b[1;33m:\u001b[0m\u001b[1;33m]\u001b[0m\u001b[1;33m)\u001b[0m\u001b[1;33m.\u001b[0m\u001b[0msum\u001b[0m\u001b[1;33m(\u001b[0m\u001b[1;33m)\u001b[0m \u001b[1;33m==\u001b[0m \u001b[1;36m0\u001b[0m\u001b[1;33m\u001b[0m\u001b[0m\n\u001b[0;32m      5\u001b[0m \u001b[1;31m# tests whether each row has only one non-zero entry\u001b[0m\u001b[1;33m\u001b[0m\u001b[1;33m\u001b[0m\u001b[0m\n",
      "\u001b[1;31mTypeError\u001b[0m: ufunc 'subtract' did not contain a loop with signature matching types dtype('<U6') dtype('<U6') dtype('<U6')"
     ]
    }
   ],
   "source": [
    "# tests whether the first row encoding is the same as the third\n",
    "assert (one_hot_encoded_data[0,:] - one_hot_encoded_data[2,:]).sum() == 0\n",
    "# tests whether the second row encoding is the same as the last\n",
    "assert (one_hot_encoded_data[1,:] - one_hot_encoded_data[-1,:]).sum() == 0\n",
    "# tests whether each row has only one non-zero entry\n",
    "assert (one_hot_encoded_data.sum(axis=1) - np.ones(one_hot_encoded_data.shape[0])).sum() == 0"
   ]
  },
  {
   "cell_type": "code",
   "execution_count": null,
   "metadata": {},
   "outputs": [],
   "source": [
    "from sklearn.preprocessing import OneHotEncoder\n",
    "enc = OneHotEncoder()\n",
    "X = [['blue'], ['yellow'],['blue'], ['green'], ['red'],['yellow']]\n",
    "enc.fit(X)\n",
    "enc.transform([['blue'], ['yellow'],['blue'], ['green'], ['red'],['yellow']]).toarray()\n"
   ]
  },
  {
   "cell_type": "code",
   "execution_count": null,
   "metadata": {},
   "outputs": [],
   "source": [
    "type(X)"
   ]
  },
  {
   "cell_type": "code",
   "execution_count": null,
   "metadata": {},
   "outputs": [],
   "source": [
    "from sklearn.preprocessing import OneHotEncoder\n",
    "enc = OneHotEncoder()\n",
    "X = [['blue'], ['yellow'],['blue'], ['green'], ['red'],['yellow']]\n",
    "enc.fit(X)\n",
    "enc.transform([['blue'], ['yellow'],['blue'], ['green'], ['red'],['yellow']]).toarray()\n"
   ]
  },
  {
   "cell_type": "code",
   "execution_count": null,
   "metadata": {},
   "outputs": [],
   "source": [
    "from numpy import array\n",
    "\n",
    "from sklearn.preprocessing import LabelEncoder\n",
    "\n",
    "from sklearn.preprocessing import OneHotEncoder\n",
    "\n",
    "enc = OneHotEncoder()\n",
    "\n",
    "X = [['red'], ['green'], ['blue'], ['red'],['red'],['green'],['red'],['blue'],['orange']]\n",
    "\n",
    "# converting to array\n",
    "\n",
    "values = array(X)\n",
    "\n",
    "# integer encode\n",
    "\n",
    "label_encoder = LabelEncoder()\n",
    "\n",
    "integer_encoded = label_encoder.fit_transform(values)\n",
    "\n",
    "# binary encode\n",
    "\n",
    "onehot_encoder = OneHotEncoder(sparse=False)\n",
    "\n",
    "integer_encoded = integer_encoded.reshape(len(integer_encoded), 1)\n",
    "\n",
    "onehot_encoded = onehot_encoder.fit_transform(integer_encoded)\n",
    "print(onehot_encoded)"
   ]
  },
  {
   "cell_type": "code",
   "execution_count": null,
   "metadata": {},
   "outputs": [],
   "source": []
  }
 ],
 "metadata": {
  "kernelspec": {
   "display_name": "Python 3",
   "language": "python",
   "name": "python3"
  }
 },
 "nbformat": 4,
 "nbformat_minor": 2
}
